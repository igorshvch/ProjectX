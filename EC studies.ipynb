{
 "cells": [
  {
   "cell_type": "code",
   "execution_count": 1,
   "metadata": {},
   "outputs": [
    {
     "name": "stderr",
     "output_type": "stream",
     "text": [
      "2019-12-06 16:53:59,442 : INFO : Loading dictionaries from C:\\Users\\EA-ShevchenkoIS\\AppData\\Local\\Continuum\\anaconda3\\lib\\site-packages\\pymorphy2_dicts\\data\n",
      "2019-12-06 16:53:59,720 : INFO : format: 2.4, revision: 393442, updated: 2015-01-17T16:03:56.586168\n",
      "2019-12-06 16:53:59,853 : INFO : Loading dictionaries from C:\\Users\\EA-ShevchenkoIS\\AppData\\Local\\Continuum\\anaconda3\\lib\\site-packages\\pymorphy2_dicts\\data\n",
      "2019-12-06 16:53:59,908 : INFO : format: 2.4, revision: 393442, updated: 2015-01-17T16:03:56.586168\n"
     ]
    }
   ],
   "source": [
    "import logging\n",
    "logging.basicConfig(format='%(asctime)s : %(levelname)s : %(message)s', level=logging.INFO)\n",
    "import re\n",
    "from collections import Counter\n",
    "\n",
    "import gensim as gsm\n",
    "import pymorphy2 as pmr\n",
    "\n",
    "from guidialogs import ffp, fdp\n",
    "from textproc import rwtools\n",
    "from tempscripts import codeutils as cdu\n",
    "from tempscripts import corpproc as crp\n",
    "from tempscripts import iopickler as iop\n",
    "from tempscripts import reader_for_csv as rfc"
   ]
  },
  {
   "cell_type": "code",
   "execution_count": 2,
   "metadata": {},
   "outputs": [],
   "source": [
    "corp_it = rfc.CommonReader(fdp())\n",
    "corp_it.create_readers()"
   ]
  },
  {
   "cell_type": "code",
   "execution_count": 8,
   "metadata": {},
   "outputs": [
    {
     "name": "stdout",
     "output_type": "stream",
     "text": [
      "38171\n",
      "odict_keys(['Название документа', 'Источник публикации', 'Инф. сообщение', 'Примечание к документу', 'Документы ИРД для СОЮ', 'Дата первой инстанции', 'Суд первой инстанции', 'Судья', 'Номер в ИБ', 'Дата ввода/изменения (часть 1)', 'Дата ввода текста (часть 2)', 'Дата ввода вставки (часть 4)', 'Дата ввода дескр. текста (часть 3)', 'Дубли', 'Тематика', 'ККТ СОЮ', 'Способ классификации', 'Вид документа', 'Принявший орган', 'Дата', 'Номер', 'Объем документа', 'Служебные документы', 'Когда получен', 'Вид изменения текста и рисунков', 'Об изменении текста и рисунков', 'Обработка', 'Текст документа', 'Описание'])\n"
     ]
    }
   ],
   "source": [
    "print(len(corp_it))\n",
    "print(corp_it[0].keys())"
   ]
  },
  {
   "cell_type": "code",
   "execution_count": 9,
   "metadata": {},
   "outputs": [],
   "source": [
    "from datetime import date"
   ]
  },
  {
   "cell_type": "code",
   "execution_count": 12,
   "metadata": {},
   "outputs": [
    {
     "name": "stdout",
     "output_type": "stream",
     "text": [
      "max 2019-08-29\n",
      "min 2017-09-07\n"
     ]
    }
   ],
   "source": [
    "dates = [obj['Когда получен'] for obj in corp_it]\n",
    "print('max', max(dates))\n",
    "print('min', min(dates))"
   ]
  },
  {
   "cell_type": "code",
   "execution_count": 14,
   "metadata": {},
   "outputs": [
    {
     "name": "stdout",
     "output_type": "stream",
     "text": [
      "max 2019-08-16\n",
      "min 2005-03-04\n"
     ]
    }
   ],
   "source": [
    "dates2 = [obj['Дата'] for obj in corp_it]\n",
    "print('max', max(dates2))\n",
    "print('min', min(dates2))"
   ]
  },
  {
   "cell_type": "code",
   "execution_count": 17,
   "metadata": {},
   "outputs": [
    {
     "name": "stdout",
     "output_type": "stream",
     "text": [
      "doc # 0\n",
      "1996\n"
     ]
    }
   ],
   "source": [
    "for ind, doc in enumerate(corp_it):\n",
    "    if ind % 5000 == 0:\n",
    "        print('doc #', ind)\n",
    "    if '33-2838/2019' in doc['Номер']:\n",
    "        print(ind)\n",
    "        break"
   ]
  },
  {
   "cell_type": "code",
   "execution_count": 20,
   "metadata": {},
   "outputs": [
    {
     "name": "stdout",
     "output_type": "stream",
     "text": [
      "Апелляционное определение Пензенского областного суда от 06.08.2019 по делу N 33-2838/2019\n",
      "413346\n"
     ]
    }
   ],
   "source": [
    "print(corp_it[1996]['Название документа'], corp_it[1996]['Номер в ИБ'], sep='\\n')"
   ]
  },
  {
   "cell_type": "code",
   "execution_count": 21,
   "metadata": {},
   "outputs": [
    {
     "name": "stdout",
     "output_type": "stream",
     "text": [
      "doc # 0\n",
      "doc # 5000\n",
      "doc # 10000\n",
      "doc # 15000\n",
      "doc # 20000\n",
      "doc # 25000\n",
      "doc # 30000\n",
      "doc # 35000\n",
      "2017-09-07 : 453\n",
      "2017-09-13 : 355\n",
      "2017-09-21 : 330\n",
      "2017-09-28 : 1627\n",
      "2017-10-05 : 274\n",
      "2017-10-11 : 278\n",
      "2017-10-18 : 304\n",
      "2017-10-26 : 330\n",
      "2017-11-02 : 431\n",
      "2017-11-09 : 160\n",
      "2017-11-16 : 334\n",
      "2017-11-23 : 436\n",
      "2017-11-30 : 401\n",
      "2017-12-07 : 441\n",
      "2017-12-14 : 230\n",
      "2017-12-21 : 358\n",
      "2017-12-28 : 248\n",
      "2018-01-06 : 140\n",
      "2018-01-10 : 111\n",
      "2018-01-18 : 298\n",
      "2018-01-26 : 267\n",
      "2018-02-01 : 285\n",
      "2018-02-08 : 430\n",
      "2018-02-15 : 298\n",
      "2018-02-22 : 491\n",
      "2018-03-01 : 536\n",
      "2018-03-12 : 677\n",
      "2018-03-15 : 256\n",
      "2018-03-22 : 484\n",
      "2018-03-29 : 359\n",
      "2018-04-05 : 381\n",
      "2018-04-12 : 373\n",
      "2018-04-19 : 432\n",
      "2018-04-26 : 218\n",
      "2018-05-04 : 231\n",
      "2018-05-11 : 234\n",
      "2018-05-17 : 331\n",
      "2018-05-24 : 567\n",
      "2018-05-30 : 205\n",
      "2018-06-07 : 631\n",
      "2018-06-14 : 521\n",
      "2018-06-21 : 344\n",
      "2018-06-28 : 124\n",
      "2018-07-04 : 524\n",
      "2018-07-05 : 1\n",
      "2018-07-12 : 256\n",
      "2018-07-19 : 352\n",
      "2018-07-26 : 364\n",
      "2018-08-02 : 186\n",
      "2018-08-10 : 230\n",
      "2018-08-16 : 516\n",
      "2018-08-23 : 220\n",
      "2018-08-31 : 474\n",
      "2018-09-07 : 214\n",
      "2018-09-14 : 379\n",
      "2018-09-21 : 346\n",
      "2018-09-27 : 217\n",
      "2018-10-04 : 220\n",
      "2018-10-12 : 302\n",
      "2018-10-19 : 497\n",
      "2018-10-25 : 327\n",
      "2018-11-02 : 336\n",
      "2018-11-09 : 257\n",
      "2018-11-16 : 413\n",
      "2018-11-22 : 367\n",
      "2018-11-30 : 400\n",
      "2018-12-06 : 311\n",
      "2018-12-14 : 490\n",
      "2018-12-20 : 370\n",
      "2018-12-27 : 290\n",
      "2019-01-05 : 44\n",
      "2019-01-10 : 201\n",
      "2019-01-17 : 233\n",
      "2019-01-25 : 349\n",
      "2019-01-31 : 393\n",
      "2019-02-08 : 414\n",
      "2019-02-14 : 297\n",
      "2019-02-22 : 420\n",
      "2019-02-28 : 268\n",
      "2019-03-07 : 252\n",
      "2019-03-14 : 349\n",
      "2019-03-21 : 428\n",
      "2019-03-28 : 387\n",
      "2019-04-04 : 326\n",
      "2019-04-11 : 372\n",
      "2019-04-18 : 345\n",
      "2019-04-25 : 317\n",
      "2019-05-06 : 212\n",
      "2019-05-13 : 151\n",
      "2019-05-16 : 193\n",
      "2019-05-23 : 554\n",
      "2019-05-30 : 323\n",
      "2019-06-06 : 560\n",
      "2019-06-13 : 225\n",
      "2019-06-20 : 223\n",
      "2019-06-27 : 285\n",
      "2019-07-04 : 1786\n",
      "2019-07-11 : 1207\n",
      "2019-07-18 : 226\n",
      "2019-07-25 : 168\n",
      "2019-08-01 : 291\n",
      "2019-08-08 : 212\n",
      "2019-08-09 : 3\n",
      "2019-08-15 : 256\n",
      "2019-08-16 : 4\n",
      "2019-08-22 : 350\n",
      "2019-08-29 : 474\n"
     ]
    }
   ],
   "source": [
    "dct = {}\n",
    "for ind, doc in enumerate(corp_it):\n",
    "    if ind % 5000 == 0:\n",
    "        print('doc #', ind)\n",
    "    d = doc['Когда получен']\n",
    "    if d in dct:\n",
    "        dct[d] += 1\n",
    "    else:\n",
    "        dct[d] = 1\n",
    "srt_d = sorted(dct.items(), key=lambda x: x[0])\n",
    "for item in srt_d:\n",
    "    print('{} : {}'.format(item[0], item[1]))"
   ]
  }
 ],
 "metadata": {
  "kernelspec": {
   "display_name": "Python 3",
   "language": "python",
   "name": "python3"
  },
  "language_info": {
   "codemirror_mode": {
    "name": "ipython",
    "version": 3
   },
   "file_extension": ".py",
   "mimetype": "text/x-python",
   "name": "python",
   "nbconvert_exporter": "python",
   "pygments_lexer": "ipython3",
   "version": "3.6.6"
  }
 },
 "nbformat": 4,
 "nbformat_minor": 2
}
