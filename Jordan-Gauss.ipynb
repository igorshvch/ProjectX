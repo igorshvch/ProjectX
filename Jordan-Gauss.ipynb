{
 "cells": [
  {
   "cell_type": "code",
   "execution_count": 1,
   "metadata": {},
   "outputs": [
    {
     "name": "stdout",
     "output_type": "stream",
     "text": [
      "IPython console for SymPy 1.2 (Python 3.6.6-64-bit) (ground types: python)\n",
      "\n",
      "These commands were executed:\n",
      ">>> from __future__ import division\n",
      ">>> from sympy import *\n",
      ">>> x, y, z, t = symbols('x y z t')\n",
      ">>> k, m, n = symbols('k m n', integer=True)\n",
      ">>> f, g, h = symbols('f g h', cls=Function)\n",
      ">>> init_printing()\n",
      "\n",
      "Documentation can be found at http://docs.sympy.org/1.2/\n",
      "\n"
     ]
    }
   ],
   "source": [
    "import numpy as np\n",
    "import sympy as smp\n",
    "smp.init_session()"
   ]
  },
  {
   "cell_type": "code",
   "execution_count": 3,
   "metadata": {},
   "outputs": [],
   "source": [
    "a1 = np.array((3, -1,-1,1))\n",
    "a2 = np.array((-5,5,3,-1))\n",
    "a3 = np.array((7,7,5,3))\n",
    "a4 = np.array((1,1,-1,-3))"
   ]
  },
  {
   "cell_type": "code",
   "execution_count": 217,
   "metadata": {},
   "outputs": [],
   "source": [
    "p = np.array((-8, -4,2,0))\n",
    "q = np.array((-18, -8,3,1))"
   ]
  },
  {
   "cell_type": "code",
   "execution_count": 4,
   "metadata": {},
   "outputs": [
    {
     "data": {
      "text/plain": [
       "(array([ 3, -1, -1,  1]),\n",
       " array([1., 3., 1., 1.]),\n",
       " array([ 1., -1.,  3., -1.]),\n",
       " array([ 1.,  1., -1., -3.]))"
      ]
     },
     "execution_count": 4,
     "metadata": {},
     "output_type": "execute_result"
    }
   ],
   "source": [
    "e1 = a1\n",
    "e2 = a2 - (e1.dot(a2)/e1.dot(e1))*e1\n",
    "e3 = a3 - (e2.dot(a3)/e2.dot(e2))*e2 - (e1.dot(a3)/e1.dot(e1))*e1\n",
    "e4 = a4 - (e3.dot(a4)/e3.dot(e3))*e3 - (e2.dot(a4)/e2.dot(e2))*e2 - (e1.dot(a4)/e1.dot(e1))*e1\n",
    "e1, e2, e3, e4"
   ]
  },
  {
   "cell_type": "code",
   "execution_count": 210,
   "metadata": {},
   "outputs": [
    {
     "name": "stdout",
     "output_type": "stream",
     "text": [
      "<class 'sympy.core.numbers.Integer'>\n",
      "<class 'sympy.core.numbers.Integer'>\n",
      "<class 'sympy.core.numbers.Integer'>\n",
      "<class 'sympy.core.numbers.One'>\n",
      "<class 'sympy.core.numbers.NegativeOne'>\n",
      "<class 'sympy.core.numbers.Integer'>\n",
      "<class 'sympy.core.numbers.Integer'>\n",
      "<class 'sympy.core.numbers.One'>\n",
      "<class 'sympy.core.numbers.NegativeOne'>\n",
      "<class 'sympy.core.numbers.Integer'>\n",
      "<class 'sympy.core.numbers.Integer'>\n",
      "<class 'sympy.core.numbers.NegativeOne'>\n",
      "<class 'sympy.core.numbers.One'>\n",
      "<class 'sympy.core.numbers.NegativeOne'>\n",
      "<class 'sympy.core.numbers.Integer'>\n",
      "<class 'sympy.core.numbers.Integer'>\n"
     ]
    },
    {
     "data": {
      "text/latex": [
       "$$\\left[\\begin{matrix}3 & -5 & 7 & 1\\\\-1 & 5 & 7 & 1\\\\-1 & 3 & 5 & -1\\\\1 & -1 & 3 & -3\\end{matrix}\\right]$$"
      ],
      "text/plain": [
       "⎡3   -5  7  1 ⎤\n",
       "⎢             ⎥\n",
       "⎢-1  5   7  1 ⎥\n",
       "⎢             ⎥\n",
       "⎢-1  3   5  -1⎥\n",
       "⎢             ⎥\n",
       "⎣1   -1  3  -3⎦"
      ]
     },
     "execution_count": 210,
     "metadata": {},
     "output_type": "execute_result"
    }
   ],
   "source": [
    "A = np.matrix((a1, a2, a3, a4)).T\n",
    "rows = A.shape[0]\n",
    "cols = A.shape[1]\n",
    "IA = np.matrix((a1, a2, a3, a4)).T\n",
    "for x in range(rows):\n",
    "    for y in range(cols):\n",
    "        elem = smp.S(int(A[x,y]))\n",
    "        print(type(elem))\n",
    "        IA[x,y] = elem\n",
    "Am = smp.Matrix(IA)\n",
    "Am"
   ]
  },
  {
   "cell_type": "code",
   "execution_count": 45,
   "metadata": {
    "collapsed": true
   },
   "outputs": [
    {
     "name": "stdout",
     "output_type": "stream",
     "text": [
      "[[ 3.  1.  1.  1.]\n",
      " [-1.  3. -1.  1.]\n",
      " [-1.  1.  3. -1.]\n",
      " [ 1.  1. -1. -3.]]\n",
      "-144.0\n",
      "[[ 0.25       -0.08333333 -0.08333333  0.08333333]\n",
      " [ 0.08333333  0.25        0.08333333  0.08333333]\n",
      " [ 0.08333333 -0.08333333  0.25       -0.08333333]\n",
      " [ 0.08333333  0.08333333 -0.08333333 -0.25      ]]\n",
      "================================================================================================\n",
      "<class 'sympy.core.numbers.Integer'>\n",
      "<class 'sympy.core.numbers.One'>\n",
      "<class 'sympy.core.numbers.One'>\n",
      "<class 'sympy.core.numbers.One'>\n",
      "<class 'sympy.core.numbers.NegativeOne'>\n",
      "<class 'sympy.core.numbers.Integer'>\n",
      "<class 'sympy.core.numbers.NegativeOne'>\n",
      "<class 'sympy.core.numbers.One'>\n",
      "<class 'sympy.core.numbers.NegativeOne'>\n",
      "<class 'sympy.core.numbers.One'>\n",
      "<class 'sympy.core.numbers.Integer'>\n",
      "<class 'sympy.core.numbers.NegativeOne'>\n",
      "<class 'sympy.core.numbers.One'>\n",
      "<class 'sympy.core.numbers.One'>\n",
      "<class 'sympy.core.numbers.NegativeOne'>\n",
      "<class 'sympy.core.numbers.Integer'>\n",
      "[[ 3.  1.  1.  1.]\n",
      " [-1.  3. -1.  1.]\n",
      " [-1.  1.  3. -1.]\n",
      " [ 1.  1. -1. -3.]]\n",
      "<class 'sympy.core.numbers.Float'>\n",
      "<class 'sympy.core.numbers.Integer'>\n",
      "<class 'sympy.core.numbers.One'>\n",
      "<class 'sympy.core.numbers.One'>\n",
      "<class 'sympy.core.numbers.One'>\n",
      "<class 'sympy.core.numbers.NegativeOne'>\n",
      "<class 'sympy.core.numbers.Integer'>\n",
      "<class 'sympy.core.numbers.NegativeOne'>\n",
      "<class 'sympy.core.numbers.One'>\n",
      "<class 'sympy.core.numbers.NegativeOne'>\n",
      "<class 'sympy.core.numbers.One'>\n",
      "<class 'sympy.core.numbers.Integer'>\n",
      "<class 'sympy.core.numbers.NegativeOne'>\n",
      "<class 'sympy.core.numbers.One'>\n",
      "<class 'sympy.core.numbers.One'>\n",
      "<class 'sympy.core.numbers.NegativeOne'>\n",
      "<class 'sympy.core.numbers.Integer'>\n"
     ]
    },
    {
     "data": {
      "text/latex": [
       "$$\\left ( \\left[\\begin{matrix}3 & 1 & 1 & 1\\\\-1 & 3 & -1 & 1\\\\-1 & 1 & 3 & -1\\\\1 & 1 & -1 & -3\\end{matrix}\\right], \\quad \\left[\\begin{matrix}3 & 1 & 1 & 1\\\\-1 & 3 & -1 & 1\\\\-1 & 1 & 3 & -1\\\\1 & 1 & -1 & -3\\end{matrix}\\right]\\right )$$"
      ],
      "text/plain": [
       "⎛⎡3   1  1   1 ⎤  ⎡3   1  1   1 ⎤⎞\n",
       "⎜⎢             ⎥  ⎢             ⎥⎟\n",
       "⎜⎢-1  3  -1  1 ⎥  ⎢-1  3  -1  1 ⎥⎟\n",
       "⎜⎢             ⎥, ⎢             ⎥⎟\n",
       "⎜⎢-1  1  3   -1⎥  ⎢-1  1  3   -1⎥⎟\n",
       "⎜⎢             ⎥  ⎢             ⎥⎟\n",
       "⎝⎣1   1  -1  -3⎦  ⎣1   1  -1  -3⎦⎠"
      ]
     },
     "execution_count": 45,
     "metadata": {},
     "output_type": "execute_result"
    }
   ],
   "source": [
    "C = np.matrix((e1, e2, e3, e4)).T\n",
    "print(C)\n",
    "print(np.linalg.det(C))\n",
    "print(C.I)\n",
    "print('='*96)\n",
    "rows = C.shape[0]\n",
    "cols = C.shape[1]\n",
    "IC = np.matrix((e1, e2, e3, e4)).T\n",
    "for x in range(rows):\n",
    "    for y in range(cols):\n",
    "        elem = smp.S(int(C[x,y]))\n",
    "        print(type(elem))\n",
    "        IC[x,y] = elem\n",
    "Cm = smp.Matrix(IC)\n",
    "Cm_new = smp.Matrix(IC)\n",
    "print(IC)\n",
    "print(type(Cm[0,0]))\n",
    "for x in range(rows):\n",
    "    for y in range(cols):\n",
    "        elem = smp.S(int(Cm[x,y]))\n",
    "        print(type(elem))\n",
    "        Cm[x,y] = elem\n",
    "for x in range(rows):\n",
    "    for y in range(cols):\n",
    "        elem = smp.S(int(Cm_new[x,y]))\n",
    "        Cm_new[x,y] = elem\n",
    "Cm, Cm_new"
   ]
  },
  {
   "cell_type": "code",
   "execution_count": 238,
   "metadata": {},
   "outputs": [
    {
     "data": {
      "text/latex": [
       "$$\\left[\\begin{matrix}\\frac{1}{12} & 0 & 0 & 0\\\\0 & \\frac{1}{12} & 0 & 0\\\\0 & 0 & \\frac{1}{12} & 0\\\\0 & 0 & 0 & \\frac{1}{12}\\end{matrix}\\right]$$"
      ],
      "text/plain": [
       "⎡1/12   0     0     0  ⎤\n",
       "⎢                      ⎥\n",
       "⎢ 0    1/12   0     0  ⎥\n",
       "⎢                      ⎥\n",
       "⎢ 0     0    1/12   0  ⎥\n",
       "⎢                      ⎥\n",
       "⎣ 0     0     0    1/12⎦"
      ]
     },
     "execution_count": 238,
     "metadata": {},
     "output_type": "execute_result"
    }
   ],
   "source": [
    "Cm**-1,\n",
    "F1 = (Cm**-1)*(smp.S(1)/smp.sqrt(12))\n",
    "F2 = Cm*(smp.S(1)/smp.sqrt(12))\n",
    "F1*F2"
   ]
  },
  {
   "cell_type": "code",
   "execution_count": 215,
   "metadata": {},
   "outputs": [
    {
     "data": {
      "text/latex": [
       "$$\\left[\\begin{matrix}1 & -2 & 1 & 0\\\\0 & 1 & 3 & 0\\\\0 & 0 & 1 & 0\\\\0 & 0 & 0 & 1\\end{matrix}\\right]$$"
      ],
      "text/plain": [
       "⎡1  -2  1  0⎤\n",
       "⎢           ⎥\n",
       "⎢0  1   3  0⎥\n",
       "⎢           ⎥\n",
       "⎢0  0   1  0⎥\n",
       "⎢           ⎥\n",
       "⎣0  0   0  1⎦"
      ]
     },
     "execution_count": 215,
     "metadata": {},
     "output_type": "execute_result"
    }
   ],
   "source": [
    "Pi = (Cm**-1)*Am\n",
    "Pi"
   ]
  },
  {
   "cell_type": "code",
   "execution_count": 228,
   "metadata": {},
   "outputs": [
    {
     "data": {
      "text/latex": [
       "$$\\left ( \\left[\\begin{matrix}\\frac{\\sqrt{3}}{3}\\\\\\frac{\\sqrt{3}}{3}\\\\\\frac{\\sqrt{3}}{3}\\\\0\\end{matrix}\\right], \\quad \\left[\\begin{matrix}\\frac{\\sqrt{3}}{6}\\\\\\frac{\\sqrt{3}}{6}\\\\\\frac{\\sqrt{3}}{2}\\\\\\frac{\\sqrt{3}}{6}\\end{matrix}\\right], \\quad \\left[\\begin{matrix}2\\\\2\\\\2\\\\0\\end{matrix}\\right], \\quad \\left[\\begin{matrix}1\\\\1\\\\3\\\\1\\end{matrix}\\right]\\right )$$"
      ],
      "text/plain": [
       "⎛      ⎡√3⎤          ⎞\n",
       "⎜⎡√3⎤  ⎢──⎥          ⎟\n",
       "⎜⎢──⎥  ⎢6 ⎥          ⎟\n",
       "⎜⎢3 ⎥  ⎢  ⎥          ⎟\n",
       "⎜⎢  ⎥  ⎢√3⎥  ⎡2⎤  ⎡1⎤⎟\n",
       "⎜⎢√3⎥  ⎢──⎥  ⎢ ⎥  ⎢ ⎥⎟\n",
       "⎜⎢──⎥  ⎢6 ⎥  ⎢2⎥  ⎢1⎥⎟\n",
       "⎜⎢3 ⎥, ⎢  ⎥, ⎢ ⎥, ⎢ ⎥⎟\n",
       "⎜⎢  ⎥  ⎢√3⎥  ⎢2⎥  ⎢3⎥⎟\n",
       "⎜⎢√3⎥  ⎢──⎥  ⎢ ⎥  ⎢ ⎥⎟\n",
       "⎜⎢──⎥  ⎢2 ⎥  ⎣0⎦  ⎣1⎦⎟\n",
       "⎜⎢3 ⎥  ⎢  ⎥          ⎟\n",
       "⎜⎢  ⎥  ⎢√3⎥          ⎟\n",
       "⎜⎣0 ⎦  ⎢──⎥          ⎟\n",
       "⎝      ⎣6 ⎦          ⎠"
      ]
     },
     "execution_count": 228,
     "metadata": {},
     "output_type": "execute_result"
    }
   ],
   "source": [
    "pM = smp.Matrix([[-8], [-4], [2], [0]])\n",
    "qM = smp.Matrix([[-18], [-8], [3], [1]])\n",
    "pMb = Pi*(smp.S(1)/smp.sqrt(12))*pM\n",
    "qMb = Pi*(smp.S(1)/smp.sqrt(12))*qM\n",
    "pMb, qMb, Pi*pM, Pi*qM"
   ]
  },
  {
   "cell_type": "code",
   "execution_count": 231,
   "metadata": {},
   "outputs": [
    {
     "data": {
      "image/png": "[encoded data removed]",
      "text/latex": [
       "$$\\left ( \\frac{5}{6}, \\quad \\frac{5}{6}\\right )$$"
      ],
      "text/plain": [
       "(5/6, 5/6)"
      ]
     },
     "execution_count": 231,
     "metadata": {},
     "output_type": "execute_result"
    }
   ],
   "source": [
    "pMb.dot(qMb), qMb.dot(pMb)"
   ]
  },
  {
   "cell_type": "code",
   "execution_count": 234,
   "metadata": {},
   "outputs": [
    {
     "data": {
      "image/png": "[encoded data removed]",
      "text/latex": [
       "$$\\left ( 1, \\quad 1\\right )$$"
      ],
      "text/plain": [
       "(1, 1)"
      ]
     },
     "execution_count": 234,
     "metadata": {},
     "output_type": "execute_result"
    }
   ],
   "source": [
    "pMb.norm(), qMb.norm()"
   ]
  },
  {
   "cell_type": "code",
   "execution_count": 235,
   "metadata": {},
   "outputs": [
    {
     "data": {
      "image/png": "[encoded data removed]",
      "text/latex": [
       "$$\\frac{5}{6}$$"
      ],
      "text/plain": [
       "5/6"
      ]
     },
     "execution_count": 235,
     "metadata": {},
     "output_type": "execute_result"
    }
   ],
   "source": [
    "pMb.dot(qMb)/pMb.norm()*qMb.norm()"
   ]
  },
  {
   "cell_type": "code",
   "execution_count": 55,
   "metadata": {
    "collapsed": true
   },
   "outputs": [
    {
     "data": {
      "text/latex": [
       "$$\\left[\\begin{matrix}\\frac{1}{16} & - \\frac{1}{48} & - \\frac{1}{48} & \\frac{1}{48}\\end{matrix}\\right]$$"
      ],
      "text/plain": [
       "[1/16  -1/48  -1/48  1/48]"
      ]
     },
     "execution_count": 55,
     "metadata": {},
     "output_type": "execute_result"
    }
   ],
   "source": [
    "Cm2 = Cm**-1\n",
    "Cm2[0,:]*(smp.S(1)/4)"
   ]
  },
  {
   "cell_type": "code",
   "execution_count": 42,
   "metadata": {
    "collapsed": true
   },
   "outputs": [
    {
     "data": {
      "text/latex": [
       "$$\\left[\\begin{matrix}1 & 0 & 0 & 0\\\\0 & 1 & 0 & 0\\\\0 & 0 & 1 & 0\\\\0 & 0 & 0 & 1\\end{matrix}\\right]$$"
      ],
      "text/plain": [
       "⎡1  0  0  0⎤\n",
       "⎢          ⎥\n",
       "⎢0  1  0  0⎥\n",
       "⎢          ⎥\n",
       "⎢0  0  1  0⎥\n",
       "⎢          ⎥\n",
       "⎣0  0  0  1⎦"
      ]
     },
     "execution_count": 42,
     "metadata": {},
     "output_type": "execute_result"
    }
   ],
   "source": [
    "E = smp.eye(4)\n",
    "E"
   ]
  },
  {
   "cell_type": "code",
   "execution_count": 45,
   "metadata": {
    "collapsed": true
   },
   "outputs": [
    {
     "data": {
      "text/latex": [
       "$$\\left[\\begin{matrix}1 & 0 & 0 & 0\\\\0 & 1 & 0 & 0\\\\0 & 0 & 1 & 0\\\\0 & 0 & 0 & 1\\end{matrix}\\right]$$"
      ],
      "text/plain": [
       "⎡1  0  0  0⎤\n",
       "⎢          ⎥\n",
       "⎢0  1  0  0⎥\n",
       "⎢          ⎥\n",
       "⎢0  0  1  0⎥\n",
       "⎢          ⎥\n",
       "⎣0  0  0  1⎦"
      ]
     },
     "execution_count": 45,
     "metadata": {},
     "output_type": "execute_result"
    }
   ],
   "source": [
    "Cm*Cm2"
   ]
  },
  {
   "cell_type": "code",
   "execution_count": 9,
   "metadata": {
    "collapsed": true
   },
   "outputs": [
    {
     "data": {
      "text/latex": [
       "$$\\left ( \\left[\\begin{matrix}3 & 1 & 1 & 1\\\\-1 & 3 & -1 & 1\\\\-1 & 1 & 3 & -1\\\\1 & 1 & -1 & -3\\end{matrix}\\right], \\quad \\left[\\begin{matrix}\\frac{1}{4} & - \\frac{1}{12} & - \\frac{1}{12} & \\frac{1}{12}\\\\\\frac{1}{12} & \\frac{1}{4} & \\frac{1}{12} & \\frac{1}{12}\\\\\\frac{1}{12} & - \\frac{1}{12} & \\frac{1}{4} & - \\frac{1}{12}\\\\\\frac{1}{12} & \\frac{1}{12} & - \\frac{1}{12} & - \\frac{1}{4}\\end{matrix}\\right], \\quad \\left ( 4, \\quad 4\\right )\\right )$$"
      ],
      "text/plain": [
       "⎛⎡3   1  1   1 ⎤  ⎡1/4   -1/12  -1/12  1/12 ⎤        ⎞\n",
       "⎜⎢             ⎥  ⎢                         ⎥        ⎟\n",
       "⎜⎢-1  3  -1  1 ⎥  ⎢1/12   1/4   1/12   1/12 ⎥        ⎟\n",
       "⎜⎢             ⎥, ⎢                         ⎥, (4, 4)⎟\n",
       "⎜⎢-1  1  3   -1⎥  ⎢1/12  -1/12   1/4   -1/12⎥        ⎟\n",
       "⎜⎢             ⎥  ⎢                         ⎥        ⎟\n",
       "⎝⎣1   1  -1  -3⎦  ⎣1/12  1/12   -1/12  -1/4 ⎦        ⎠"
      ]
     },
     "execution_count": 9,
     "metadata": {},
     "output_type": "execute_result"
    }
   ],
   "source": [
    "Cm, Cm2, Cm.shape"
   ]
  },
  {
   "cell_type": "code",
   "execution_count": 32,
   "metadata": {},
   "outputs": [],
   "source": [
    "class InvMatrixFinder():\n",
    "    def __init__(self, M):\n",
    "        #self.base_M = M\n",
    "        #self.base_E = E\n",
    "        self.M = M\n",
    "        self.E = smp.eye(M.shape[0])\n",
    "    \n",
    "    def compute(self, expr, adr1, adr2, mode):\n",
    "        adr1 -= 1\n",
    "        adr2 -= 1\n",
    "        if adr1 == adr2:\n",
    "            if mode == 'r':\n",
    "                self.M[adr1,:] = self.M.row(adr1)*expr\n",
    "                self.E[adr1,:] = self.E.row(adr1)*expr\n",
    "            elif mode == 'c':\n",
    "                self.M[:,adr1] = self.M.col(adr1)*expr\n",
    "                self.E[:,adr1] = self.E.col(adr1)*expr\n",
    "        else:\n",
    "            if mode == 'r':\n",
    "                #for M\n",
    "                new_row = self.M.row(adr2)*expr\n",
    "                self.M[adr1,:] = self.M[adr1,:] + new_row\n",
    "                #for E\n",
    "                new_row = self.E.row(adr2)*expr\n",
    "                self.E[adr1,:] = self.E[adr1,:] + new_row\n",
    "            elif mode == 'c':\n",
    "                #for M\n",
    "                new_col = self.M.col(adr2)*expr\n",
    "                self.M[:,adr1] = self.M[:,adr1] + new_col\n",
    "                #for E\n",
    "                new_col = self.E.col(adr2)*expr\n",
    "                self.E[:,adr1] = self.E[:,adr1] + new_col"
   ]
  },
  {
   "cell_type": "code",
   "execution_count": 26,
   "metadata": {
    "collapsed": true
   },
   "outputs": [
    {
     "data": {
      "text/latex": [
       "$$\\left ( \\left[\\begin{matrix}3 & 1 & 1 & 1\\\\-1 & 3 & -1 & 1\\\\-1 & 1 & 3 & -1\\\\1 & 1 & -1 & -3\\end{matrix}\\right], \\quad \\left[\\begin{matrix}1 & 0 & 0 & 0\\\\0 & 1 & 0 & 0\\\\0 & 0 & 1 & 0\\\\0 & 0 & 0 & 1\\end{matrix}\\right]\\right )$$"
      ],
      "text/plain": [
       "⎛⎡3   1  1   1 ⎤  ⎡1  0  0  0⎤⎞\n",
       "⎜⎢             ⎥  ⎢          ⎥⎟\n",
       "⎜⎢-1  3  -1  1 ⎥  ⎢0  1  0  0⎥⎟\n",
       "⎜⎢             ⎥, ⎢          ⎥⎟\n",
       "⎜⎢-1  1  3   -1⎥  ⎢0  0  1  0⎥⎟\n",
       "⎜⎢             ⎥  ⎢          ⎥⎟\n",
       "⎝⎣1   1  -1  -3⎦  ⎣0  0  0  1⎦⎠"
      ]
     },
     "execution_count": 26,
     "metadata": {},
     "output_type": "execute_result"
    }
   ],
   "source": [
    "Cm_new, smp.eye(4)"
   ]
  },
  {
   "cell_type": "markdown",
   "metadata": {},
   "source": [
    "# Начало расчета 1"
   ]
  },
  {
   "cell_type": "code",
   "execution_count": 46,
   "metadata": {
    "collapsed": true
   },
   "outputs": [
    {
     "data": {
      "text/latex": [
       "$$\\left ( \\left[\\begin{matrix}1 & \\frac{1}{3} & \\frac{1}{3} & \\frac{1}{3}\\\\-1 & 3 & -1 & 1\\\\-1 & 1 & 3 & -1\\\\1 & 1 & -1 & -3\\end{matrix}\\right], \\quad \\left[\\begin{matrix}\\frac{1}{3} & 0 & 0 & 0\\\\0 & 1 & 0 & 0\\\\0 & 0 & 1 & 0\\\\0 & 0 & 0 & 1\\end{matrix}\\right]\\right )$$"
      ],
      "text/plain": [
       "⎛⎡1   1/3  1/3  1/3⎤  ⎡1/3  0  0  0⎤⎞\n",
       "⎜⎢                 ⎥  ⎢            ⎥⎟\n",
       "⎜⎢-1   3   -1    1 ⎥  ⎢ 0   1  0  0⎥⎟\n",
       "⎜⎢                 ⎥, ⎢            ⎥⎟\n",
       "⎜⎢-1   1    3   -1 ⎥  ⎢ 0   0  1  0⎥⎟\n",
       "⎜⎢                 ⎥  ⎢            ⎥⎟\n",
       "⎝⎣1    1   -1   -3 ⎦  ⎣ 0   0  0  1⎦⎠"
      ]
     },
     "execution_count": 46,
     "metadata": {},
     "output_type": "execute_result"
    }
   ],
   "source": [
    "imf = InvMatrixFinder(Cm_new)\n",
    "imf.compute(smp.S(1)/3, adr1=1, adr2=1, mode='r')\n",
    "imf.M, imf.E"
   ]
  },
  {
   "cell_type": "code",
   "execution_count": 47,
   "metadata": {
    "collapsed": true
   },
   "outputs": [
    {
     "data": {
      "text/latex": [
       "$$\\left ( \\left[\\begin{matrix}1 & 0 & \\frac{1}{3} & \\frac{1}{3}\\\\-1 & \\frac{10}{3} & -1 & 1\\\\-1 & \\frac{4}{3} & 3 & -1\\\\1 & \\frac{2}{3} & -1 & -3\\end{matrix}\\right], \\quad \\left[\\begin{matrix}\\frac{1}{3} & - \\frac{1}{9} & 0 & 0\\\\0 & 1 & 0 & 0\\\\0 & 0 & 1 & 0\\\\0 & 0 & 0 & 1\\end{matrix}\\right]\\right )$$"
      ],
      "text/plain": [
       "⎛⎡1    0    1/3  1/3⎤  ⎡1/3  -1/9  0  0⎤⎞\n",
       "⎜⎢                  ⎥  ⎢               ⎥⎟\n",
       "⎜⎢-1  10/3  -1    1 ⎥  ⎢ 0    1    0  0⎥⎟\n",
       "⎜⎢                  ⎥, ⎢               ⎥⎟\n",
       "⎜⎢-1  4/3    3   -1 ⎥  ⎢ 0    0    1  0⎥⎟\n",
       "⎜⎢                  ⎥  ⎢               ⎥⎟\n",
       "⎝⎣1   2/3   -1   -3 ⎦  ⎣ 0    0    0  1⎦⎠"
      ]
     },
     "execution_count": 47,
     "metadata": {},
     "output_type": "execute_result"
    }
   ],
   "source": [
    "imf.compute(smp.S(1)/-3, adr1=2, adr2=1, mode='c')\n",
    "imf.M, imf.E"
   ]
  },
  {
   "cell_type": "code",
   "execution_count": 48,
   "metadata": {
    "collapsed": true
   },
   "outputs": [
    {
     "data": {
      "text/latex": [
       "$$\\left ( \\left[\\begin{matrix}1 & 0 & 0 & \\frac{1}{3}\\\\-1 & \\frac{10}{3} & - \\frac{2}{3} & 1\\\\-1 & \\frac{4}{3} & \\frac{10}{3} & -1\\\\1 & \\frac{2}{3} & - \\frac{4}{3} & -3\\end{matrix}\\right], \\quad \\left[\\begin{matrix}\\frac{1}{3} & - \\frac{1}{9} & - \\frac{1}{9} & 0\\\\0 & 1 & 0 & 0\\\\0 & 0 & 1 & 0\\\\0 & 0 & 0 & 1\\end{matrix}\\right]\\right )$$"
      ],
      "text/plain": [
       "⎛⎡1    0     0    1/3⎤  ⎡1/3  -1/9  -1/9  0⎤⎞\n",
       "⎜⎢                   ⎥  ⎢                  ⎥⎟\n",
       "⎜⎢-1  10/3  -2/3   1 ⎥  ⎢ 0    1     0    0⎥⎟\n",
       "⎜⎢                   ⎥, ⎢                  ⎥⎟\n",
       "⎜⎢-1  4/3   10/3  -1 ⎥  ⎢ 0    0     1    0⎥⎟\n",
       "⎜⎢                   ⎥  ⎢                  ⎥⎟\n",
       "⎝⎣1   2/3   -4/3  -3 ⎦  ⎣ 0    0     0    1⎦⎠"
      ]
     },
     "execution_count": 48,
     "metadata": {},
     "output_type": "execute_result"
    }
   ],
   "source": [
    "imf.compute(smp.S(1)/-3, adr1=3, adr2=1, mode='c')\n",
    "imf.M, imf.E"
   ]
  },
  {
   "cell_type": "code",
   "execution_count": 49,
   "metadata": {
    "collapsed": true
   },
   "outputs": [
    {
     "data": {
      "text/latex": [
       "$$\\left ( \\left[\\begin{matrix}1 & 0 & 0 & 0\\\\-1 & \\frac{10}{3} & - \\frac{2}{3} & \\frac{4}{3}\\\\-1 & \\frac{4}{3} & \\frac{10}{3} & - \\frac{2}{3}\\\\1 & \\frac{2}{3} & - \\frac{4}{3} & - \\frac{10}{3}\\end{matrix}\\right], \\quad \\left[\\begin{matrix}\\frac{1}{3} & - \\frac{1}{9} & - \\frac{1}{9} & - \\frac{1}{9}\\\\0 & 1 & 0 & 0\\\\0 & 0 & 1 & 0\\\\0 & 0 & 0 & 1\\end{matrix}\\right]\\right )$$"
      ],
      "text/plain": [
       "⎛⎡1    0     0      0  ⎤  ⎡1/3  -1/9  -1/9  -1/9⎤⎞\n",
       "⎜⎢                     ⎥  ⎢                     ⎥⎟\n",
       "⎜⎢-1  10/3  -2/3   4/3 ⎥  ⎢ 0    1     0     0  ⎥⎟\n",
       "⎜⎢                     ⎥, ⎢                     ⎥⎟\n",
       "⎜⎢-1  4/3   10/3  -2/3 ⎥  ⎢ 0    0     1     0  ⎥⎟\n",
       "⎜⎢                     ⎥  ⎢                     ⎥⎟\n",
       "⎝⎣1   2/3   -4/3  -10/3⎦  ⎣ 0    0     0     1  ⎦⎠"
      ]
     },
     "execution_count": 49,
     "metadata": {},
     "output_type": "execute_result"
    }
   ],
   "source": [
    "imf.compute(smp.S(1)/-3, adr1=4, adr2=1, mode='c')\n",
    "imf.M, imf.E"
   ]
  },
  {
   "cell_type": "code",
   "execution_count": 50,
   "metadata": {
    "collapsed": true
   },
   "outputs": [
    {
     "data": {
      "text/latex": [
       "$$\\left ( \\left[\\begin{matrix}1 & 0 & 0 & 0\\\\0 & \\frac{10}{3} & - \\frac{2}{3} & \\frac{4}{3}\\\\-1 & \\frac{4}{3} & \\frac{10}{3} & - \\frac{2}{3}\\\\1 & \\frac{2}{3} & - \\frac{4}{3} & - \\frac{10}{3}\\end{matrix}\\right], \\quad \\left[\\begin{matrix}\\frac{1}{3} & - \\frac{1}{9} & - \\frac{1}{9} & - \\frac{1}{9}\\\\\\frac{1}{3} & \\frac{8}{9} & - \\frac{1}{9} & - \\frac{1}{9}\\\\0 & 0 & 1 & 0\\\\0 & 0 & 0 & 1\\end{matrix}\\right]\\right )$$"
      ],
      "text/plain": [
       "⎛⎡1    0     0      0  ⎤  ⎡1/3  -1/9  -1/9  -1/9⎤⎞\n",
       "⎜⎢                     ⎥  ⎢                     ⎥⎟\n",
       "⎜⎢0   10/3  -2/3   4/3 ⎥  ⎢1/3  8/9   -1/9  -1/9⎥⎟\n",
       "⎜⎢                     ⎥, ⎢                     ⎥⎟\n",
       "⎜⎢-1  4/3   10/3  -2/3 ⎥  ⎢ 0    0     1     0  ⎥⎟\n",
       "⎜⎢                     ⎥  ⎢                     ⎥⎟\n",
       "⎝⎣1   2/3   -4/3  -10/3⎦  ⎣ 0    0     0     1  ⎦⎠"
      ]
     },
     "execution_count": 50,
     "metadata": {},
     "output_type": "execute_result"
    }
   ],
   "source": [
    "imf.compute(smp.S(1)/1, adr1=2, adr2=1, mode='r')\n",
    "imf.M, imf.E"
   ]
  },
  {
   "cell_type": "code",
   "execution_count": 51,
   "metadata": {
    "collapsed": true
   },
   "outputs": [
    {
     "data": {
      "text/latex": [
       "$$\\left ( \\left[\\begin{matrix}1 & 0 & 0 & 0\\\\0 & 1 & - \\frac{1}{5} & \\frac{2}{5}\\\\-1 & \\frac{4}{3} & \\frac{10}{3} & - \\frac{2}{3}\\\\1 & \\frac{2}{3} & - \\frac{4}{3} & - \\frac{10}{3}\\end{matrix}\\right], \\quad \\left[\\begin{matrix}\\frac{1}{3} & - \\frac{1}{9} & - \\frac{1}{9} & - \\frac{1}{9}\\\\\\frac{1}{10} & \\frac{4}{15} & - \\frac{1}{30} & - \\frac{1}{30}\\\\0 & 0 & 1 & 0\\\\0 & 0 & 0 & 1\\end{matrix}\\right]\\right )$$"
      ],
      "text/plain": [
       "⎛⎡1    0    0      0  ⎤  ⎡1/3   -1/9  -1/9   -1/9 ⎤⎞\n",
       "⎜⎢                    ⎥  ⎢                        ⎥⎟\n",
       "⎜⎢0    1   -1/5   2/5 ⎥  ⎢1/10  4/15  -1/30  -1/30⎥⎟\n",
       "⎜⎢                    ⎥, ⎢                        ⎥⎟\n",
       "⎜⎢-1  4/3  10/3  -2/3 ⎥  ⎢ 0     0      1      0  ⎥⎟\n",
       "⎜⎢                    ⎥  ⎢                        ⎥⎟\n",
       "⎝⎣1   2/3  -4/3  -10/3⎦  ⎣ 0     0      0      1  ⎦⎠"
      ]
     },
     "execution_count": 51,
     "metadata": {},
     "output_type": "execute_result"
    }
   ],
   "source": [
    "imf.compute(smp.S(3)/10, adr1=2, adr2=2, mode='r')\n",
    "imf.M, imf.E"
   ]
  },
  {
   "cell_type": "code",
   "execution_count": 52,
   "metadata": {
    "collapsed": true
   },
   "outputs": [
    {
     "data": {
      "text/latex": [
       "$$\\left ( \\left[\\begin{matrix}1 & 0 & 0 & 0\\\\0 & 1 & 0 & \\frac{2}{5}\\\\-1 & \\frac{4}{3} & \\frac{18}{5} & - \\frac{2}{3}\\\\1 & \\frac{2}{3} & - \\frac{6}{5} & - \\frac{10}{3}\\end{matrix}\\right], \\quad \\left[\\begin{matrix}\\frac{1}{3} & - \\frac{1}{9} & - \\frac{2}{15} & - \\frac{1}{9}\\\\\\frac{1}{10} & \\frac{4}{15} & \\frac{1}{50} & - \\frac{1}{30}\\\\0 & 0 & 1 & 0\\\\0 & 0 & 0 & 1\\end{matrix}\\right]\\right )$$"
      ],
      "text/plain": [
       "⎛⎡1    0    0      0  ⎤  ⎡1/3   -1/9  -2/15  -1/9 ⎤⎞\n",
       "⎜⎢                    ⎥  ⎢                        ⎥⎟\n",
       "⎜⎢0    1    0     2/5 ⎥  ⎢1/10  4/15  1/50   -1/30⎥⎟\n",
       "⎜⎢                    ⎥, ⎢                        ⎥⎟\n",
       "⎜⎢-1  4/3  18/5  -2/3 ⎥  ⎢ 0     0      1      0  ⎥⎟\n",
       "⎜⎢                    ⎥  ⎢                        ⎥⎟\n",
       "⎝⎣1   2/3  -6/5  -10/3⎦  ⎣ 0     0      0      1  ⎦⎠"
      ]
     },
     "execution_count": 52,
     "metadata": {},
     "output_type": "execute_result"
    }
   ],
   "source": [
    "imf.compute(smp.S(1)/5, adr1=3, adr2=2, mode='c')\n",
    "imf.M, imf.E"
   ]
  },
  {
   "cell_type": "code",
   "execution_count": 53,
   "metadata": {
    "collapsed": true
   },
   "outputs": [
    {
     "data": {
      "text/latex": [
       "$$\\left ( \\left[\\begin{matrix}1 & 0 & 0 & 0\\\\0 & 1 & 0 & 0\\\\-1 & \\frac{4}{3} & \\frac{18}{5} & - \\frac{6}{5}\\\\1 & \\frac{2}{3} & - \\frac{6}{5} & - \\frac{18}{5}\\end{matrix}\\right], \\quad \\left[\\begin{matrix}\\frac{1}{3} & - \\frac{1}{9} & - \\frac{2}{15} & - \\frac{1}{15}\\\\\\frac{1}{10} & \\frac{4}{15} & \\frac{1}{50} & - \\frac{7}{50}\\\\0 & 0 & 1 & 0\\\\0 & 0 & 0 & 1\\end{matrix}\\right]\\right )$$"
      ],
      "text/plain": [
       "⎛⎡1    0    0      0  ⎤  ⎡1/3   -1/9  -2/15  -1/15⎤⎞\n",
       "⎜⎢                    ⎥  ⎢                        ⎥⎟\n",
       "⎜⎢0    1    0      0  ⎥  ⎢1/10  4/15  1/50   -7/50⎥⎟\n",
       "⎜⎢                    ⎥, ⎢                        ⎥⎟\n",
       "⎜⎢-1  4/3  18/5  -6/5 ⎥  ⎢ 0     0      1      0  ⎥⎟\n",
       "⎜⎢                    ⎥  ⎢                        ⎥⎟\n",
       "⎝⎣1   2/3  -6/5  -18/5⎦  ⎣ 0     0      0      1  ⎦⎠"
      ]
     },
     "execution_count": 53,
     "metadata": {},
     "output_type": "execute_result"
    }
   ],
   "source": [
    "imf.compute(smp.S(2)/-5, adr1=4, adr2=2, mode='c')\n",
    "imf.M, imf.E"
   ]
  },
  {
   "cell_type": "code",
   "execution_count": 54,
   "metadata": {
    "collapsed": true
   },
   "outputs": [
    {
     "data": {
      "text/latex": [
       "$$\\left ( \\left[\\begin{matrix}1 & 0 & 0 & 0\\\\0 & 1 & 0 & 0\\\\0 & \\frac{4}{3} & \\frac{18}{5} & - \\frac{6}{5}\\\\1 & \\frac{2}{3} & - \\frac{6}{5} & - \\frac{18}{5}\\end{matrix}\\right], \\quad \\left[\\begin{matrix}\\frac{1}{3} & - \\frac{1}{9} & - \\frac{2}{15} & - \\frac{1}{15}\\\\\\frac{1}{10} & \\frac{4}{15} & \\frac{1}{50} & - \\frac{7}{50}\\\\\\frac{1}{3} & - \\frac{1}{9} & \\frac{13}{15} & - \\frac{1}{15}\\\\0 & 0 & 0 & 1\\end{matrix}\\right]\\right )$$"
      ],
      "text/plain": [
       "⎛                       ⎡1/3   -1/9  -2/15  -1/15⎤⎞\n",
       "⎜⎡1   0    0      0  ⎤  ⎢                        ⎥⎟\n",
       "⎜⎢                   ⎥  ⎢1/10  4/15  1/50   -7/50⎥⎟\n",
       "⎜⎢0   1    0      0  ⎥  ⎢                        ⎥⎟\n",
       "⎜⎢                   ⎥, ⎢             13         ⎥⎟\n",
       "⎜⎢0  4/3  18/5  -6/5 ⎥  ⎢1/3   -1/9   ──    -1/15⎥⎟\n",
       "⎜⎢                   ⎥  ⎢             15         ⎥⎟\n",
       "⎜⎣1  2/3  -6/5  -18/5⎦  ⎢                        ⎥⎟\n",
       "⎝                       ⎣ 0     0      0      1  ⎦⎠"
      ]
     },
     "execution_count": 54,
     "metadata": {},
     "output_type": "execute_result"
    }
   ],
   "source": [
    "imf.compute(smp.S(1)/1, adr1=3, adr2=1, mode='r')\n",
    "imf.M, imf.E"
   ]
  },
  {
   "cell_type": "code",
   "execution_count": 57,
   "metadata": {
    "collapsed": true
   },
   "outputs": [
    {
     "data": {
      "text/latex": [
       "$$\\left ( \\left[\\begin{matrix}1 & 0 & 0 & 0\\\\0 & 1 & 0 & 0\\\\0 & 0 & \\frac{18}{5} & - \\frac{6}{5}\\\\1 & \\frac{2}{3} & - \\frac{6}{5} & - \\frac{18}{5}\\end{matrix}\\right], \\quad \\left[\\begin{matrix}\\frac{1}{3} & - \\frac{1}{9} & - \\frac{2}{15} & - \\frac{1}{15}\\\\\\frac{1}{10} & \\frac{4}{15} & \\frac{1}{50} & - \\frac{7}{50}\\\\\\frac{1}{5} & - \\frac{7}{15} & \\frac{21}{25} & \\frac{3}{25}\\\\0 & 0 & 0 & 1\\end{matrix}\\right]\\right )$$"
      ],
      "text/plain": [
       "⎛                       ⎡1/3   -1/9   -2/15  -1/15⎤⎞\n",
       "⎜⎡1   0    0      0  ⎤  ⎢                         ⎥⎟\n",
       "⎜⎢                   ⎥  ⎢1/10  4/15   1/50   -7/50⎥⎟\n",
       "⎜⎢0   1    0      0  ⎥  ⎢                         ⎥⎟\n",
       "⎜⎢                   ⎥, ⎢              21         ⎥⎟\n",
       "⎜⎢0   0   18/5  -6/5 ⎥  ⎢1/5   -7/15   ──    3/25 ⎥⎟\n",
       "⎜⎢                   ⎥  ⎢              25         ⎥⎟\n",
       "⎜⎣1  2/3  -6/5  -18/5⎦  ⎢                         ⎥⎟\n",
       "⎝                       ⎣ 0      0      0      1  ⎦⎠"
      ]
     },
     "execution_count": 57,
     "metadata": {},
     "output_type": "execute_result"
    }
   ],
   "source": [
    "imf.compute(smp.S(4)/-3, adr1=3, adr2=2, mode='r')\n",
    "imf.M, imf.E"
   ]
  },
  {
   "cell_type": "code",
   "execution_count": 58,
   "metadata": {
    "collapsed": true
   },
   "outputs": [
    {
     "data": {
      "text/latex": [
       "$$\\left ( \\left[\\begin{matrix}1 & 0 & 0 & 0\\\\0 & 1 & 0 & 0\\\\0 & 0 & 1 & - \\frac{1}{3}\\\\1 & \\frac{2}{3} & - \\frac{6}{5} & - \\frac{18}{5}\\end{matrix}\\right], \\quad \\left[\\begin{matrix}\\frac{1}{3} & - \\frac{1}{9} & - \\frac{2}{15} & - \\frac{1}{15}\\\\\\frac{1}{10} & \\frac{4}{15} & \\frac{1}{50} & - \\frac{7}{50}\\\\\\frac{1}{18} & - \\frac{7}{54} & \\frac{7}{30} & \\frac{1}{30}\\\\0 & 0 & 0 & 1\\end{matrix}\\right]\\right )$$"
      ],
      "text/plain": [
       "⎛⎡1   0    0      0  ⎤  ⎡1/3   -1/9   -2/15  -1/15⎤⎞\n",
       "⎜⎢                   ⎥  ⎢                         ⎥⎟\n",
       "⎜⎢0   1    0      0  ⎥  ⎢1/10  4/15   1/50   -7/50⎥⎟\n",
       "⎜⎢                   ⎥, ⎢                         ⎥⎟\n",
       "⎜⎢0   0    1    -1/3 ⎥  ⎢1/18  -7/54  7/30   1/30 ⎥⎟\n",
       "⎜⎢                   ⎥  ⎢                         ⎥⎟\n",
       "⎝⎣1  2/3  -6/5  -18/5⎦  ⎣ 0      0      0      1  ⎦⎠"
      ]
     },
     "execution_count": 58,
     "metadata": {},
     "output_type": "execute_result"
    }
   ],
   "source": [
    "imf.compute(smp.S(5)/18, adr1=3, adr2=3, mode='r')\n",
    "imf.M, imf.E"
   ]
  },
  {
   "cell_type": "code",
   "execution_count": 59,
   "metadata": {
    "collapsed": true
   },
   "outputs": [
    {
     "data": {
      "text/latex": [
       "$$\\left ( \\left[\\begin{matrix}1 & 0 & 0 & 0\\\\0 & 1 & 0 & 0\\\\0 & 0 & 1 & 0\\\\1 & \\frac{2}{3} & - \\frac{6}{5} & -4\\end{matrix}\\right], \\quad \\left[\\begin{matrix}\\frac{1}{3} & - \\frac{1}{9} & - \\frac{2}{15} & - \\frac{1}{9}\\\\\\frac{1}{10} & \\frac{4}{15} & \\frac{1}{50} & - \\frac{2}{15}\\\\\\frac{1}{18} & - \\frac{7}{54} & \\frac{7}{30} & \\frac{1}{9}\\\\0 & 0 & 0 & 1\\end{matrix}\\right]\\right )$$"
      ],
      "text/plain": [
       "⎛⎡1   0    0    0 ⎤  ⎡1/3   -1/9   -2/15  -1/9 ⎤⎞\n",
       "⎜⎢                ⎥  ⎢                         ⎥⎟\n",
       "⎜⎢0   1    0    0 ⎥  ⎢1/10  4/15   1/50   -2/15⎥⎟\n",
       "⎜⎢                ⎥, ⎢                         ⎥⎟\n",
       "⎜⎢0   0    1    0 ⎥  ⎢1/18  -7/54  7/30    1/9 ⎥⎟\n",
       "⎜⎢                ⎥  ⎢                         ⎥⎟\n",
       "⎝⎣1  2/3  -6/5  -4⎦  ⎣ 0      0      0      1  ⎦⎠"
      ]
     },
     "execution_count": 59,
     "metadata": {},
     "output_type": "execute_result"
    }
   ],
   "source": [
    "imf.compute(smp.S(1)/3, adr1=4, adr2=3, mode='c')\n",
    "imf.M, imf.E"
   ]
  },
  {
   "cell_type": "code",
   "execution_count": 60,
   "metadata": {
    "collapsed": true
   },
   "outputs": [
    {
     "data": {
      "text/latex": [
       "$$\\left ( \\left[\\begin{matrix}1 & 0 & 0 & 0\\\\0 & 1 & 0 & 0\\\\0 & 0 & 1 & 0\\\\0 & \\frac{2}{3} & - \\frac{6}{5} & -4\\end{matrix}\\right], \\quad \\left[\\begin{matrix}\\frac{1}{3} & - \\frac{1}{9} & - \\frac{2}{15} & - \\frac{1}{9}\\\\\\frac{1}{10} & \\frac{4}{15} & \\frac{1}{50} & - \\frac{2}{15}\\\\\\frac{1}{18} & - \\frac{7}{54} & \\frac{7}{30} & \\frac{1}{9}\\\\- \\frac{1}{3} & \\frac{1}{9} & \\frac{2}{15} & \\frac{10}{9}\\end{matrix}\\right]\\right )$$"
      ],
      "text/plain": [
       "⎛⎡1   0    0    0 ⎤  ⎡1/3   -1/9   -2/15  -1/9 ⎤⎞\n",
       "⎜⎢                ⎥  ⎢                         ⎥⎟\n",
       "⎜⎢0   1    0    0 ⎥  ⎢1/10  4/15   1/50   -2/15⎥⎟\n",
       "⎜⎢                ⎥, ⎢                         ⎥⎟\n",
       "⎜⎢0   0    1    0 ⎥  ⎢1/18  -7/54  7/30    1/9 ⎥⎟\n",
       "⎜⎢                ⎥  ⎢                         ⎥⎟\n",
       "⎝⎣0  2/3  -6/5  -4⎦  ⎣-1/3   1/9   2/15   10/9 ⎦⎠"
      ]
     },
     "execution_count": 60,
     "metadata": {},
     "output_type": "execute_result"
    }
   ],
   "source": [
    "imf.compute(smp.S(1)/-1, adr1=4, adr2=1, mode='r')\n",
    "imf.M, imf.E"
   ]
  },
  {
   "cell_type": "code",
   "execution_count": 61,
   "metadata": {
    "collapsed": true
   },
   "outputs": [
    {
     "data": {
      "text/latex": [
       "$$\\left ( \\left[\\begin{matrix}1 & 0 & 0 & 0\\\\0 & 1 & 0 & 0\\\\0 & 0 & 1 & 0\\\\0 & 0 & - \\frac{6}{5} & -4\\end{matrix}\\right], \\quad \\left[\\begin{matrix}\\frac{1}{3} & - \\frac{1}{9} & - \\frac{2}{15} & - \\frac{1}{9}\\\\\\frac{1}{10} & \\frac{4}{15} & \\frac{1}{50} & - \\frac{2}{15}\\\\\\frac{1}{18} & - \\frac{7}{54} & \\frac{7}{30} & \\frac{1}{9}\\\\- \\frac{2}{5} & - \\frac{1}{15} & \\frac{3}{25} & \\frac{6}{5}\\end{matrix}\\right]\\right )$$"
      ],
      "text/plain": [
       "⎛⎡1  0   0    0 ⎤  ⎡1/3   -1/9   -2/15  -1/9 ⎤⎞\n",
       "⎜⎢              ⎥  ⎢                         ⎥⎟\n",
       "⎜⎢0  1   0    0 ⎥  ⎢1/10  4/15   1/50   -2/15⎥⎟\n",
       "⎜⎢              ⎥, ⎢                         ⎥⎟\n",
       "⎜⎢0  0   1    0 ⎥  ⎢1/18  -7/54  7/30    1/9 ⎥⎟\n",
       "⎜⎢              ⎥  ⎢                         ⎥⎟\n",
       "⎝⎣0  0  -6/5  -4⎦  ⎣-2/5  -1/15  3/25    6/5 ⎦⎠"
      ]
     },
     "execution_count": 61,
     "metadata": {},
     "output_type": "execute_result"
    }
   ],
   "source": [
    "imf.compute(smp.S(2)/-3, adr1=4, adr2=2, mode='r')\n",
    "imf.M, imf.E"
   ]
  },
  {
   "cell_type": "code",
   "execution_count": 62,
   "metadata": {
    "collapsed": true
   },
   "outputs": [
    {
     "data": {
      "text/latex": [
       "$$\\left ( \\left[\\begin{matrix}1 & 0 & 0 & 0\\\\0 & 1 & 0 & 0\\\\0 & 0 & 1 & 0\\\\0 & 0 & 0 & -4\\end{matrix}\\right], \\quad \\left[\\begin{matrix}\\frac{1}{3} & - \\frac{1}{9} & - \\frac{2}{15} & - \\frac{1}{9}\\\\\\frac{1}{10} & \\frac{4}{15} & \\frac{1}{50} & - \\frac{2}{15}\\\\\\frac{1}{18} & - \\frac{7}{54} & \\frac{7}{30} & \\frac{1}{9}\\\\- \\frac{1}{3} & - \\frac{2}{9} & \\frac{2}{5} & \\frac{4}{3}\\end{matrix}\\right]\\right )$$"
      ],
      "text/plain": [
       "⎛⎡1  0  0  0 ⎤  ⎡1/3   -1/9   -2/15  -1/9 ⎤⎞\n",
       "⎜⎢           ⎥  ⎢                         ⎥⎟\n",
       "⎜⎢0  1  0  0 ⎥  ⎢1/10  4/15   1/50   -2/15⎥⎟\n",
       "⎜⎢           ⎥, ⎢                         ⎥⎟\n",
       "⎜⎢0  0  1  0 ⎥  ⎢1/18  -7/54  7/30    1/9 ⎥⎟\n",
       "⎜⎢           ⎥  ⎢                         ⎥⎟\n",
       "⎝⎣0  0  0  -4⎦  ⎣-1/3  -2/9    2/5    4/3 ⎦⎠"
      ]
     },
     "execution_count": 62,
     "metadata": {},
     "output_type": "execute_result"
    }
   ],
   "source": [
    "imf.compute(smp.S(6)/5, adr1=4, adr2=3, mode='r')\n",
    "imf.M, imf.E"
   ]
  },
  {
   "cell_type": "code",
   "execution_count": 63,
   "metadata": {
    "collapsed": true
   },
   "outputs": [
    {
     "data": {
      "text/latex": [
       "$$\\left ( \\left[\\begin{matrix}1 & 0 & 0 & 0\\\\0 & 1 & 0 & 0\\\\0 & 0 & 1 & 0\\\\0 & 0 & 0 & 1\\end{matrix}\\right], \\quad \\left[\\begin{matrix}\\frac{1}{3} & - \\frac{1}{9} & - \\frac{2}{15} & - \\frac{1}{9}\\\\\\frac{1}{10} & \\frac{4}{15} & \\frac{1}{50} & - \\frac{2}{15}\\\\\\frac{1}{18} & - \\frac{7}{54} & \\frac{7}{30} & \\frac{1}{9}\\\\\\frac{1}{12} & \\frac{1}{18} & - \\frac{1}{10} & - \\frac{1}{3}\\end{matrix}\\right]\\right )$$"
      ],
      "text/plain": [
       "⎛⎡1  0  0  0⎤  ⎡1/3   -1/9   -2/15  -1/9 ⎤⎞\n",
       "⎜⎢          ⎥  ⎢                         ⎥⎟\n",
       "⎜⎢0  1  0  0⎥  ⎢1/10  4/15   1/50   -2/15⎥⎟\n",
       "⎜⎢          ⎥, ⎢                         ⎥⎟\n",
       "⎜⎢0  0  1  0⎥  ⎢1/18  -7/54  7/30    1/9 ⎥⎟\n",
       "⎜⎢          ⎥  ⎢                         ⎥⎟\n",
       "⎝⎣0  0  0  1⎦  ⎣1/12  1/18   -1/10  -1/3 ⎦⎠"
      ]
     },
     "execution_count": 63,
     "metadata": {},
     "output_type": "execute_result"
    }
   ],
   "source": [
    "imf.compute(smp.S(1)/-4, adr1=4, adr2=4, mode='r')\n",
    "imf.M, imf.E"
   ]
  },
  {
   "cell_type": "markdown",
   "metadata": {},
   "source": [
    "# Конец расчета 1"
   ]
  },
  {
   "cell_type": "markdown",
   "metadata": {},
   "source": [
    "# Начало расчета 2"
   ]
  },
  {
   "cell_type": "code",
   "execution_count": 77,
   "metadata": {
    "collapsed": true
   },
   "outputs": [
    {
     "data": {
      "text/latex": [
       "$$\\left[\\begin{matrix}3 & 1 & 1 & 1\\\\-1 & 3 & -1 & 1\\\\-1 & 1 & 3 & -1\\\\1 & 1 & -1 & -3\\end{matrix}\\right]$$"
      ],
      "text/plain": [
       "⎡3   1  1   1 ⎤\n",
       "⎢             ⎥\n",
       "⎢-1  3  -1  1 ⎥\n",
       "⎢             ⎥\n",
       "⎢-1  1  3   -1⎥\n",
       "⎢             ⎥\n",
       "⎣1   1  -1  -3⎦"
      ]
     },
     "execution_count": 77,
     "metadata": {},
     "output_type": "execute_result"
    }
   ],
   "source": [
    "Cm_new2 = smp.Matrix(IC)\n",
    "for x in range(rows):\n",
    "    for y in range(cols):\n",
    "        elem = smp.S(int(Cm[x,y]))\n",
    "        Cm_new2[x,y] = elem\n",
    "Cm_new2"
   ]
  },
  {
   "cell_type": "code",
   "execution_count": 78,
   "metadata": {
    "collapsed": true
   },
   "outputs": [
    {
     "data": {
      "text/latex": [
       "$$\\left ( \\left[\\begin{matrix}3 & 1 & 1 & 1\\\\-1 & 3 & -1 & 1\\\\-1 & 1 & 3 & -1\\\\1 & 1 & -1 & -3\\end{matrix}\\right], \\quad \\left[\\begin{matrix}1 & 0 & 0 & 0\\\\0 & 1 & 0 & 0\\\\0 & 0 & 1 & 0\\\\0 & 0 & 0 & 1\\end{matrix}\\right]\\right )$$"
      ],
      "text/plain": [
       "⎛⎡3   1  1   1 ⎤  ⎡1  0  0  0⎤⎞\n",
       "⎜⎢             ⎥  ⎢          ⎥⎟\n",
       "⎜⎢-1  3  -1  1 ⎥  ⎢0  1  0  0⎥⎟\n",
       "⎜⎢             ⎥, ⎢          ⎥⎟\n",
       "⎜⎢-1  1  3   -1⎥  ⎢0  0  1  0⎥⎟\n",
       "⎜⎢             ⎥  ⎢          ⎥⎟\n",
       "⎝⎣1   1  -1  -3⎦  ⎣0  0  0  1⎦⎠"
      ]
     },
     "execution_count": 78,
     "metadata": {},
     "output_type": "execute_result"
    }
   ],
   "source": [
    "imf2 = InvMatrixFinder(Cm_new2)\n",
    "imf2.M, imf2.E"
   ]
  },
  {
   "cell_type": "code",
   "execution_count": 79,
   "metadata": {
    "collapsed": true
   },
   "outputs": [
    {
     "data": {
      "text/latex": [
       "$$\\left ( \\left[\\begin{matrix}1 & 7 & -1 & 3\\\\-1 & 3 & -1 & 1\\\\-1 & 1 & 3 & -1\\\\1 & 1 & -1 & -3\\end{matrix}\\right], \\quad \\left[\\begin{matrix}1 & 2 & 0 & 0\\\\0 & 1 & 0 & 0\\\\0 & 0 & 1 & 0\\\\0 & 0 & 0 & 1\\end{matrix}\\right]\\right )$$"
      ],
      "text/plain": [
       "⎛⎡1   7  -1  3 ⎤  ⎡1  2  0  0⎤⎞\n",
       "⎜⎢             ⎥  ⎢          ⎥⎟\n",
       "⎜⎢-1  3  -1  1 ⎥  ⎢0  1  0  0⎥⎟\n",
       "⎜⎢             ⎥, ⎢          ⎥⎟\n",
       "⎜⎢-1  1  3   -1⎥  ⎢0  0  1  0⎥⎟\n",
       "⎜⎢             ⎥  ⎢          ⎥⎟\n",
       "⎝⎣1   1  -1  -3⎦  ⎣0  0  0  1⎦⎠"
      ]
     },
     "execution_count": 79,
     "metadata": {},
     "output_type": "execute_result"
    }
   ],
   "source": [
    "imf2.compute(smp.S(2)/1, adr1=1, adr2=2, mode='r')\n",
    "imf2.M, imf2.E"
   ]
  },
  {
   "cell_type": "code",
   "execution_count": 80,
   "metadata": {
    "collapsed": true
   },
   "outputs": [
    {
     "data": {
      "text/latex": [
       "$$\\left ( \\left[\\begin{matrix}1 & 0 & -1 & 3\\\\-1 & 10 & -1 & 1\\\\-1 & 8 & 3 & -1\\\\1 & -6 & -1 & -3\\end{matrix}\\right], \\quad \\left[\\begin{matrix}1 & -5 & 0 & 0\\\\0 & 1 & 0 & 0\\\\0 & 0 & 1 & 0\\\\0 & 0 & 0 & 1\\end{matrix}\\right]\\right )$$"
      ],
      "text/plain": [
       "⎛⎡1   0   -1  3 ⎤  ⎡1  -5  0  0⎤⎞\n",
       "⎜⎢              ⎥  ⎢           ⎥⎟\n",
       "⎜⎢-1  10  -1  1 ⎥  ⎢0  1   0  0⎥⎟\n",
       "⎜⎢              ⎥, ⎢           ⎥⎟\n",
       "⎜⎢-1  8   3   -1⎥  ⎢0  0   1  0⎥⎟\n",
       "⎜⎢              ⎥  ⎢           ⎥⎟\n",
       "⎝⎣1   -6  -1  -3⎦  ⎣0  0   0  1⎦⎠"
      ]
     },
     "execution_count": 80,
     "metadata": {},
     "output_type": "execute_result"
    }
   ],
   "source": [
    "imf2.compute(smp.S(7)/-1, adr1=2, adr2=1, mode='c')\n",
    "imf2.M, imf2.E"
   ]
  },
  {
   "cell_type": "code",
   "execution_count": 81,
   "metadata": {
    "collapsed": true
   },
   "outputs": [
    {
     "data": {
      "text/latex": [
       "$$\\left ( \\left[\\begin{matrix}1 & 0 & 0 & 3\\\\-1 & 10 & -2 & 1\\\\-1 & 8 & 2 & -1\\\\1 & -6 & 0 & -3\\end{matrix}\\right], \\quad \\left[\\begin{matrix}1 & -5 & 1 & 0\\\\0 & 1 & 0 & 0\\\\0 & 0 & 1 & 0\\\\0 & 0 & 0 & 1\\end{matrix}\\right]\\right )$$"
      ],
      "text/plain": [
       "⎛⎡1   0   0   3 ⎤  ⎡1  -5  1  0⎤⎞\n",
       "⎜⎢              ⎥  ⎢           ⎥⎟\n",
       "⎜⎢-1  10  -2  1 ⎥  ⎢0  1   0  0⎥⎟\n",
       "⎜⎢              ⎥, ⎢           ⎥⎟\n",
       "⎜⎢-1  8   2   -1⎥  ⎢0  0   1  0⎥⎟\n",
       "⎜⎢              ⎥  ⎢           ⎥⎟\n",
       "⎝⎣1   -6  0   -3⎦  ⎣0  0   0  1⎦⎠"
      ]
     },
     "execution_count": 81,
     "metadata": {},
     "output_type": "execute_result"
    }
   ],
   "source": [
    "imf2.compute(smp.S(1)/1, adr1=3, adr2=1, mode='c')\n",
    "imf2.M, imf2.E"
   ]
  },
  {
   "cell_type": "code",
   "execution_count": 82,
   "metadata": {
    "collapsed": true
   },
   "outputs": [
    {
     "data": {
      "text/latex": [
       "$$\\left ( \\left[\\begin{matrix}1 & 0 & 0 & 0\\\\-1 & 10 & -2 & 4\\\\-1 & 8 & 2 & 2\\\\1 & -6 & 0 & -6\\end{matrix}\\right], \\quad \\left[\\begin{matrix}1 & -5 & 1 & -3\\\\0 & 1 & 0 & 0\\\\0 & 0 & 1 & 0\\\\0 & 0 & 0 & 1\\end{matrix}\\right]\\right )$$"
      ],
      "text/plain": [
       "⎛⎡1   0   0   0 ⎤  ⎡1  -5  1  -3⎤⎞\n",
       "⎜⎢              ⎥  ⎢            ⎥⎟\n",
       "⎜⎢-1  10  -2  4 ⎥  ⎢0  1   0  0 ⎥⎟\n",
       "⎜⎢              ⎥, ⎢            ⎥⎟\n",
       "⎜⎢-1  8   2   2 ⎥  ⎢0  0   1  0 ⎥⎟\n",
       "⎜⎢              ⎥  ⎢            ⎥⎟\n",
       "⎝⎣1   -6  0   -6⎦  ⎣0  0   0  1 ⎦⎠"
      ]
     },
     "execution_count": 82,
     "metadata": {},
     "output_type": "execute_result"
    }
   ],
   "source": [
    "imf2.compute(smp.S(3)/-1, adr1=4, adr2=1, mode='c')\n",
    "imf2.M, imf2.E"
   ]
  },
  {
   "cell_type": "code",
   "execution_count": 83,
   "metadata": {
    "collapsed": true
   },
   "outputs": [
    {
     "data": {
      "text/latex": [
       "$$\\left ( \\left[\\begin{matrix}1 & 0 & 0 & 0\\\\-1 & 6 & -2 & 4\\\\-1 & 6 & 2 & 2\\\\1 & 0 & 0 & -6\\end{matrix}\\right], \\quad \\left[\\begin{matrix}1 & -2 & 1 & -3\\\\0 & 1 & 0 & 0\\\\0 & 0 & 1 & 0\\\\0 & -1 & 0 & 1\\end{matrix}\\right]\\right )$$"
      ],
      "text/plain": [
       "⎛⎡1   0  0   0 ⎤  ⎡1  -2  1  -3⎤⎞\n",
       "⎜⎢             ⎥  ⎢            ⎥⎟\n",
       "⎜⎢-1  6  -2  4 ⎥  ⎢0  1   0  0 ⎥⎟\n",
       "⎜⎢             ⎥, ⎢            ⎥⎟\n",
       "⎜⎢-1  6  2   2 ⎥  ⎢0  0   1  0 ⎥⎟\n",
       "⎜⎢             ⎥  ⎢            ⎥⎟\n",
       "⎝⎣1   0  0   -6⎦  ⎣0  -1  0  1 ⎦⎠"
      ]
     },
     "execution_count": 83,
     "metadata": {},
     "output_type": "execute_result"
    }
   ],
   "source": [
    "imf2.compute(smp.S(1)/-1, adr1=2, adr2=4, mode='c')\n",
    "imf2.M, imf2.E"
   ]
  },
  {
   "cell_type": "code",
   "execution_count": 84,
   "metadata": {
    "collapsed": true
   },
   "outputs": [
    {
     "data": {
      "text/latex": [
       "$$\\left ( \\left[\\begin{matrix}1 & 0 & 0 & 0\\\\-1 & 2 & -2 & 4\\\\-1 & 4 & 2 & 2\\\\1 & 6 & 0 & -6\\end{matrix}\\right], \\quad \\left[\\begin{matrix}1 & 1 & 1 & -3\\\\0 & 1 & 0 & 0\\\\0 & 0 & 1 & 0\\\\0 & -2 & 0 & 1\\end{matrix}\\right]\\right )$$"
      ],
      "text/plain": [
       "⎛⎡1   0  0   0 ⎤  ⎡1  1   1  -3⎤⎞\n",
       "⎜⎢             ⎥  ⎢            ⎥⎟\n",
       "⎜⎢-1  2  -2  4 ⎥  ⎢0  1   0  0 ⎥⎟\n",
       "⎜⎢             ⎥, ⎢            ⎥⎟\n",
       "⎜⎢-1  4  2   2 ⎥  ⎢0  0   1  0 ⎥⎟\n",
       "⎜⎢             ⎥  ⎢            ⎥⎟\n",
       "⎝⎣1   6  0   -6⎦  ⎣0  -2  0  1 ⎦⎠"
      ]
     },
     "execution_count": 84,
     "metadata": {},
     "output_type": "execute_result"
    }
   ],
   "source": [
    "imf2.compute(smp.S(1)/-1, adr1=2, adr2=4, mode='c')\n",
    "imf2.M, imf2.E"
   ]
  },
  {
   "cell_type": "code",
   "execution_count": 85,
   "metadata": {
    "collapsed": true
   },
   "outputs": [
    {
     "data": {
      "text/latex": [
       "$$\\left ( \\left[\\begin{matrix}1 & 0 & 0 & 0\\\\0 & 2 & -2 & 4\\\\-1 & 4 & 2 & 2\\\\1 & 6 & 0 & -6\\end{matrix}\\right], \\quad \\left[\\begin{matrix}1 & 1 & 1 & -3\\\\1 & 2 & 1 & -3\\\\0 & 0 & 1 & 0\\\\0 & -2 & 0 & 1\\end{matrix}\\right]\\right )$$"
      ],
      "text/plain": [
       "⎛⎡1   0  0   0 ⎤  ⎡1  1   1  -3⎤⎞\n",
       "⎜⎢             ⎥  ⎢            ⎥⎟\n",
       "⎜⎢0   2  -2  4 ⎥  ⎢1  2   1  -3⎥⎟\n",
       "⎜⎢             ⎥, ⎢            ⎥⎟\n",
       "⎜⎢-1  4  2   2 ⎥  ⎢0  0   1  0 ⎥⎟\n",
       "⎜⎢             ⎥  ⎢            ⎥⎟\n",
       "⎝⎣1   6  0   -6⎦  ⎣0  -2  0  1 ⎦⎠"
      ]
     },
     "execution_count": 85,
     "metadata": {},
     "output_type": "execute_result"
    }
   ],
   "source": [
    "imf2.compute(smp.S(1)/1, adr1=2, adr2=1, mode='r')\n",
    "imf2.M, imf2.E"
   ]
  },
  {
   "cell_type": "code",
   "execution_count": 86,
   "metadata": {
    "collapsed": true
   },
   "outputs": [
    {
     "data": {
      "text/latex": [
       "$$\\left ( \\left[\\begin{matrix}1 & 0 & 0 & 0\\\\0 & 1 & -2 & 4\\\\-1 & 5 & 2 & 2\\\\1 & 6 & 0 & -6\\end{matrix}\\right], \\quad \\left[\\begin{matrix}1 & \\frac{3}{2} & 1 & -3\\\\1 & \\frac{5}{2} & 1 & -3\\\\0 & \\frac{1}{2} & 1 & 0\\\\0 & -2 & 0 & 1\\end{matrix}\\right]\\right )$$"
      ],
      "text/plain": [
       "⎛⎡1   0  0   0 ⎤  ⎡1  3/2  1  -3⎤⎞\n",
       "⎜⎢             ⎥  ⎢             ⎥⎟\n",
       "⎜⎢0   1  -2  4 ⎥  ⎢1  5/2  1  -3⎥⎟\n",
       "⎜⎢             ⎥, ⎢             ⎥⎟\n",
       "⎜⎢-1  5  2   2 ⎥  ⎢0  1/2  1  0 ⎥⎟\n",
       "⎜⎢             ⎥  ⎢             ⎥⎟\n",
       "⎝⎣1   6  0   -6⎦  ⎣0  -2   0  1 ⎦⎠"
      ]
     },
     "execution_count": 86,
     "metadata": {},
     "output_type": "execute_result"
    }
   ],
   "source": [
    "imf2.compute(smp.S(1)/2, adr1=2, adr2=3, mode='c')\n",
    "imf2.M, imf2.E"
   ]
  },
  {
   "cell_type": "code",
   "execution_count": 87,
   "metadata": {
    "collapsed": true
   },
   "outputs": [
    {
     "data": {
      "text/latex": [
       "$$\\left ( \\left[\\begin{matrix}1 & 0 & 0 & 0\\\\0 & 1 & 0 & 4\\\\-1 & 5 & 12 & 2\\\\1 & 6 & 12 & -6\\end{matrix}\\right], \\quad \\left[\\begin{matrix}1 & \\frac{3}{2} & 4 & -3\\\\1 & \\frac{5}{2} & 6 & -3\\\\0 & \\frac{1}{2} & 2 & 0\\\\0 & -2 & -4 & 1\\end{matrix}\\right]\\right )$$"
      ],
      "text/plain": [
       "⎛⎡1   0  0   0 ⎤  ⎡1  3/2  4   -3⎤⎞\n",
       "⎜⎢             ⎥  ⎢              ⎥⎟\n",
       "⎜⎢0   1  0   4 ⎥  ⎢1  5/2  6   -3⎥⎟\n",
       "⎜⎢             ⎥, ⎢              ⎥⎟\n",
       "⎜⎢-1  5  12  2 ⎥  ⎢0  1/2  2   0 ⎥⎟\n",
       "⎜⎢             ⎥  ⎢              ⎥⎟\n",
       "⎝⎣1   6  12  -6⎦  ⎣0  -2   -4  1 ⎦⎠"
      ]
     },
     "execution_count": 87,
     "metadata": {},
     "output_type": "execute_result"
    }
   ],
   "source": [
    "imf2.compute(smp.S(2)/1, adr1=3, adr2=2, mode='c')\n",
    "imf2.M, imf2.E"
   ]
  },
  {
   "cell_type": "code",
   "execution_count": 88,
   "metadata": {
    "collapsed": true
   },
   "outputs": [
    {
     "data": {
      "text/latex": [
       "$$\\left ( \\left[\\begin{matrix}1 & 0 & 0 & 0\\\\0 & 1 & 0 & 0\\\\-1 & 5 & 12 & -18\\\\1 & 6 & 12 & -30\\end{matrix}\\right], \\quad \\left[\\begin{matrix}1 & \\frac{3}{2} & 4 & -9\\\\1 & \\frac{5}{2} & 6 & -13\\\\0 & \\frac{1}{2} & 2 & -2\\\\0 & -2 & -4 & 9\\end{matrix}\\right]\\right )$$"
      ],
      "text/plain": [
       "⎛⎡1   0  0    0 ⎤  ⎡1  3/2  4   -9 ⎤⎞\n",
       "⎜⎢              ⎥  ⎢               ⎥⎟\n",
       "⎜⎢0   1  0    0 ⎥  ⎢1  5/2  6   -13⎥⎟\n",
       "⎜⎢              ⎥, ⎢               ⎥⎟\n",
       "⎜⎢-1  5  12  -18⎥  ⎢0  1/2  2   -2 ⎥⎟\n",
       "⎜⎢              ⎥  ⎢               ⎥⎟\n",
       "⎝⎣1   6  12  -30⎦  ⎣0  -2   -4   9 ⎦⎠"
      ]
     },
     "execution_count": 88,
     "metadata": {},
     "output_type": "execute_result"
    }
   ],
   "source": [
    "imf2.compute(smp.S(4)/-1, adr1=4, adr2=2, mode='c')\n",
    "imf2.M, imf2.E"
   ]
  },
  {
   "cell_type": "code",
   "execution_count": 89,
   "metadata": {
    "collapsed": true
   },
   "outputs": [
    {
     "data": {
      "text/latex": [
       "$$\\left ( \\left[\\begin{matrix}1 & 0 & 0 & 0\\\\0 & 1 & 0 & 0\\\\0 & 5 & 12 & -18\\\\1 & 6 & 12 & -30\\end{matrix}\\right], \\quad \\left[\\begin{matrix}1 & \\frac{3}{2} & 4 & -9\\\\1 & \\frac{5}{2} & 6 & -13\\\\1 & 2 & 6 & -11\\\\0 & -2 & -4 & 9\\end{matrix}\\right]\\right )$$"
      ],
      "text/plain": [
       "⎛⎡1  0  0    0 ⎤  ⎡1  3/2  4   -9 ⎤⎞\n",
       "⎜⎢             ⎥  ⎢               ⎥⎟\n",
       "⎜⎢0  1  0    0 ⎥  ⎢1  5/2  6   -13⎥⎟\n",
       "⎜⎢             ⎥, ⎢               ⎥⎟\n",
       "⎜⎢0  5  12  -18⎥  ⎢1   2   6   -11⎥⎟\n",
       "⎜⎢             ⎥  ⎢               ⎥⎟\n",
       "⎝⎣1  6  12  -30⎦  ⎣0  -2   -4   9 ⎦⎠"
      ]
     },
     "execution_count": 89,
     "metadata": {},
     "output_type": "execute_result"
    }
   ],
   "source": [
    "imf2.compute(smp.S(1)/1, adr1=3, adr2=1, mode='r')\n",
    "imf2.M, imf2.E"
   ]
  },
  {
   "cell_type": "code",
   "execution_count": 90,
   "metadata": {
    "collapsed": true
   },
   "outputs": [
    {
     "data": {
      "text/latex": [
       "$$\\left ( \\left[\\begin{matrix}1 & 0 & 0 & 0\\\\0 & 1 & 0 & 0\\\\0 & 0 & 12 & -18\\\\1 & 6 & 12 & -30\\end{matrix}\\right], \\quad \\left[\\begin{matrix}1 & \\frac{3}{2} & 4 & -9\\\\1 & \\frac{5}{2} & 6 & -13\\\\-4 & - \\frac{21}{2} & -24 & 54\\\\0 & -2 & -4 & 9\\end{matrix}\\right]\\right )$$"
      ],
      "text/plain": [
       "⎛⎡1  0  0    0 ⎤  ⎡1    3/2    4   -9 ⎤⎞\n",
       "⎜⎢             ⎥  ⎢                   ⎥⎟\n",
       "⎜⎢0  1  0    0 ⎥  ⎢1    5/2    6   -13⎥⎟\n",
       "⎜⎢             ⎥, ⎢                   ⎥⎟\n",
       "⎜⎢0  0  12  -18⎥  ⎢-4  -21/2  -24  54 ⎥⎟\n",
       "⎜⎢             ⎥  ⎢                   ⎥⎟\n",
       "⎝⎣1  6  12  -30⎦  ⎣0    -2    -4    9 ⎦⎠"
      ]
     },
     "execution_count": 90,
     "metadata": {},
     "output_type": "execute_result"
    }
   ],
   "source": [
    "imf2.compute(smp.S(5)/-1, adr1=3, adr2=2, mode='r')\n",
    "imf2.M, imf2.E"
   ]
  },
  {
   "cell_type": "code",
   "execution_count": 91,
   "metadata": {
    "collapsed": true
   },
   "outputs": [
    {
     "data": {
      "text/latex": [
       "$$\\left ( \\left[\\begin{matrix}1 & 0 & 0 & 0\\\\0 & 1 & 0 & 0\\\\0 & 0 & 1 & - \\frac{3}{2}\\\\1 & 6 & 12 & -30\\end{matrix}\\right], \\quad \\left[\\begin{matrix}1 & \\frac{3}{2} & 4 & -9\\\\1 & \\frac{5}{2} & 6 & -13\\\\- \\frac{1}{3} & - \\frac{7}{8} & -2 & \\frac{9}{2}\\\\0 & -2 & -4 & 9\\end{matrix}\\right]\\right )$$"
      ],
      "text/plain": [
       "⎛⎡1  0  0    0  ⎤  ⎡ 1    3/2   4   -9 ⎤⎞\n",
       "⎜⎢              ⎥  ⎢                   ⎥⎟\n",
       "⎜⎢0  1  0    0  ⎥  ⎢ 1    5/2   6   -13⎥⎟\n",
       "⎜⎢              ⎥, ⎢                   ⎥⎟\n",
       "⎜⎢0  0  1   -3/2⎥  ⎢-1/3  -7/8  -2  9/2⎥⎟\n",
       "⎜⎢              ⎥  ⎢                   ⎥⎟\n",
       "⎝⎣1  6  12  -30 ⎦  ⎣ 0     -2   -4   9 ⎦⎠"
      ]
     },
     "execution_count": 91,
     "metadata": {},
     "output_type": "execute_result"
    }
   ],
   "source": [
    "imf2.compute(smp.S(1)/12, adr1=3, adr2=3, mode='r')\n",
    "imf2.M, imf2.E"
   ]
  },
  {
   "cell_type": "code",
   "execution_count": 92,
   "metadata": {
    "collapsed": true
   },
   "outputs": [
    {
     "data": {
      "text/latex": [
       "$$\\left ( \\left[\\begin{matrix}1 & 0 & 0 & 0\\\\0 & 1 & 0 & 0\\\\0 & 0 & 1 & 0\\\\1 & 6 & 12 & -12\\end{matrix}\\right], \\quad \\left[\\begin{matrix}1 & \\frac{3}{2} & 4 & -3\\\\1 & \\frac{5}{2} & 6 & -4\\\\- \\frac{1}{3} & - \\frac{7}{8} & -2 & \\frac{3}{2}\\\\0 & -2 & -4 & 3\\end{matrix}\\right]\\right )$$"
      ],
      "text/plain": [
       "⎛⎡1  0  0    0 ⎤  ⎡ 1    3/2   4   -3 ⎤⎞\n",
       "⎜⎢             ⎥  ⎢                   ⎥⎟\n",
       "⎜⎢0  1  0    0 ⎥  ⎢ 1    5/2   6   -4 ⎥⎟\n",
       "⎜⎢             ⎥, ⎢                   ⎥⎟\n",
       "⎜⎢0  0  1    0 ⎥  ⎢-1/3  -7/8  -2  3/2⎥⎟\n",
       "⎜⎢             ⎥  ⎢                   ⎥⎟\n",
       "⎝⎣1  6  12  -12⎦  ⎣ 0     -2   -4   3 ⎦⎠"
      ]
     },
     "execution_count": 92,
     "metadata": {},
     "output_type": "execute_result"
    }
   ],
   "source": [
    "imf2.compute(smp.S(3)/2, adr1=4, adr2=3, mode='c')\n",
    "imf2.M, imf2.E"
   ]
  },
  {
   "cell_type": "code",
   "execution_count": 93,
   "metadata": {
    "collapsed": true
   },
   "outputs": [
    {
     "data": {
      "text/latex": [
       "$$\\left ( \\left[\\begin{matrix}1 & 0 & 0 & 0\\\\0 & 1 & 0 & 0\\\\0 & 0 & 1 & 0\\\\0 & 6 & 12 & -12\\end{matrix}\\right], \\quad \\left[\\begin{matrix}1 & \\frac{3}{2} & 4 & -3\\\\1 & \\frac{5}{2} & 6 & -4\\\\- \\frac{1}{3} & - \\frac{7}{8} & -2 & \\frac{3}{2}\\\\-1 & - \\frac{7}{2} & -8 & 6\\end{matrix}\\right]\\right )$$"
      ],
      "text/plain": [
       "⎛⎡1  0  0    0 ⎤  ⎡ 1    3/2   4   -3 ⎤⎞\n",
       "⎜⎢             ⎥  ⎢                   ⎥⎟\n",
       "⎜⎢0  1  0    0 ⎥  ⎢ 1    5/2   6   -4 ⎥⎟\n",
       "⎜⎢             ⎥, ⎢                   ⎥⎟\n",
       "⎜⎢0  0  1    0 ⎥  ⎢-1/3  -7/8  -2  3/2⎥⎟\n",
       "⎜⎢             ⎥  ⎢                   ⎥⎟\n",
       "⎝⎣0  6  12  -12⎦  ⎣ -1   -7/2  -8   6 ⎦⎠"
      ]
     },
     "execution_count": 93,
     "metadata": {},
     "output_type": "execute_result"
    }
   ],
   "source": [
    "imf2.compute(smp.S(1)/-1, adr1=4, adr2=1, mode='r')\n",
    "imf2.M, imf2.E"
   ]
  },
  {
   "cell_type": "code",
   "execution_count": 94,
   "metadata": {
    "collapsed": true
   },
   "outputs": [
    {
     "data": {
      "text/latex": [
       "$$\\left ( \\left[\\begin{matrix}1 & 0 & 0 & 0\\\\0 & 1 & 0 & 0\\\\0 & 0 & 1 & 0\\\\0 & 0 & 12 & -12\\end{matrix}\\right], \\quad \\left[\\begin{matrix}1 & 0 & 4 & -3\\\\1 & \\frac{1}{2} & 6 & -4\\\\- \\frac{1}{3} & - \\frac{1}{8} & -2 & \\frac{3}{2}\\\\-1 & - \\frac{1}{2} & -8 & 6\\end{matrix}\\right]\\right )$$"
      ],
      "text/plain": [
       "⎛⎡1  0  0    0 ⎤  ⎡ 1     0    4   -3 ⎤⎞\n",
       "⎜⎢             ⎥  ⎢                   ⎥⎟\n",
       "⎜⎢0  1  0    0 ⎥  ⎢ 1    1/2   6   -4 ⎥⎟\n",
       "⎜⎢             ⎥, ⎢                   ⎥⎟\n",
       "⎜⎢0  0  1    0 ⎥  ⎢-1/3  -1/8  -2  3/2⎥⎟\n",
       "⎜⎢             ⎥  ⎢                   ⎥⎟\n",
       "⎝⎣0  0  12  -12⎦  ⎣ -1   -1/2  -8   6 ⎦⎠"
      ]
     },
     "execution_count": 94,
     "metadata": {},
     "output_type": "execute_result"
    }
   ],
   "source": [
    "imf2.compute(smp.S(1)/2, adr1=2, adr2=4, mode='c')\n",
    "imf2.M, imf2.E"
   ]
  },
  {
   "cell_type": "code",
   "execution_count": 95,
   "metadata": {
    "collapsed": true
   },
   "outputs": [
    {
     "data": {
      "text/latex": [
       "$$\\left ( \\left[\\begin{matrix}1 & 0 & 0 & 0\\\\0 & 1 & 0 & 0\\\\0 & 0 & 1 & 0\\\\0 & 0 & 0 & -12\\end{matrix}\\right], \\quad \\left[\\begin{matrix}1 & 0 & 1 & -3\\\\1 & \\frac{1}{2} & 2 & -4\\\\- \\frac{1}{3} & - \\frac{1}{8} & - \\frac{1}{2} & \\frac{3}{2}\\\\-1 & - \\frac{1}{2} & -2 & 6\\end{matrix}\\right]\\right )$$"
      ],
      "text/plain": [
       "⎛⎡1  0  0   0 ⎤  ⎡ 1     0     1    -3 ⎤⎞\n",
       "⎜⎢            ⎥  ⎢                     ⎥⎟\n",
       "⎜⎢0  1  0   0 ⎥  ⎢ 1    1/2    2    -4 ⎥⎟\n",
       "⎜⎢            ⎥, ⎢                     ⎥⎟\n",
       "⎜⎢0  0  1   0 ⎥  ⎢-1/3  -1/8  -1/2  3/2⎥⎟\n",
       "⎜⎢            ⎥  ⎢                     ⎥⎟\n",
       "⎝⎣0  0  0  -12⎦  ⎣ -1   -1/2   -2    6 ⎦⎠"
      ]
     },
     "execution_count": 95,
     "metadata": {},
     "output_type": "execute_result"
    }
   ],
   "source": [
    "imf2.compute(smp.S(1)/1, adr1=3, adr2=4, mode='c')\n",
    "imf2.M, imf2.E"
   ]
  },
  {
   "cell_type": "code",
   "execution_count": 96,
   "metadata": {
    "collapsed": true
   },
   "outputs": [
    {
     "data": {
      "text/latex": [
       "$$\\left ( \\left[\\begin{matrix}1 & 0 & 0 & 0\\\\0 & 1 & 0 & 0\\\\0 & 0 & 1 & 0\\\\0 & 0 & 0 & 1\\end{matrix}\\right], \\quad \\left[\\begin{matrix}1 & 0 & 1 & -3\\\\1 & \\frac{1}{2} & 2 & -4\\\\- \\frac{1}{3} & - \\frac{1}{8} & - \\frac{1}{2} & \\frac{3}{2}\\\\\\frac{1}{12} & \\frac{1}{24} & \\frac{1}{6} & - \\frac{1}{2}\\end{matrix}\\right]\\right )$$"
      ],
      "text/plain": [
       "⎛⎡1  0  0  0⎤  ⎡ 1     0     1     -3 ⎤⎞\n",
       "⎜⎢          ⎥  ⎢                      ⎥⎟\n",
       "⎜⎢0  1  0  0⎥  ⎢ 1    1/2    2     -4 ⎥⎟\n",
       "⎜⎢          ⎥, ⎢                      ⎥⎟\n",
       "⎜⎢0  0  1  0⎥  ⎢-1/3  -1/8  -1/2  3/2 ⎥⎟\n",
       "⎜⎢          ⎥  ⎢                      ⎥⎟\n",
       "⎝⎣0  0  0  1⎦  ⎣1/12  1/24  1/6   -1/2⎦⎠"
      ]
     },
     "execution_count": 96,
     "metadata": {},
     "output_type": "execute_result"
    }
   ],
   "source": [
    "imf2.compute(smp.S(1)/-12, adr1=4, adr2=4, mode='r')\n",
    "imf2.M, imf2.E"
   ]
  },
  {
   "cell_type": "markdown",
   "metadata": {},
   "source": [
    "# Конец расчета 2"
   ]
  },
  {
   "cell_type": "markdown",
   "metadata": {},
   "source": [
    "# Начало расчет 3"
   ]
  },
  {
   "cell_type": "code",
   "execution_count": 120,
   "metadata": {
    "collapsed": true
   },
   "outputs": [
    {
     "data": {
      "text/latex": [
       "$$\\left[\\begin{matrix}3 & 1 & 1 & 1\\\\-1 & 3 & -1 & 1\\\\-1 & 1 & 3 & -1\\\\1 & 1 & -1 & -3\\end{matrix}\\right]$$"
      ],
      "text/plain": [
       "⎡3   1  1   1 ⎤\n",
       "⎢             ⎥\n",
       "⎢-1  3  -1  1 ⎥\n",
       "⎢             ⎥\n",
       "⎢-1  1  3   -1⎥\n",
       "⎢             ⎥\n",
       "⎣1   1  -1  -3⎦"
      ]
     },
     "execution_count": 120,
     "metadata": {},
     "output_type": "execute_result"
    }
   ],
   "source": [
    "Cm_new3 = smp.Matrix(IC)\n",
    "for x in range(rows):\n",
    "    for y in range(cols):\n",
    "        elem = smp.S(int(Cm[x,y]))\n",
    "        Cm_new3[x,y] = elem\n",
    "Cm_new3"
   ]
  },
  {
   "cell_type": "code",
   "execution_count": 121,
   "metadata": {
    "collapsed": true
   },
   "outputs": [
    {
     "data": {
      "text/latex": [
       "$$\\left ( \\left[\\begin{matrix}3 & 1 & 1 & 1\\\\-1 & 3 & -1 & 1\\\\-1 & 1 & 3 & -1\\\\1 & 1 & -1 & -3\\end{matrix}\\right], \\quad \\left[\\begin{matrix}1 & 0 & 0 & 0\\\\0 & 1 & 0 & 0\\\\0 & 0 & 1 & 0\\\\0 & 0 & 0 & 1\\end{matrix}\\right]\\right )$$"
      ],
      "text/plain": [
       "⎛⎡3   1  1   1 ⎤  ⎡1  0  0  0⎤⎞\n",
       "⎜⎢             ⎥  ⎢          ⎥⎟\n",
       "⎜⎢-1  3  -1  1 ⎥  ⎢0  1  0  0⎥⎟\n",
       "⎜⎢             ⎥, ⎢          ⎥⎟\n",
       "⎜⎢-1  1  3   -1⎥  ⎢0  0  1  0⎥⎟\n",
       "⎜⎢             ⎥  ⎢          ⎥⎟\n",
       "⎝⎣1   1  -1  -3⎦  ⎣0  0  0  1⎦⎠"
      ]
     },
     "execution_count": 121,
     "metadata": {},
     "output_type": "execute_result"
    }
   ],
   "source": [
    "imf3 = InvMatrixFinder(Cm_new3)\n",
    "imf3.M, imf3.E"
   ]
  },
  {
   "cell_type": "code",
   "execution_count": 122,
   "metadata": {
    "collapsed": true
   },
   "outputs": [
    {
     "data": {
      "text/latex": [
       "$$\\left ( \\left[\\begin{matrix}1 & \\frac{1}{3} & \\frac{1}{3} & \\frac{1}{3}\\\\-1 & 3 & -1 & 1\\\\-1 & 1 & 3 & -1\\\\1 & 1 & -1 & -3\\end{matrix}\\right], \\quad \\left[\\begin{matrix}\\frac{1}{3} & 0 & 0 & 0\\\\0 & 1 & 0 & 0\\\\0 & 0 & 1 & 0\\\\0 & 0 & 0 & 1\\end{matrix}\\right]\\right )$$"
      ],
      "text/plain": [
       "⎛⎡1   1/3  1/3  1/3⎤  ⎡1/3  0  0  0⎤⎞\n",
       "⎜⎢                 ⎥  ⎢            ⎥⎟\n",
       "⎜⎢-1   3   -1    1 ⎥  ⎢ 0   1  0  0⎥⎟\n",
       "⎜⎢                 ⎥, ⎢            ⎥⎟\n",
       "⎜⎢-1   1    3   -1 ⎥  ⎢ 0   0  1  0⎥⎟\n",
       "⎜⎢                 ⎥  ⎢            ⎥⎟\n",
       "⎝⎣1    1   -1   -3 ⎦  ⎣ 0   0  0  1⎦⎠"
      ]
     },
     "execution_count": 122,
     "metadata": {},
     "output_type": "execute_result"
    }
   ],
   "source": [
    "imf3.compute(smp.S(1)/3, adr1=1, adr2=1, mode='r')\n",
    "imf3.M, imf3.E"
   ]
  },
  {
   "cell_type": "code",
   "execution_count": 123,
   "metadata": {
    "collapsed": true
   },
   "outputs": [
    {
     "data": {
      "text/latex": [
       "$$\\left ( \\left[\\begin{matrix}1 & \\frac{1}{3} & \\frac{1}{3} & \\frac{1}{3}\\\\0 & \\frac{10}{3} & - \\frac{2}{3} & \\frac{4}{3}\\\\-1 & 1 & 3 & -1\\\\1 & 1 & -1 & -3\\end{matrix}\\right], \\quad \\left[\\begin{matrix}\\frac{1}{3} & 0 & 0 & 0\\\\\\frac{1}{3} & 1 & 0 & 0\\\\0 & 0 & 1 & 0\\\\0 & 0 & 0 & 1\\end{matrix}\\right]\\right )$$"
      ],
      "text/plain": [
       "⎛⎡1   1/3   1/3   1/3⎤  ⎡1/3  0  0  0⎤⎞\n",
       "⎜⎢                   ⎥  ⎢            ⎥⎟\n",
       "⎜⎢0   10/3  -2/3  4/3⎥  ⎢1/3  1  0  0⎥⎟\n",
       "⎜⎢                   ⎥, ⎢            ⎥⎟\n",
       "⎜⎢-1   1     3    -1 ⎥  ⎢ 0   0  1  0⎥⎟\n",
       "⎜⎢                   ⎥  ⎢            ⎥⎟\n",
       "⎝⎣1    1     -1   -3 ⎦  ⎣ 0   0  0  1⎦⎠"
      ]
     },
     "execution_count": 123,
     "metadata": {},
     "output_type": "execute_result"
    }
   ],
   "source": [
    "imf3.compute(smp.S(1)/1, adr1=2, adr2=1, mode='r')\n",
    "imf3.M, imf3.E"
   ]
  },
  {
   "cell_type": "code",
   "execution_count": 124,
   "metadata": {
    "collapsed": true
   },
   "outputs": [
    {
     "data": {
      "text/latex": [
       "$$\\left ( \\left[\\begin{matrix}1 & \\frac{1}{3} & \\frac{1}{3} & \\frac{1}{3}\\\\0 & \\frac{10}{3} & - \\frac{2}{3} & \\frac{4}{3}\\\\0 & \\frac{4}{3} & \\frac{10}{3} & - \\frac{2}{3}\\\\1 & 1 & -1 & -3\\end{matrix}\\right], \\quad \\left[\\begin{matrix}\\frac{1}{3} & 0 & 0 & 0\\\\\\frac{1}{3} & 1 & 0 & 0\\\\\\frac{1}{3} & 0 & 1 & 0\\\\0 & 0 & 0 & 1\\end{matrix}\\right]\\right )$$"
      ],
      "text/plain": [
       "⎛⎡1  1/3   1/3   1/3 ⎤  ⎡1/3  0  0  0⎤⎞\n",
       "⎜⎢                   ⎥  ⎢            ⎥⎟\n",
       "⎜⎢0  10/3  -2/3  4/3 ⎥  ⎢1/3  1  0  0⎥⎟\n",
       "⎜⎢                   ⎥, ⎢            ⎥⎟\n",
       "⎜⎢0  4/3   10/3  -2/3⎥  ⎢1/3  0  1  0⎥⎟\n",
       "⎜⎢                   ⎥  ⎢            ⎥⎟\n",
       "⎝⎣1   1     -1    -3 ⎦  ⎣ 0   0  0  1⎦⎠"
      ]
     },
     "execution_count": 124,
     "metadata": {},
     "output_type": "execute_result"
    }
   ],
   "source": [
    "imf3.compute(smp.S(1)/1, adr1=3, adr2=1, mode='r')\n",
    "imf3.M, imf3.E"
   ]
  },
  {
   "cell_type": "code",
   "execution_count": 125,
   "metadata": {
    "collapsed": true
   },
   "outputs": [
    {
     "data": {
      "text/latex": [
       "$$\\left ( \\left[\\begin{matrix}1 & \\frac{1}{3} & \\frac{1}{3} & \\frac{1}{3}\\\\0 & \\frac{10}{3} & - \\frac{2}{3} & \\frac{4}{3}\\\\0 & \\frac{4}{3} & \\frac{10}{3} & - \\frac{2}{3}\\\\0 & \\frac{2}{3} & - \\frac{4}{3} & - \\frac{10}{3}\\end{matrix}\\right], \\quad \\left[\\begin{matrix}\\frac{1}{3} & 0 & 0 & 0\\\\\\frac{1}{3} & 1 & 0 & 0\\\\\\frac{1}{3} & 0 & 1 & 0\\\\- \\frac{1}{3} & 0 & 0 & 1\\end{matrix}\\right]\\right )$$"
      ],
      "text/plain": [
       "⎛⎡1  1/3   1/3    1/3 ⎤  ⎡1/3   0  0  0⎤⎞\n",
       "⎜⎢                    ⎥  ⎢             ⎥⎟\n",
       "⎜⎢0  10/3  -2/3   4/3 ⎥  ⎢1/3   1  0  0⎥⎟\n",
       "⎜⎢                    ⎥, ⎢             ⎥⎟\n",
       "⎜⎢0  4/3   10/3  -2/3 ⎥  ⎢1/3   0  1  0⎥⎟\n",
       "⎜⎢                    ⎥  ⎢             ⎥⎟\n",
       "⎝⎣0  2/3   -4/3  -10/3⎦  ⎣-1/3  0  0  1⎦⎠"
      ]
     },
     "execution_count": 125,
     "metadata": {},
     "output_type": "execute_result"
    }
   ],
   "source": [
    "imf3.compute(smp.S(1)/-1, adr1=4, adr2=1, mode='r')\n",
    "imf3.M, imf3.E"
   ]
  },
  {
   "cell_type": "code",
   "execution_count": 126,
   "metadata": {
    "collapsed": true
   },
   "outputs": [
    {
     "data": {
      "text/latex": [
       "$$\\left ( \\left[\\begin{matrix}1 & 0 & \\frac{1}{3} & \\frac{1}{3}\\\\0 & \\frac{10}{3} & - \\frac{2}{3} & \\frac{4}{3}\\\\0 & \\frac{4}{3} & \\frac{10}{3} & - \\frac{2}{3}\\\\0 & \\frac{2}{3} & - \\frac{4}{3} & - \\frac{10}{3}\\end{matrix}\\right], \\quad \\left[\\begin{matrix}\\frac{1}{3} & - \\frac{1}{9} & 0 & 0\\\\\\frac{1}{3} & \\frac{8}{9} & 0 & 0\\\\\\frac{1}{3} & - \\frac{1}{9} & 1 & 0\\\\- \\frac{1}{3} & \\frac{1}{9} & 0 & 1\\end{matrix}\\right]\\right )$$"
      ],
      "text/plain": [
       "⎛⎡1   0    1/3    1/3 ⎤  ⎡1/3   -1/9  0  0⎤⎞\n",
       "⎜⎢                    ⎥  ⎢                ⎥⎟\n",
       "⎜⎢0  10/3  -2/3   4/3 ⎥  ⎢1/3   8/9   0  0⎥⎟\n",
       "⎜⎢                    ⎥, ⎢                ⎥⎟\n",
       "⎜⎢0  4/3   10/3  -2/3 ⎥  ⎢1/3   -1/9  1  0⎥⎟\n",
       "⎜⎢                    ⎥  ⎢                ⎥⎟\n",
       "⎝⎣0  2/3   -4/3  -10/3⎦  ⎣-1/3  1/9   0  1⎦⎠"
      ]
     },
     "execution_count": 126,
     "metadata": {},
     "output_type": "execute_result"
    }
   ],
   "source": [
    "imf3.compute(smp.S(1)/(-3), adr1=2, adr2=1, mode='c')\n",
    "imf3.M, imf3.E"
   ]
  },
  {
   "cell_type": "code",
   "execution_count": 127,
   "metadata": {
    "collapsed": true
   },
   "outputs": [
    {
     "data": {
      "text/latex": [
       "$$\\left ( \\left[\\begin{matrix}1 & 0 & 0 & \\frac{1}{3}\\\\0 & \\frac{10}{3} & - \\frac{2}{3} & \\frac{4}{3}\\\\0 & \\frac{4}{3} & \\frac{10}{3} & - \\frac{2}{3}\\\\0 & \\frac{2}{3} & - \\frac{4}{3} & - \\frac{10}{3}\\end{matrix}\\right], \\quad \\left[\\begin{matrix}\\frac{1}{3} & - \\frac{1}{9} & - \\frac{1}{9} & 0\\\\\\frac{1}{3} & \\frac{8}{9} & - \\frac{1}{9} & 0\\\\\\frac{1}{3} & - \\frac{1}{9} & \\frac{8}{9} & 0\\\\- \\frac{1}{3} & \\frac{1}{9} & \\frac{1}{9} & 1\\end{matrix}\\right]\\right )$$"
      ],
      "text/plain": [
       "⎛⎡1   0     0     1/3 ⎤  ⎡1/3   -1/9  -1/9  0⎤⎞\n",
       "⎜⎢                    ⎥  ⎢                   ⎥⎟\n",
       "⎜⎢0  10/3  -2/3   4/3 ⎥  ⎢1/3   8/9   -1/9  0⎥⎟\n",
       "⎜⎢                    ⎥, ⎢                   ⎥⎟\n",
       "⎜⎢0  4/3   10/3  -2/3 ⎥  ⎢1/3   -1/9  8/9   0⎥⎟\n",
       "⎜⎢                    ⎥  ⎢                   ⎥⎟\n",
       "⎝⎣0  2/3   -4/3  -10/3⎦  ⎣-1/3  1/9   1/9   1⎦⎠"
      ]
     },
     "execution_count": 127,
     "metadata": {},
     "output_type": "execute_result"
    }
   ],
   "source": [
    "imf3.compute(smp.S(1)/-3, adr1=3, adr2=1, mode='c')\n",
    "imf3.M, imf3.E"
   ]
  },
  {
   "cell_type": "code",
   "execution_count": 128,
   "metadata": {
    "collapsed": true
   },
   "outputs": [
    {
     "data": {
      "text/latex": [
       "$$\\left ( \\left[\\begin{matrix}1 & 0 & 0 & 0\\\\0 & \\frac{10}{3} & - \\frac{2}{3} & \\frac{4}{3}\\\\0 & \\frac{4}{3} & \\frac{10}{3} & - \\frac{2}{3}\\\\0 & \\frac{2}{3} & - \\frac{4}{3} & - \\frac{10}{3}\\end{matrix}\\right], \\quad \\left[\\begin{matrix}\\frac{1}{3} & - \\frac{1}{9} & - \\frac{1}{9} & - \\frac{1}{9}\\\\\\frac{1}{3} & \\frac{8}{9} & - \\frac{1}{9} & - \\frac{1}{9}\\\\\\frac{1}{3} & - \\frac{1}{9} & \\frac{8}{9} & - \\frac{1}{9}\\\\- \\frac{1}{3} & \\frac{1}{9} & \\frac{1}{9} & \\frac{10}{9}\\end{matrix}\\right]\\right )$$"
      ],
      "text/plain": [
       "⎛⎡1   0     0      0  ⎤  ⎡1/3   -1/9  -1/9  -1/9⎤⎞\n",
       "⎜⎢                    ⎥  ⎢                      ⎥⎟\n",
       "⎜⎢0  10/3  -2/3   4/3 ⎥  ⎢1/3   8/9   -1/9  -1/9⎥⎟\n",
       "⎜⎢                    ⎥, ⎢                      ⎥⎟\n",
       "⎜⎢0  4/3   10/3  -2/3 ⎥  ⎢1/3   -1/9  8/9   -1/9⎥⎟\n",
       "⎜⎢                    ⎥  ⎢                      ⎥⎟\n",
       "⎝⎣0  2/3   -4/3  -10/3⎦  ⎣-1/3  1/9   1/9   10/9⎦⎠"
      ]
     },
     "execution_count": 128,
     "metadata": {},
     "output_type": "execute_result"
    }
   ],
   "source": [
    "imf3.compute(smp.S(1)/-3, adr1=4, adr2=1, mode='c')\n",
    "imf3.M, imf3.E"
   ]
  },
  {
   "cell_type": "code",
   "execution_count": 129,
   "metadata": {
    "collapsed": true
   },
   "outputs": [
    {
     "data": {
      "text/latex": [
       "$$\\left ( \\left[\\begin{matrix}1 & 0 & 0 & 0\\\\0 & 1 & - \\frac{1}{5} & \\frac{2}{5}\\\\0 & \\frac{4}{3} & \\frac{10}{3} & - \\frac{2}{3}\\\\0 & \\frac{2}{3} & - \\frac{4}{3} & - \\frac{10}{3}\\end{matrix}\\right], \\quad \\left[\\begin{matrix}\\frac{1}{3} & - \\frac{1}{9} & - \\frac{1}{9} & - \\frac{1}{9}\\\\\\frac{1}{10} & \\frac{4}{15} & - \\frac{1}{30} & - \\frac{1}{30}\\\\\\frac{1}{3} & - \\frac{1}{9} & \\frac{8}{9} & - \\frac{1}{9}\\\\- \\frac{1}{3} & \\frac{1}{9} & \\frac{1}{9} & \\frac{10}{9}\\end{matrix}\\right]\\right )$$"
      ],
      "text/plain": [
       "⎛⎡1   0    0      0  ⎤  ⎡1/3   -1/9  -1/9   -1/9 ⎤⎞\n",
       "⎜⎢                   ⎥  ⎢                        ⎥⎟\n",
       "⎜⎢0   1   -1/5   2/5 ⎥  ⎢1/10  4/15  -1/30  -1/30⎥⎟\n",
       "⎜⎢                   ⎥, ⎢                        ⎥⎟\n",
       "⎜⎢0  4/3  10/3  -2/3 ⎥  ⎢1/3   -1/9   8/9   -1/9 ⎥⎟\n",
       "⎜⎢                   ⎥  ⎢                        ⎥⎟\n",
       "⎝⎣0  2/3  -4/3  -10/3⎦  ⎣-1/3  1/9    1/9   10/9 ⎦⎠"
      ]
     },
     "execution_count": 129,
     "metadata": {},
     "output_type": "execute_result"
    }
   ],
   "source": [
    "imf3.compute(smp.S(3)/10, adr1=2, adr2=2, mode='r')\n",
    "imf3.M, imf3.E"
   ]
  },
  {
   "cell_type": "code",
   "execution_count": 130,
   "metadata": {
    "collapsed": true
   },
   "outputs": [
    {
     "data": {
      "text/latex": [
       "$$\\left ( \\left[\\begin{matrix}1 & 0 & 0 & 0\\\\0 & 1 & - \\frac{1}{5} & \\frac{2}{5}\\\\0 & 0 & \\frac{18}{5} & - \\frac{6}{5}\\\\0 & \\frac{2}{3} & - \\frac{4}{3} & - \\frac{10}{3}\\end{matrix}\\right], \\quad \\left[\\begin{matrix}\\frac{1}{3} & - \\frac{1}{9} & - \\frac{1}{9} & - \\frac{1}{9}\\\\\\frac{1}{10} & \\frac{4}{15} & - \\frac{1}{30} & - \\frac{1}{30}\\\\\\frac{1}{5} & - \\frac{7}{15} & \\frac{14}{15} & - \\frac{1}{15}\\\\- \\frac{1}{3} & \\frac{1}{9} & \\frac{1}{9} & \\frac{10}{9}\\end{matrix}\\right]\\right )$$"
      ],
      "text/plain": [
       "⎛                       ⎡1/3   -1/9   -1/9   -1/9 ⎤⎞\n",
       "⎜⎡1   0    0      0  ⎤  ⎢                         ⎥⎟\n",
       "⎜⎢                   ⎥  ⎢1/10  4/15   -1/30  -1/30⎥⎟\n",
       "⎜⎢0   1   -1/5   2/5 ⎥  ⎢                         ⎥⎟\n",
       "⎜⎢                   ⎥, ⎢              14         ⎥⎟\n",
       "⎜⎢0   0   18/5  -6/5 ⎥  ⎢1/5   -7/15   ──    -1/15⎥⎟\n",
       "⎜⎢                   ⎥  ⎢              15         ⎥⎟\n",
       "⎜⎣0  2/3  -4/3  -10/3⎦  ⎢                         ⎥⎟\n",
       "⎝                       ⎣-1/3   1/9    1/9   10/9 ⎦⎠"
      ]
     },
     "execution_count": 130,
     "metadata": {},
     "output_type": "execute_result"
    }
   ],
   "source": [
    "imf3.compute(smp.S(4)/-3, adr1=3, adr2=2, mode='r')\n",
    "imf3.M, imf3.E"
   ]
  },
  {
   "cell_type": "code",
   "execution_count": 131,
   "metadata": {
    "collapsed": true
   },
   "outputs": [
    {
     "data": {
      "text/latex": [
       "$$\\left ( \\left[\\begin{matrix}1 & 0 & 0 & 0\\\\0 & 1 & - \\frac{1}{5} & \\frac{2}{5}\\\\0 & 0 & \\frac{18}{5} & - \\frac{6}{5}\\\\0 & 0 & - \\frac{6}{5} & - \\frac{18}{5}\\end{matrix}\\right], \\quad \\left[\\begin{matrix}\\frac{1}{3} & - \\frac{1}{9} & - \\frac{1}{9} & - \\frac{1}{9}\\\\\\frac{1}{10} & \\frac{4}{15} & - \\frac{1}{30} & - \\frac{1}{30}\\\\\\frac{1}{5} & - \\frac{7}{15} & \\frac{14}{15} & - \\frac{1}{15}\\\\- \\frac{2}{5} & - \\frac{1}{15} & \\frac{2}{15} & \\frac{17}{15}\\end{matrix}\\right]\\right )$$"
      ],
      "text/plain": [
       "⎛                     ⎡1/3   -1/9   -1/9   -1/9 ⎤⎞\n",
       "⎜                     ⎢                         ⎥⎟\n",
       "⎜⎡1  0   0      0  ⎤  ⎢1/10  4/15   -1/30  -1/30⎥⎟\n",
       "⎜⎢                 ⎥  ⎢                         ⎥⎟\n",
       "⎜⎢0  1  -1/5   2/5 ⎥  ⎢              14         ⎥⎟\n",
       "⎜⎢                 ⎥, ⎢1/5   -7/15   ──    -1/15⎥⎟\n",
       "⎜⎢0  0  18/5  -6/5 ⎥  ⎢              15         ⎥⎟\n",
       "⎜⎢                 ⎥  ⎢                         ⎥⎟\n",
       "⎜⎣0  0  -6/5  -18/5⎦  ⎢                     17  ⎥⎟\n",
       "⎜                     ⎢-2/5  -1/15  2/15    ──  ⎥⎟\n",
       "⎝                     ⎣                     15  ⎦⎠"
      ]
     },
     "execution_count": 131,
     "metadata": {},
     "output_type": "execute_result"
    }
   ],
   "source": [
    "imf3.compute(smp.S(2)/-3, adr1=4, adr2=2, mode='r')\n",
    "imf3.M, imf3.E"
   ]
  },
  {
   "cell_type": "code",
   "execution_count": 132,
   "metadata": {
    "collapsed": true
   },
   "outputs": [
    {
     "data": {
      "text/latex": [
       "$$\\left ( \\left[\\begin{matrix}1 & 0 & 0 & 0\\\\0 & 1 & 0 & \\frac{2}{5}\\\\0 & 0 & \\frac{18}{5} & - \\frac{6}{5}\\\\0 & 0 & - \\frac{6}{5} & - \\frac{18}{5}\\end{matrix}\\right], \\quad \\left[\\begin{matrix}\\frac{1}{3} & - \\frac{1}{9} & - \\frac{2}{15} & - \\frac{1}{9}\\\\\\frac{1}{10} & \\frac{4}{15} & \\frac{1}{50} & - \\frac{1}{30}\\\\\\frac{1}{5} & - \\frac{7}{15} & \\frac{21}{25} & - \\frac{1}{15}\\\\- \\frac{2}{5} & - \\frac{1}{15} & \\frac{3}{25} & \\frac{17}{15}\\end{matrix}\\right]\\right )$$"
      ],
      "text/plain": [
       "⎛                     ⎡1/3   -1/9   -2/15  -1/9 ⎤⎞\n",
       "⎜                     ⎢                         ⎥⎟\n",
       "⎜⎡1  0   0      0  ⎤  ⎢1/10  4/15   1/50   -1/30⎥⎟\n",
       "⎜⎢                 ⎥  ⎢                         ⎥⎟\n",
       "⎜⎢0  1   0     2/5 ⎥  ⎢              21         ⎥⎟\n",
       "⎜⎢                 ⎥, ⎢1/5   -7/15   ──    -1/15⎥⎟\n",
       "⎜⎢0  0  18/5  -6/5 ⎥  ⎢              25         ⎥⎟\n",
       "⎜⎢                 ⎥  ⎢                         ⎥⎟\n",
       "⎜⎣0  0  -6/5  -18/5⎦  ⎢                     17  ⎥⎟\n",
       "⎜                     ⎢-2/5  -1/15  3/25    ──  ⎥⎟\n",
       "⎝                     ⎣                     15  ⎦⎠"
      ]
     },
     "execution_count": 132,
     "metadata": {},
     "output_type": "execute_result"
    }
   ],
   "source": [
    "imf3.compute(smp.S(1)/5, adr1=3, adr2=2, mode='c')\n",
    "imf3.M, imf3.E"
   ]
  },
  {
   "cell_type": "code",
   "execution_count": 133,
   "metadata": {
    "collapsed": true
   },
   "outputs": [
    {
     "data": {
      "text/latex": [
       "$$\\left ( \\left[\\begin{matrix}1 & 0 & 0 & 0\\\\0 & 1 & 0 & 0\\\\0 & 0 & \\frac{18}{5} & - \\frac{6}{5}\\\\0 & 0 & - \\frac{6}{5} & - \\frac{18}{5}\\end{matrix}\\right], \\quad \\left[\\begin{matrix}\\frac{1}{3} & - \\frac{1}{9} & - \\frac{2}{15} & - \\frac{1}{15}\\\\\\frac{1}{10} & \\frac{4}{15} & \\frac{1}{50} & - \\frac{7}{50}\\\\\\frac{1}{5} & - \\frac{7}{15} & \\frac{21}{25} & \\frac{3}{25}\\\\- \\frac{2}{5} & - \\frac{1}{15} & \\frac{3}{25} & \\frac{29}{25}\\end{matrix}\\right]\\right )$$"
      ],
      "text/plain": [
       "⎛                     ⎡1/3   -1/9   -2/15  -1/15⎤⎞\n",
       "⎜                     ⎢                         ⎥⎟\n",
       "⎜⎡1  0   0      0  ⎤  ⎢1/10  4/15   1/50   -7/50⎥⎟\n",
       "⎜⎢                 ⎥  ⎢                         ⎥⎟\n",
       "⎜⎢0  1   0      0  ⎥  ⎢              21         ⎥⎟\n",
       "⎜⎢                 ⎥, ⎢1/5   -7/15   ──    3/25 ⎥⎟\n",
       "⎜⎢0  0  18/5  -6/5 ⎥  ⎢              25         ⎥⎟\n",
       "⎜⎢                 ⎥  ⎢                         ⎥⎟\n",
       "⎜⎣0  0  -6/5  -18/5⎦  ⎢                     29  ⎥⎟\n",
       "⎜                     ⎢-2/5  -1/15  3/25    ──  ⎥⎟\n",
       "⎝                     ⎣                     25  ⎦⎠"
      ]
     },
     "execution_count": 133,
     "metadata": {},
     "output_type": "execute_result"
    }
   ],
   "source": [
    "imf3.compute(smp.S(2)/-5, adr1=4, adr2=2, mode='c')\n",
    "imf3.M, imf3.E"
   ]
  },
  {
   "cell_type": "code",
   "execution_count": 134,
   "metadata": {
    "collapsed": true
   },
   "outputs": [
    {
     "data": {
      "text/latex": [
       "$$\\left ( \\left[\\begin{matrix}1 & 0 & 0 & 0\\\\0 & 1 & 0 & 0\\\\0 & 0 & 1 & - \\frac{1}{3}\\\\0 & 0 & - \\frac{6}{5} & - \\frac{18}{5}\\end{matrix}\\right], \\quad \\left[\\begin{matrix}\\frac{1}{3} & - \\frac{1}{9} & - \\frac{2}{15} & - \\frac{1}{15}\\\\\\frac{1}{10} & \\frac{4}{15} & \\frac{1}{50} & - \\frac{7}{50}\\\\\\frac{1}{18} & - \\frac{7}{54} & \\frac{7}{30} & \\frac{1}{30}\\\\- \\frac{2}{5} & - \\frac{1}{15} & \\frac{3}{25} & \\frac{29}{25}\\end{matrix}\\right]\\right )$$"
      ],
      "text/plain": [
       "⎛                     ⎡1/3   -1/9   -2/15  -1/15⎤⎞\n",
       "⎜⎡1  0   0      0  ⎤  ⎢                         ⎥⎟\n",
       "⎜⎢                 ⎥  ⎢1/10  4/15   1/50   -7/50⎥⎟\n",
       "⎜⎢0  1   0      0  ⎥  ⎢                         ⎥⎟\n",
       "⎜⎢                 ⎥, ⎢1/18  -7/54  7/30   1/30 ⎥⎟\n",
       "⎜⎢0  0   1    -1/3 ⎥  ⎢                         ⎥⎟\n",
       "⎜⎢                 ⎥  ⎢                     29  ⎥⎟\n",
       "⎜⎣0  0  -6/5  -18/5⎦  ⎢-2/5  -1/15  3/25    ──  ⎥⎟\n",
       "⎝                     ⎣                     25  ⎦⎠"
      ]
     },
     "execution_count": 134,
     "metadata": {},
     "output_type": "execute_result"
    }
   ],
   "source": [
    "imf3.compute(smp.S(5)/18, adr1=3, adr2=3, mode='r')\n",
    "imf3.M, imf3.E"
   ]
  },
  {
   "cell_type": "code",
   "execution_count": 135,
   "metadata": {
    "collapsed": true
   },
   "outputs": [
    {
     "data": {
      "text/latex": [
       "$$\\left ( \\left[\\begin{matrix}1 & 0 & 0 & 0\\\\0 & 1 & 0 & 0\\\\0 & 0 & 1 & 0\\\\0 & 0 & - \\frac{6}{5} & -4\\end{matrix}\\right], \\quad \\left[\\begin{matrix}\\frac{1}{3} & - \\frac{1}{9} & - \\frac{2}{15} & - \\frac{1}{9}\\\\\\frac{1}{10} & \\frac{4}{15} & \\frac{1}{50} & - \\frac{2}{15}\\\\\\frac{1}{18} & - \\frac{7}{54} & \\frac{7}{30} & \\frac{1}{9}\\\\- \\frac{2}{5} & - \\frac{1}{15} & \\frac{3}{25} & \\frac{6}{5}\\end{matrix}\\right]\\right )$$"
      ],
      "text/plain": [
       "⎛⎡1  0   0    0 ⎤  ⎡1/3   -1/9   -2/15  -1/9 ⎤⎞\n",
       "⎜⎢              ⎥  ⎢                         ⎥⎟\n",
       "⎜⎢0  1   0    0 ⎥  ⎢1/10  4/15   1/50   -2/15⎥⎟\n",
       "⎜⎢              ⎥, ⎢                         ⎥⎟\n",
       "⎜⎢0  0   1    0 ⎥  ⎢1/18  -7/54  7/30    1/9 ⎥⎟\n",
       "⎜⎢              ⎥  ⎢                         ⎥⎟\n",
       "⎝⎣0  0  -6/5  -4⎦  ⎣-2/5  -1/15  3/25    6/5 ⎦⎠"
      ]
     },
     "execution_count": 135,
     "metadata": {},
     "output_type": "execute_result"
    }
   ],
   "source": [
    "imf3.compute(smp.S(1)/3, adr1=4, adr2=3, mode='c')\n",
    "imf3.M, imf3.E"
   ]
  },
  {
   "cell_type": "code",
   "execution_count": 136,
   "metadata": {
    "collapsed": true
   },
   "outputs": [
    {
     "data": {
      "text/latex": [
       "$$\\left ( \\left[\\begin{matrix}1 & 0 & 0 & 0\\\\0 & 1 & 0 & 0\\\\0 & 0 & 1 & 0\\\\0 & 0 & 0 & -4\\end{matrix}\\right], \\quad \\left[\\begin{matrix}\\frac{1}{3} & - \\frac{1}{9} & - \\frac{2}{15} & - \\frac{1}{9}\\\\\\frac{1}{10} & \\frac{4}{15} & \\frac{1}{50} & - \\frac{2}{15}\\\\\\frac{1}{18} & - \\frac{7}{54} & \\frac{7}{30} & \\frac{1}{9}\\\\- \\frac{1}{3} & - \\frac{2}{9} & \\frac{2}{5} & \\frac{4}{3}\\end{matrix}\\right]\\right )$$"
      ],
      "text/plain": [
       "⎛⎡1  0  0  0 ⎤  ⎡1/3   -1/9   -2/15  -1/9 ⎤⎞\n",
       "⎜⎢           ⎥  ⎢                         ⎥⎟\n",
       "⎜⎢0  1  0  0 ⎥  ⎢1/10  4/15   1/50   -2/15⎥⎟\n",
       "⎜⎢           ⎥, ⎢                         ⎥⎟\n",
       "⎜⎢0  0  1  0 ⎥  ⎢1/18  -7/54  7/30    1/9 ⎥⎟\n",
       "⎜⎢           ⎥  ⎢                         ⎥⎟\n",
       "⎝⎣0  0  0  -4⎦  ⎣-1/3  -2/9    2/5    4/3 ⎦⎠"
      ]
     },
     "execution_count": 136,
     "metadata": {},
     "output_type": "execute_result"
    }
   ],
   "source": [
    "imf3.compute(smp.S(6)/5, adr1=4, adr2=3, mode='r')\n",
    "imf3.M, imf3.E"
   ]
  },
  {
   "cell_type": "code",
   "execution_count": 139,
   "metadata": {
    "collapsed": true
   },
   "outputs": [
    {
     "data": {
      "text/latex": [
       "$$\\left ( \\left[\\begin{matrix}1 & 0 & 0 & 0\\\\0 & 1 & 0 & 0\\\\0 & 0 & 1 & 0\\\\0 & 0 & 0 & 1\\end{matrix}\\right], \\quad \\left[\\begin{matrix}\\frac{1}{3} & - \\frac{1}{9} & - \\frac{2}{15} & - \\frac{1}{9}\\\\\\frac{1}{10} & \\frac{4}{15} & \\frac{1}{50} & - \\frac{2}{15}\\\\\\frac{1}{18} & - \\frac{7}{54} & \\frac{7}{30} & \\frac{1}{9}\\\\\\frac{1}{12} & \\frac{1}{18} & - \\frac{1}{10} & - \\frac{1}{3}\\end{matrix}\\right]\\right )$$"
      ],
      "text/plain": [
       "⎛⎡1  0  0  0⎤  ⎡1/3   -1/9   -2/15  -1/9 ⎤⎞\n",
       "⎜⎢          ⎥  ⎢                         ⎥⎟\n",
       "⎜⎢0  1  0  0⎥  ⎢1/10  4/15   1/50   -2/15⎥⎟\n",
       "⎜⎢          ⎥, ⎢                         ⎥⎟\n",
       "⎜⎢0  0  1  0⎥  ⎢1/18  -7/54  7/30    1/9 ⎥⎟\n",
       "⎜⎢          ⎥  ⎢                         ⎥⎟\n",
       "⎝⎣0  0  0  1⎦  ⎣1/12  1/18   -1/10  -1/3 ⎦⎠"
      ]
     },
     "execution_count": 139,
     "metadata": {},
     "output_type": "execute_result"
    }
   ],
   "source": [
    "imf3.compute(smp.S(1)/-4, adr1=4, adr2=4, mode='r')\n",
    "imf3.M, imf3.E"
   ]
  },
  {
   "cell_type": "markdown",
   "metadata": {},
   "source": [
    "# Конец расчета 3"
   ]
  },
  {
   "cell_type": "markdown",
   "metadata": {},
   "source": [
    "# Начало расчета 4"
   ]
  },
  {
   "cell_type": "code",
   "execution_count": 189,
   "metadata": {},
   "outputs": [
    {
     "data": {
      "text/latex": [
       "$$\\left[\\begin{matrix}3 & 1 & 1 & 1\\\\-1 & 3 & -1 & 1\\\\-1 & 1 & 3 & -1\\\\1 & 1 & -1 & -3\\end{matrix}\\right]$$"
      ],
      "text/plain": [
       "⎡3   1  1   1 ⎤\n",
       "⎢             ⎥\n",
       "⎢-1  3  -1  1 ⎥\n",
       "⎢             ⎥\n",
       "⎢-1  1  3   -1⎥\n",
       "⎢             ⎥\n",
       "⎣1   1  -1  -3⎦"
      ]
     },
     "execution_count": 189,
     "metadata": {},
     "output_type": "execute_result"
    }
   ],
   "source": [
    "Cm_new4 = smp.Matrix(IC)\n",
    "for x in range(rows):\n",
    "    for y in range(cols):\n",
    "        elem = smp.S(int(Cm[x,y]))\n",
    "        Cm_new4[x,y] = elem\n",
    "Cm_new4"
   ]
  },
  {
   "cell_type": "code",
   "execution_count": 190,
   "metadata": {},
   "outputs": [
    {
     "data": {
      "text/latex": [
       "$$\\left ( \\left[\\begin{matrix}3 & 1 & 1 & 1\\\\-1 & 3 & -1 & 1\\\\-1 & 1 & 3 & -1\\\\1 & 1 & -1 & -3\\end{matrix}\\right], \\quad \\left[\\begin{matrix}1 & 0 & 0 & 0\\\\0 & 1 & 0 & 0\\\\0 & 0 & 1 & 0\\\\0 & 0 & 0 & 1\\end{matrix}\\right]\\right )$$"
      ],
      "text/plain": [
       "⎛⎡3   1  1   1 ⎤  ⎡1  0  0  0⎤⎞\n",
       "⎜⎢             ⎥  ⎢          ⎥⎟\n",
       "⎜⎢-1  3  -1  1 ⎥  ⎢0  1  0  0⎥⎟\n",
       "⎜⎢             ⎥, ⎢          ⎥⎟\n",
       "⎜⎢-1  1  3   -1⎥  ⎢0  0  1  0⎥⎟\n",
       "⎜⎢             ⎥  ⎢          ⎥⎟\n",
       "⎝⎣1   1  -1  -3⎦  ⎣0  0  0  1⎦⎠"
      ]
     },
     "execution_count": 190,
     "metadata": {},
     "output_type": "execute_result"
    }
   ],
   "source": [
    "imf4 = InvMatrixFinder(Cm_new4)\n",
    "imf4.M, imf4.E"
   ]
  },
  {
   "cell_type": "code",
   "execution_count": 191,
   "metadata": {},
   "outputs": [
    {
     "data": {
      "text/latex": [
       "$$\\left ( \\left[\\begin{matrix}1 & \\frac{1}{3} & \\frac{1}{3} & \\frac{1}{3}\\\\-1 & 3 & -1 & 1\\\\-1 & 1 & 3 & -1\\\\1 & 1 & -1 & -3\\end{matrix}\\right], \\quad \\left[\\begin{matrix}\\frac{1}{3} & 0 & 0 & 0\\\\0 & 1 & 0 & 0\\\\0 & 0 & 1 & 0\\\\0 & 0 & 0 & 1\\end{matrix}\\right]\\right )$$"
      ],
      "text/plain": [
       "⎛⎡1   1/3  1/3  1/3⎤  ⎡1/3  0  0  0⎤⎞\n",
       "⎜⎢                 ⎥  ⎢            ⎥⎟\n",
       "⎜⎢-1   3   -1    1 ⎥  ⎢ 0   1  0  0⎥⎟\n",
       "⎜⎢                 ⎥, ⎢            ⎥⎟\n",
       "⎜⎢-1   1    3   -1 ⎥  ⎢ 0   0  1  0⎥⎟\n",
       "⎜⎢                 ⎥  ⎢            ⎥⎟\n",
       "⎝⎣1    1   -1   -3 ⎦  ⎣ 0   0  0  1⎦⎠"
      ]
     },
     "execution_count": 191,
     "metadata": {},
     "output_type": "execute_result"
    }
   ],
   "source": [
    "imf4.compute(smp.S(1)/3, adr1=1, adr2=1, mode='r')\n",
    "imf4.M, imf4.E"
   ]
  },
  {
   "cell_type": "code",
   "execution_count": 192,
   "metadata": {},
   "outputs": [
    {
     "data": {
      "text/latex": [
       "$$\\left ( \\left[\\begin{matrix}1 & \\frac{1}{3} & \\frac{1}{3} & \\frac{1}{3}\\\\0 & \\frac{10}{3} & - \\frac{2}{3} & \\frac{4}{3}\\\\-1 & 1 & 3 & -1\\\\1 & 1 & -1 & -3\\end{matrix}\\right], \\quad \\left[\\begin{matrix}\\frac{1}{3} & 0 & 0 & 0\\\\\\frac{1}{3} & 1 & 0 & 0\\\\0 & 0 & 1 & 0\\\\0 & 0 & 0 & 1\\end{matrix}\\right]\\right )$$"
      ],
      "text/plain": [
       "⎛⎡1   1/3   1/3   1/3⎤  ⎡1/3  0  0  0⎤⎞\n",
       "⎜⎢                   ⎥  ⎢            ⎥⎟\n",
       "⎜⎢0   10/3  -2/3  4/3⎥  ⎢1/3  1  0  0⎥⎟\n",
       "⎜⎢                   ⎥, ⎢            ⎥⎟\n",
       "⎜⎢-1   1     3    -1 ⎥  ⎢ 0   0  1  0⎥⎟\n",
       "⎜⎢                   ⎥  ⎢            ⎥⎟\n",
       "⎝⎣1    1     -1   -3 ⎦  ⎣ 0   0  0  1⎦⎠"
      ]
     },
     "execution_count": 192,
     "metadata": {},
     "output_type": "execute_result"
    }
   ],
   "source": [
    "imf4.compute(smp.S(1)/1, adr1=2, adr2=1, mode='r')\n",
    "imf4.M, imf4.E"
   ]
  },
  {
   "cell_type": "code",
   "execution_count": 193,
   "metadata": {},
   "outputs": [
    {
     "data": {
      "text/latex": [
       "$$\\left ( \\left[\\begin{matrix}1 & \\frac{1}{3} & \\frac{1}{3} & \\frac{1}{3}\\\\0 & \\frac{10}{3} & - \\frac{2}{3} & \\frac{4}{3}\\\\0 & \\frac{4}{3} & \\frac{10}{3} & - \\frac{2}{3}\\\\1 & 1 & -1 & -3\\end{matrix}\\right], \\quad \\left[\\begin{matrix}\\frac{1}{3} & 0 & 0 & 0\\\\\\frac{1}{3} & 1 & 0 & 0\\\\\\frac{1}{3} & 0 & 1 & 0\\\\0 & 0 & 0 & 1\\end{matrix}\\right]\\right )$$"
      ],
      "text/plain": [
       "⎛⎡1  1/3   1/3   1/3 ⎤  ⎡1/3  0  0  0⎤⎞\n",
       "⎜⎢                   ⎥  ⎢            ⎥⎟\n",
       "⎜⎢0  10/3  -2/3  4/3 ⎥  ⎢1/3  1  0  0⎥⎟\n",
       "⎜⎢                   ⎥, ⎢            ⎥⎟\n",
       "⎜⎢0  4/3   10/3  -2/3⎥  ⎢1/3  0  1  0⎥⎟\n",
       "⎜⎢                   ⎥  ⎢            ⎥⎟\n",
       "⎝⎣1   1     -1    -3 ⎦  ⎣ 0   0  0  1⎦⎠"
      ]
     },
     "execution_count": 193,
     "metadata": {},
     "output_type": "execute_result"
    }
   ],
   "source": [
    "imf4.compute(smp.S(1)/1, adr1=3, adr2=1, mode='r')\n",
    "imf4.M, imf4.E"
   ]
  },
  {
   "cell_type": "code",
   "execution_count": 194,
   "metadata": {},
   "outputs": [
    {
     "data": {
      "text/latex": [
       "$$\\left ( \\left[\\begin{matrix}1 & \\frac{1}{3} & \\frac{1}{3} & \\frac{1}{3}\\\\0 & \\frac{10}{3} & - \\frac{2}{3} & \\frac{4}{3}\\\\0 & \\frac{4}{3} & \\frac{10}{3} & - \\frac{2}{3}\\\\0 & \\frac{2}{3} & - \\frac{4}{3} & - \\frac{10}{3}\\end{matrix}\\right], \\quad \\left[\\begin{matrix}\\frac{1}{3} & 0 & 0 & 0\\\\\\frac{1}{3} & 1 & 0 & 0\\\\\\frac{1}{3} & 0 & 1 & 0\\\\- \\frac{1}{3} & 0 & 0 & 1\\end{matrix}\\right]\\right )$$"
      ],
      "text/plain": [
       "⎛⎡1  1/3   1/3    1/3 ⎤  ⎡1/3   0  0  0⎤⎞\n",
       "⎜⎢                    ⎥  ⎢             ⎥⎟\n",
       "⎜⎢0  10/3  -2/3   4/3 ⎥  ⎢1/3   1  0  0⎥⎟\n",
       "⎜⎢                    ⎥, ⎢             ⎥⎟\n",
       "⎜⎢0  4/3   10/3  -2/3 ⎥  ⎢1/3   0  1  0⎥⎟\n",
       "⎜⎢                    ⎥  ⎢             ⎥⎟\n",
       "⎝⎣0  2/3   -4/3  -10/3⎦  ⎣-1/3  0  0  1⎦⎠"
      ]
     },
     "execution_count": 194,
     "metadata": {},
     "output_type": "execute_result"
    }
   ],
   "source": [
    "imf4.compute(smp.S(1)/-1, adr1=4, adr2=1, mode='r')\n",
    "imf4.M, imf4.E"
   ]
  },
  {
   "cell_type": "code",
   "execution_count": 195,
   "metadata": {},
   "outputs": [
    {
     "data": {
      "text/latex": [
       "$$\\left ( \\left[\\begin{matrix}1 & \\frac{1}{3} & \\frac{1}{3} & \\frac{1}{3}\\\\0 & 1 & - \\frac{1}{5} & \\frac{2}{5}\\\\0 & \\frac{4}{3} & \\frac{10}{3} & - \\frac{2}{3}\\\\0 & \\frac{2}{3} & - \\frac{4}{3} & - \\frac{10}{3}\\end{matrix}\\right], \\quad \\left[\\begin{matrix}\\frac{1}{3} & 0 & 0 & 0\\\\\\frac{1}{10} & \\frac{3}{10} & 0 & 0\\\\\\frac{1}{3} & 0 & 1 & 0\\\\- \\frac{1}{3} & 0 & 0 & 1\\end{matrix}\\right]\\right )$$"
      ],
      "text/plain": [
       "⎛⎡1  1/3  1/3    1/3 ⎤  ⎡1/3    0    0  0⎤⎞\n",
       "⎜⎢                   ⎥  ⎢                ⎥⎟\n",
       "⎜⎢0   1   -1/5   2/5 ⎥  ⎢1/10  3/10  0  0⎥⎟\n",
       "⎜⎢                   ⎥, ⎢                ⎥⎟\n",
       "⎜⎢0  4/3  10/3  -2/3 ⎥  ⎢1/3    0    1  0⎥⎟\n",
       "⎜⎢                   ⎥  ⎢                ⎥⎟\n",
       "⎝⎣0  2/3  -4/3  -10/3⎦  ⎣-1/3   0    0  1⎦⎠"
      ]
     },
     "execution_count": 195,
     "metadata": {},
     "output_type": "execute_result"
    }
   ],
   "source": [
    "imf4.compute(smp.S(3)/10, adr1=2, adr2=2, mode='r')\n",
    "imf4.M, imf4.E"
   ]
  },
  {
   "cell_type": "code",
   "execution_count": 196,
   "metadata": {},
   "outputs": [
    {
     "data": {
      "text/latex": [
       "$$\\left ( \\left[\\begin{matrix}1 & 0 & \\frac{2}{5} & \\frac{1}{5}\\\\0 & 1 & - \\frac{1}{5} & \\frac{2}{5}\\\\0 & \\frac{4}{3} & \\frac{10}{3} & - \\frac{2}{3}\\\\0 & \\frac{2}{3} & - \\frac{4}{3} & - \\frac{10}{3}\\end{matrix}\\right], \\quad \\left[\\begin{matrix}\\frac{3}{10} & - \\frac{1}{10} & 0 & 0\\\\\\frac{1}{10} & \\frac{3}{10} & 0 & 0\\\\\\frac{1}{3} & 0 & 1 & 0\\\\- \\frac{1}{3} & 0 & 0 & 1\\end{matrix}\\right]\\right )$$"
      ],
      "text/plain": [
       "⎛⎡1   0   2/5    1/5 ⎤  ⎡3/10  -1/10  0  0⎤⎞\n",
       "⎜⎢                   ⎥  ⎢                 ⎥⎟\n",
       "⎜⎢0   1   -1/5   2/5 ⎥  ⎢1/10  3/10   0  0⎥⎟\n",
       "⎜⎢                   ⎥, ⎢                 ⎥⎟\n",
       "⎜⎢0  4/3  10/3  -2/3 ⎥  ⎢1/3     0    1  0⎥⎟\n",
       "⎜⎢                   ⎥  ⎢                 ⎥⎟\n",
       "⎝⎣0  2/3  -4/3  -10/3⎦  ⎣-1/3    0    0  1⎦⎠"
      ]
     },
     "execution_count": 196,
     "metadata": {},
     "output_type": "execute_result"
    }
   ],
   "source": [
    "imf4.compute(smp.S(1)/-3, adr1=1, adr2=2, mode='r')\n",
    "imf4.M, imf4.E"
   ]
  },
  {
   "cell_type": "code",
   "execution_count": 197,
   "metadata": {},
   "outputs": [
    {
     "data": {
      "text/latex": [
       "$$\\left ( \\left[\\begin{matrix}1 & 0 & \\frac{2}{5} & \\frac{1}{5}\\\\0 & 1 & - \\frac{1}{5} & \\frac{2}{5}\\\\0 & 0 & \\frac{18}{5} & - \\frac{6}{5}\\\\0 & \\frac{2}{3} & - \\frac{4}{3} & - \\frac{10}{3}\\end{matrix}\\right], \\quad \\left[\\begin{matrix}\\frac{3}{10} & - \\frac{1}{10} & 0 & 0\\\\\\frac{1}{10} & \\frac{3}{10} & 0 & 0\\\\\\frac{1}{5} & - \\frac{2}{5} & 1 & 0\\\\- \\frac{1}{3} & 0 & 0 & 1\\end{matrix}\\right]\\right )$$"
      ],
      "text/plain": [
       "⎛⎡1   0   2/5    1/5 ⎤  ⎡3/10  -1/10  0  0⎤⎞\n",
       "⎜⎢                   ⎥  ⎢                 ⎥⎟\n",
       "⎜⎢0   1   -1/5   2/5 ⎥  ⎢1/10  3/10   0  0⎥⎟\n",
       "⎜⎢                   ⎥, ⎢                 ⎥⎟\n",
       "⎜⎢0   0   18/5  -6/5 ⎥  ⎢1/5   -2/5   1  0⎥⎟\n",
       "⎜⎢                   ⎥  ⎢                 ⎥⎟\n",
       "⎝⎣0  2/3  -4/3  -10/3⎦  ⎣-1/3    0    0  1⎦⎠"
      ]
     },
     "execution_count": 197,
     "metadata": {},
     "output_type": "execute_result"
    }
   ],
   "source": [
    "imf4.compute(smp.S(4)/-3, adr1=3, adr2=2, mode='r')\n",
    "imf4.M, imf4.E"
   ]
  },
  {
   "cell_type": "code",
   "execution_count": 198,
   "metadata": {},
   "outputs": [
    {
     "data": {
      "text/latex": [
       "$$\\left ( \\left[\\begin{matrix}1 & 0 & \\frac{2}{5} & \\frac{1}{5}\\\\0 & 1 & - \\frac{1}{5} & \\frac{2}{5}\\\\0 & 0 & \\frac{18}{5} & - \\frac{6}{5}\\\\0 & 0 & - \\frac{6}{5} & - \\frac{18}{5}\\end{matrix}\\right], \\quad \\left[\\begin{matrix}\\frac{3}{10} & - \\frac{1}{10} & 0 & 0\\\\\\frac{1}{10} & \\frac{3}{10} & 0 & 0\\\\\\frac{1}{5} & - \\frac{2}{5} & 1 & 0\\\\- \\frac{2}{5} & - \\frac{1}{5} & 0 & 1\\end{matrix}\\right]\\right )$$"
      ],
      "text/plain": [
       "⎛⎡1  0  2/5    1/5 ⎤  ⎡3/10  -1/10  0  0⎤⎞\n",
       "⎜⎢                 ⎥  ⎢                 ⎥⎟\n",
       "⎜⎢0  1  -1/5   2/5 ⎥  ⎢1/10  3/10   0  0⎥⎟\n",
       "⎜⎢                 ⎥, ⎢                 ⎥⎟\n",
       "⎜⎢0  0  18/5  -6/5 ⎥  ⎢1/5   -2/5   1  0⎥⎟\n",
       "⎜⎢                 ⎥  ⎢                 ⎥⎟\n",
       "⎝⎣0  0  -6/5  -18/5⎦  ⎣-2/5  -1/5   0  1⎦⎠"
      ]
     },
     "execution_count": 198,
     "metadata": {},
     "output_type": "execute_result"
    }
   ],
   "source": [
    "imf4.compute(smp.S(2)/-3, adr1=4, adr2=2, mode='r')\n",
    "imf4.M, imf4.E"
   ]
  },
  {
   "cell_type": "code",
   "execution_count": 199,
   "metadata": {},
   "outputs": [
    {
     "data": {
      "text/latex": [
       "$$\\left ( \\left[\\begin{matrix}1 & 0 & \\frac{2}{5} & \\frac{1}{5}\\\\0 & 1 & - \\frac{1}{5} & \\frac{2}{5}\\\\0 & 0 & 1 & - \\frac{1}{3}\\\\0 & 0 & - \\frac{6}{5} & - \\frac{18}{5}\\end{matrix}\\right], \\quad \\left[\\begin{matrix}\\frac{3}{10} & - \\frac{1}{10} & 0 & 0\\\\\\frac{1}{10} & \\frac{3}{10} & 0 & 0\\\\\\frac{1}{18} & - \\frac{1}{9} & \\frac{5}{18} & 0\\\\- \\frac{2}{5} & - \\frac{1}{5} & 0 & 1\\end{matrix}\\right]\\right )$$"
      ],
      "text/plain": [
       "⎛⎡1  0  2/5    1/5 ⎤  ⎡3/10  -1/10   0    0⎤⎞\n",
       "⎜⎢                 ⎥  ⎢                    ⎥⎟\n",
       "⎜⎢0  1  -1/5   2/5 ⎥  ⎢1/10  3/10    0    0⎥⎟\n",
       "⎜⎢                 ⎥, ⎢                    ⎥⎟\n",
       "⎜⎢0  0   1    -1/3 ⎥  ⎢1/18  -1/9   5/18  0⎥⎟\n",
       "⎜⎢                 ⎥  ⎢                    ⎥⎟\n",
       "⎝⎣0  0  -6/5  -18/5⎦  ⎣-2/5  -1/5    0    1⎦⎠"
      ]
     },
     "execution_count": 199,
     "metadata": {},
     "output_type": "execute_result"
    }
   ],
   "source": [
    "imf4.compute(smp.S(5)/18, adr1=3, adr2=3, mode='r')\n",
    "imf4.M, imf4.E"
   ]
  },
  {
   "cell_type": "code",
   "execution_count": 200,
   "metadata": {},
   "outputs": [
    {
     "data": {
      "text/latex": [
       "$$\\left ( \\left[\\begin{matrix}1 & 0 & 0 & \\frac{1}{3}\\\\0 & 1 & - \\frac{1}{5} & \\frac{2}{5}\\\\0 & 0 & 1 & - \\frac{1}{3}\\\\0 & 0 & - \\frac{6}{5} & - \\frac{18}{5}\\end{matrix}\\right], \\quad \\left[\\begin{matrix}\\frac{5}{18} & - \\frac{1}{18} & - \\frac{1}{9} & 0\\\\\\frac{1}{10} & \\frac{3}{10} & 0 & 0\\\\\\frac{1}{18} & - \\frac{1}{9} & \\frac{5}{18} & 0\\\\- \\frac{2}{5} & - \\frac{1}{5} & 0 & 1\\end{matrix}\\right]\\right )$$"
      ],
      "text/plain": [
       "⎛⎡1  0   0     1/3 ⎤  ⎡5/18  -1/18  -1/9  0⎤⎞\n",
       "⎜⎢                 ⎥  ⎢                    ⎥⎟\n",
       "⎜⎢0  1  -1/5   2/5 ⎥  ⎢1/10  3/10    0    0⎥⎟\n",
       "⎜⎢                 ⎥, ⎢                    ⎥⎟\n",
       "⎜⎢0  0   1    -1/3 ⎥  ⎢1/18  -1/9   5/18  0⎥⎟\n",
       "⎜⎢                 ⎥  ⎢                    ⎥⎟\n",
       "⎝⎣0  0  -6/5  -18/5⎦  ⎣-2/5  -1/5    0    1⎦⎠"
      ]
     },
     "execution_count": 200,
     "metadata": {},
     "output_type": "execute_result"
    }
   ],
   "source": [
    "imf4.compute(smp.S(2)/-5, adr1=1, adr2=3, mode='r')\n",
    "imf4.M, imf4.E"
   ]
  },
  {
   "cell_type": "code",
   "execution_count": 201,
   "metadata": {},
   "outputs": [
    {
     "data": {
      "text/latex": [
       "$$\\left ( \\left[\\begin{matrix}1 & 0 & 0 & \\frac{1}{3}\\\\0 & 1 & 0 & \\frac{1}{3}\\\\0 & 0 & 1 & - \\frac{1}{3}\\\\0 & 0 & - \\frac{6}{5} & - \\frac{18}{5}\\end{matrix}\\right], \\quad \\left[\\begin{matrix}\\frac{5}{18} & - \\frac{1}{18} & - \\frac{1}{9} & 0\\\\\\frac{1}{9} & \\frac{5}{18} & \\frac{1}{18} & 0\\\\\\frac{1}{18} & - \\frac{1}{9} & \\frac{5}{18} & 0\\\\- \\frac{2}{5} & - \\frac{1}{5} & 0 & 1\\end{matrix}\\right]\\right )$$"
      ],
      "text/plain": [
       "⎛⎡1  0   0     1/3 ⎤  ⎡5/18  -1/18  -1/9  0⎤⎞\n",
       "⎜⎢                 ⎥  ⎢                    ⎥⎟\n",
       "⎜⎢0  1   0     1/3 ⎥  ⎢1/9   5/18   1/18  0⎥⎟\n",
       "⎜⎢                 ⎥, ⎢                    ⎥⎟\n",
       "⎜⎢0  0   1    -1/3 ⎥  ⎢1/18  -1/9   5/18  0⎥⎟\n",
       "⎜⎢                 ⎥  ⎢                    ⎥⎟\n",
       "⎝⎣0  0  -6/5  -18/5⎦  ⎣-2/5  -1/5    0    1⎦⎠"
      ]
     },
     "execution_count": 201,
     "metadata": {},
     "output_type": "execute_result"
    }
   ],
   "source": [
    "imf4.compute(smp.S(1)/5, adr1=2, adr2=3, mode='r')\n",
    "imf4.M, imf4.E"
   ]
  },
  {
   "cell_type": "code",
   "execution_count": 202,
   "metadata": {},
   "outputs": [
    {
     "data": {
      "text/latex": [
       "$$\\left ( \\left[\\begin{matrix}1 & 0 & 0 & \\frac{1}{3}\\\\0 & 1 & 0 & \\frac{1}{3}\\\\0 & 0 & 1 & - \\frac{1}{3}\\\\0 & 0 & 0 & -4\\end{matrix}\\right], \\quad \\left[\\begin{matrix}\\frac{5}{18} & - \\frac{1}{18} & - \\frac{1}{9} & 0\\\\\\frac{1}{9} & \\frac{5}{18} & \\frac{1}{18} & 0\\\\\\frac{1}{18} & - \\frac{1}{9} & \\frac{5}{18} & 0\\\\- \\frac{1}{3} & - \\frac{1}{3} & \\frac{1}{3} & 1\\end{matrix}\\right]\\right )$$"
      ],
      "text/plain": [
       "⎛⎡1  0  0  1/3 ⎤  ⎡5/18  -1/18  -1/9  0⎤⎞\n",
       "⎜⎢             ⎥  ⎢                    ⎥⎟\n",
       "⎜⎢0  1  0  1/3 ⎥  ⎢1/9   5/18   1/18  0⎥⎟\n",
       "⎜⎢             ⎥, ⎢                    ⎥⎟\n",
       "⎜⎢0  0  1  -1/3⎥  ⎢1/18  -1/9   5/18  0⎥⎟\n",
       "⎜⎢             ⎥  ⎢                    ⎥⎟\n",
       "⎝⎣0  0  0   -4 ⎦  ⎣-1/3  -1/3   1/3   1⎦⎠"
      ]
     },
     "execution_count": 202,
     "metadata": {},
     "output_type": "execute_result"
    }
   ],
   "source": [
    "imf4.compute(smp.S(6)/5, adr1=4, adr2=3, mode='r')\n",
    "imf4.M, imf4.E"
   ]
  },
  {
   "cell_type": "code",
   "execution_count": 203,
   "metadata": {},
   "outputs": [
    {
     "data": {
      "text/latex": [
       "$$\\left ( \\left[\\begin{matrix}1 & 0 & 0 & \\frac{1}{3}\\\\0 & 1 & 0 & \\frac{1}{3}\\\\0 & 0 & 1 & - \\frac{1}{3}\\\\0 & 0 & 0 & 1\\end{matrix}\\right], \\quad \\left[\\begin{matrix}\\frac{5}{18} & - \\frac{1}{18} & - \\frac{1}{9} & 0\\\\\\frac{1}{9} & \\frac{5}{18} & \\frac{1}{18} & 0\\\\\\frac{1}{18} & - \\frac{1}{9} & \\frac{5}{18} & 0\\\\\\frac{1}{12} & \\frac{1}{12} & - \\frac{1}{12} & - \\frac{1}{4}\\end{matrix}\\right]\\right )$$"
      ],
      "text/plain": [
       "⎛⎡1  0  0  1/3 ⎤  ⎡5/18  -1/18  -1/9    0  ⎤⎞\n",
       "⎜⎢             ⎥  ⎢                        ⎥⎟\n",
       "⎜⎢0  1  0  1/3 ⎥  ⎢1/9   5/18   1/18    0  ⎥⎟\n",
       "⎜⎢             ⎥, ⎢                        ⎥⎟\n",
       "⎜⎢0  0  1  -1/3⎥  ⎢1/18  -1/9   5/18    0  ⎥⎟\n",
       "⎜⎢             ⎥  ⎢                        ⎥⎟\n",
       "⎝⎣0  0  0   1  ⎦  ⎣1/12  1/12   -1/12  -1/4⎦⎠"
      ]
     },
     "execution_count": 203,
     "metadata": {},
     "output_type": "execute_result"
    }
   ],
   "source": [
    "imf4.compute(smp.S(1)/-4, adr1=4, adr2=4, mode='r')\n",
    "imf4.M, imf4.E"
   ]
  },
  {
   "cell_type": "code",
   "execution_count": 204,
   "metadata": {},
   "outputs": [
    {
     "data": {
      "text/latex": [
       "$$\\left ( \\left[\\begin{matrix}1 & 0 & 0 & 0\\\\0 & 1 & 0 & \\frac{1}{3}\\\\0 & 0 & 1 & - \\frac{1}{3}\\\\0 & 0 & 0 & 1\\end{matrix}\\right], \\quad \\left[\\begin{matrix}\\frac{1}{4} & - \\frac{1}{12} & - \\frac{1}{12} & \\frac{1}{12}\\\\\\frac{1}{9} & \\frac{5}{18} & \\frac{1}{18} & 0\\\\\\frac{1}{18} & - \\frac{1}{9} & \\frac{5}{18} & 0\\\\\\frac{1}{12} & \\frac{1}{12} & - \\frac{1}{12} & - \\frac{1}{4}\\end{matrix}\\right]\\right )$$"
      ],
      "text/plain": [
       "⎛⎡1  0  0   0  ⎤  ⎡1/4   -1/12  -1/12  1/12⎤⎞\n",
       "⎜⎢             ⎥  ⎢                        ⎥⎟\n",
       "⎜⎢0  1  0  1/3 ⎥  ⎢1/9   5/18   1/18    0  ⎥⎟\n",
       "⎜⎢             ⎥, ⎢                        ⎥⎟\n",
       "⎜⎢0  0  1  -1/3⎥  ⎢1/18  -1/9   5/18    0  ⎥⎟\n",
       "⎜⎢             ⎥  ⎢                        ⎥⎟\n",
       "⎝⎣0  0  0   1  ⎦  ⎣1/12  1/12   -1/12  -1/4⎦⎠"
      ]
     },
     "execution_count": 204,
     "metadata": {},
     "output_type": "execute_result"
    }
   ],
   "source": [
    "imf4.compute(smp.S(1)/-3, adr1=1, adr2=4, mode='r')\n",
    "imf4.M, imf4.E"
   ]
  },
  {
   "cell_type": "code",
   "execution_count": 205,
   "metadata": {},
   "outputs": [
    {
     "data": {
      "text/latex": [
       "$$\\left ( \\left[\\begin{matrix}1 & 0 & 0 & 0\\\\0 & 1 & 0 & 0\\\\0 & 0 & 1 & - \\frac{1}{3}\\\\0 & 0 & 0 & 1\\end{matrix}\\right], \\quad \\left[\\begin{matrix}\\frac{1}{4} & - \\frac{1}{12} & - \\frac{1}{12} & \\frac{1}{12}\\\\\\frac{1}{12} & \\frac{1}{4} & \\frac{1}{12} & \\frac{1}{12}\\\\\\frac{1}{18} & - \\frac{1}{9} & \\frac{5}{18} & 0\\\\\\frac{1}{12} & \\frac{1}{12} & - \\frac{1}{12} & - \\frac{1}{4}\\end{matrix}\\right]\\right )$$"
      ],
      "text/plain": [
       "⎛⎡1  0  0   0  ⎤  ⎡1/4   -1/12  -1/12  1/12⎤⎞\n",
       "⎜⎢             ⎥  ⎢                        ⎥⎟\n",
       "⎜⎢0  1  0   0  ⎥  ⎢1/12   1/4   1/12   1/12⎥⎟\n",
       "⎜⎢             ⎥, ⎢                        ⎥⎟\n",
       "⎜⎢0  0  1  -1/3⎥  ⎢1/18  -1/9   5/18    0  ⎥⎟\n",
       "⎜⎢             ⎥  ⎢                        ⎥⎟\n",
       "⎝⎣0  0  0   1  ⎦  ⎣1/12  1/12   -1/12  -1/4⎦⎠"
      ]
     },
     "execution_count": 205,
     "metadata": {},
     "output_type": "execute_result"
    }
   ],
   "source": [
    "imf4.compute(smp.S(1)/-3, adr1=2, adr2=4, mode='r')\n",
    "imf4.M, imf4.E"
   ]
  },
  {
   "cell_type": "code",
   "execution_count": 206,
   "metadata": {},
   "outputs": [
    {
     "data": {
      "text/latex": [
       "$$\\left ( \\left[\\begin{matrix}1 & 0 & 0 & 0\\\\0 & 1 & 0 & 0\\\\0 & 0 & 1 & 0\\\\0 & 0 & 0 & 1\\end{matrix}\\right], \\quad \\left[\\begin{matrix}\\frac{1}{4} & - \\frac{1}{12} & - \\frac{1}{12} & \\frac{1}{12}\\\\\\frac{1}{12} & \\frac{1}{4} & \\frac{1}{12} & \\frac{1}{12}\\\\\\frac{1}{12} & - \\frac{1}{12} & \\frac{1}{4} & - \\frac{1}{12}\\\\\\frac{1}{12} & \\frac{1}{12} & - \\frac{1}{12} & - \\frac{1}{4}\\end{matrix}\\right]\\right )$$"
      ],
      "text/plain": [
       "⎛⎡1  0  0  0⎤  ⎡1/4   -1/12  -1/12  1/12 ⎤⎞\n",
       "⎜⎢          ⎥  ⎢                         ⎥⎟\n",
       "⎜⎢0  1  0  0⎥  ⎢1/12   1/4   1/12   1/12 ⎥⎟\n",
       "⎜⎢          ⎥, ⎢                         ⎥⎟\n",
       "⎜⎢0  0  1  0⎥  ⎢1/12  -1/12   1/4   -1/12⎥⎟\n",
       "⎜⎢          ⎥  ⎢                         ⎥⎟\n",
       "⎝⎣0  0  0  1⎦  ⎣1/12  1/12   -1/12  -1/4 ⎦⎠"
      ]
     },
     "execution_count": 206,
     "metadata": {},
     "output_type": "execute_result"
    }
   ],
   "source": [
    "imf4.compute(smp.S(1)/3, adr1=3, adr2=4, mode='r')\n",
    "imf4.M, imf4.E"
   ]
  },
  {
   "cell_type": "markdown",
   "metadata": {},
   "source": [
    "# Конец расчета 4"
   ]
  },
  {
   "cell_type": "markdown",
   "metadata": {},
   "source": [
    "# Начало расчета 5"
   ]
  },
  {
   "cell_type": "code",
   "execution_count": 171,
   "metadata": {},
   "outputs": [
    {
     "data": {
      "text/latex": [
       "$$\\left[\\begin{matrix}3 & 1 & 1 & 1\\\\-1 & 3 & -1 & 1\\\\-1 & 1 & 3 & -1\\\\1 & 1 & -1 & -3\\end{matrix}\\right]$$"
      ],
      "text/plain": [
       "⎡3   1  1   1 ⎤\n",
       "⎢             ⎥\n",
       "⎢-1  3  -1  1 ⎥\n",
       "⎢             ⎥\n",
       "⎢-1  1  3   -1⎥\n",
       "⎢             ⎥\n",
       "⎣1   1  -1  -3⎦"
      ]
     },
     "execution_count": 171,
     "metadata": {},
     "output_type": "execute_result"
    }
   ],
   "source": [
    "Cm_new5 = smp.Matrix(IC)\n",
    "for x in range(rows):\n",
    "    for y in range(cols):\n",
    "        elem = smp.S(int(Cm[x,y]))\n",
    "        Cm_new5[x,y] = elem\n",
    "Cm_new5"
   ]
  },
  {
   "cell_type": "code",
   "execution_count": 172,
   "metadata": {},
   "outputs": [
    {
     "data": {
      "text/latex": [
       "$$\\left ( \\left[\\begin{matrix}3 & 1 & 1 & 1\\\\-1 & 3 & -1 & 1\\\\-1 & 1 & 3 & -1\\\\1 & 1 & -1 & -3\\end{matrix}\\right], \\quad \\left[\\begin{matrix}1 & 0 & 0 & 0\\\\0 & 1 & 0 & 0\\\\0 & 0 & 1 & 0\\\\0 & 0 & 0 & 1\\end{matrix}\\right]\\right )$$"
      ],
      "text/plain": [
       "⎛⎡3   1  1   1 ⎤  ⎡1  0  0  0⎤⎞\n",
       "⎜⎢             ⎥  ⎢          ⎥⎟\n",
       "⎜⎢-1  3  -1  1 ⎥  ⎢0  1  0  0⎥⎟\n",
       "⎜⎢             ⎥, ⎢          ⎥⎟\n",
       "⎜⎢-1  1  3   -1⎥  ⎢0  0  1  0⎥⎟\n",
       "⎜⎢             ⎥  ⎢          ⎥⎟\n",
       "⎝⎣1   1  -1  -3⎦  ⎣0  0  0  1⎦⎠"
      ]
     },
     "execution_count": 172,
     "metadata": {},
     "output_type": "execute_result"
    }
   ],
   "source": [
    "imf5 = InvMatrixFinder(Cm_new5)\n",
    "imf5.M, imf5.E"
   ]
  },
  {
   "cell_type": "code",
   "execution_count": 173,
   "metadata": {},
   "outputs": [
    {
     "data": {
      "text/latex": [
       "$$\\left ( \\left[\\begin{matrix}1 & 1 & 1 & 1\\\\- \\frac{1}{3} & 3 & -1 & 1\\\\- \\frac{1}{3} & 1 & 3 & -1\\\\\\frac{1}{3} & 1 & -1 & -3\\end{matrix}\\right], \\quad \\left[\\begin{matrix}\\frac{1}{3} & 0 & 0 & 0\\\\0 & 1 & 0 & 0\\\\0 & 0 & 1 & 0\\\\0 & 0 & 0 & 1\\end{matrix}\\right]\\right )$$"
      ],
      "text/plain": [
       "⎛⎡ 1    1  1   1 ⎤  ⎡1/3  0  0  0⎤⎞\n",
       "⎜⎢               ⎥  ⎢            ⎥⎟\n",
       "⎜⎢-1/3  3  -1  1 ⎥  ⎢ 0   1  0  0⎥⎟\n",
       "⎜⎢               ⎥, ⎢            ⎥⎟\n",
       "⎜⎢-1/3  1  3   -1⎥  ⎢ 0   0  1  0⎥⎟\n",
       "⎜⎢               ⎥  ⎢            ⎥⎟\n",
       "⎝⎣1/3   1  -1  -3⎦  ⎣ 0   0  0  1⎦⎠"
      ]
     },
     "execution_count": 173,
     "metadata": {},
     "output_type": "execute_result"
    }
   ],
   "source": [
    "imf5.compute(smp.S(1)/3, adr1=1, adr2=1, mode='c')\n",
    "imf5.M, imf5.E"
   ]
  },
  {
   "cell_type": "code",
   "execution_count": 174,
   "metadata": {},
   "outputs": [
    {
     "data": {
      "text/latex": [
       "$$\\left ( \\left[\\begin{matrix}1 & 0 & 1 & 1\\\\- \\frac{1}{3} & \\frac{10}{3} & -1 & 1\\\\- \\frac{1}{3} & \\frac{4}{3} & 3 & -1\\\\\\frac{1}{3} & \\frac{2}{3} & -1 & -3\\end{matrix}\\right], \\quad \\left[\\begin{matrix}\\frac{1}{3} & - \\frac{1}{3} & 0 & 0\\\\0 & 1 & 0 & 0\\\\0 & 0 & 1 & 0\\\\0 & 0 & 0 & 1\\end{matrix}\\right]\\right )$$"
      ],
      "text/plain": [
       "⎛⎡ 1     0    1   1 ⎤  ⎡1/3  -1/3  0  0⎤⎞\n",
       "⎜⎢                  ⎥  ⎢               ⎥⎟\n",
       "⎜⎢-1/3  10/3  -1  1 ⎥  ⎢ 0    1    0  0⎥⎟\n",
       "⎜⎢                  ⎥, ⎢               ⎥⎟\n",
       "⎜⎢-1/3  4/3   3   -1⎥  ⎢ 0    0    1  0⎥⎟\n",
       "⎜⎢                  ⎥  ⎢               ⎥⎟\n",
       "⎝⎣1/3   2/3   -1  -3⎦  ⎣ 0    0    0  1⎦⎠"
      ]
     },
     "execution_count": 174,
     "metadata": {},
     "output_type": "execute_result"
    }
   ],
   "source": [
    "imf5.compute(smp.S(1)/-1, adr1=2, adr2=1, mode='c')\n",
    "imf5.M, imf5.E"
   ]
  },
  {
   "cell_type": "code",
   "execution_count": 175,
   "metadata": {},
   "outputs": [
    {
     "data": {
      "text/latex": [
       "$$\\left ( \\left[\\begin{matrix}1 & 0 & 0 & 1\\\\- \\frac{1}{3} & \\frac{10}{3} & - \\frac{2}{3} & 1\\\\- \\frac{1}{3} & \\frac{4}{3} & \\frac{10}{3} & -1\\\\\\frac{1}{3} & \\frac{2}{3} & - \\frac{4}{3} & -3\\end{matrix}\\right], \\quad \\left[\\begin{matrix}\\frac{1}{3} & - \\frac{1}{3} & - \\frac{1}{3} & 0\\\\0 & 1 & 0 & 0\\\\0 & 0 & 1 & 0\\\\0 & 0 & 0 & 1\\end{matrix}\\right]\\right )$$"
      ],
      "text/plain": [
       "⎛⎡ 1     0     0    1 ⎤  ⎡1/3  -1/3  -1/3  0⎤⎞\n",
       "⎜⎢                    ⎥  ⎢                  ⎥⎟\n",
       "⎜⎢-1/3  10/3  -2/3  1 ⎥  ⎢ 0    1     0    0⎥⎟\n",
       "⎜⎢                    ⎥, ⎢                  ⎥⎟\n",
       "⎜⎢-1/3  4/3   10/3  -1⎥  ⎢ 0    0     1    0⎥⎟\n",
       "⎜⎢                    ⎥  ⎢                  ⎥⎟\n",
       "⎝⎣1/3   2/3   -4/3  -3⎦  ⎣ 0    0     0    1⎦⎠"
      ]
     },
     "execution_count": 175,
     "metadata": {},
     "output_type": "execute_result"
    }
   ],
   "source": [
    "imf5.compute(smp.S(1)/-1, adr1=3, adr2=1, mode='c')\n",
    "imf5.M, imf5.E"
   ]
  },
  {
   "cell_type": "code",
   "execution_count": 176,
   "metadata": {},
   "outputs": [
    {
     "data": {
      "text/latex": [
       "$$\\left ( \\left[\\begin{matrix}1 & 0 & 0 & 0\\\\- \\frac{1}{3} & \\frac{10}{3} & - \\frac{2}{3} & \\frac{4}{3}\\\\- \\frac{1}{3} & \\frac{4}{3} & \\frac{10}{3} & - \\frac{2}{3}\\\\\\frac{1}{3} & \\frac{2}{3} & - \\frac{4}{3} & - \\frac{10}{3}\\end{matrix}\\right], \\quad \\left[\\begin{matrix}\\frac{1}{3} & - \\frac{1}{3} & - \\frac{1}{3} & - \\frac{1}{3}\\\\0 & 1 & 0 & 0\\\\0 & 0 & 1 & 0\\\\0 & 0 & 0 & 1\\end{matrix}\\right]\\right )$$"
      ],
      "text/plain": [
       "⎛⎡ 1     0     0      0  ⎤  ⎡1/3  -1/3  -1/3  -1/3⎤⎞\n",
       "⎜⎢                       ⎥  ⎢                     ⎥⎟\n",
       "⎜⎢-1/3  10/3  -2/3   4/3 ⎥  ⎢ 0    1     0     0  ⎥⎟\n",
       "⎜⎢                       ⎥, ⎢                     ⎥⎟\n",
       "⎜⎢-1/3  4/3   10/3  -2/3 ⎥  ⎢ 0    0     1     0  ⎥⎟\n",
       "⎜⎢                       ⎥  ⎢                     ⎥⎟\n",
       "⎝⎣1/3   2/3   -4/3  -10/3⎦  ⎣ 0    0     0     1  ⎦⎠"
      ]
     },
     "execution_count": 176,
     "metadata": {},
     "output_type": "execute_result"
    }
   ],
   "source": [
    "imf5.compute(smp.S(1)/-1, adr1=4, adr2=1, mode='c')\n",
    "imf5.M, imf5.E"
   ]
  },
  {
   "cell_type": "code",
   "execution_count": 177,
   "metadata": {},
   "outputs": [
    {
     "data": {
      "text/latex": [
       "$$\\left ( \\left[\\begin{matrix}1 & 0 & 0 & 0\\\\- \\frac{1}{3} & 1 & - \\frac{2}{3} & \\frac{4}{3}\\\\- \\frac{1}{3} & \\frac{2}{5} & \\frac{10}{3} & - \\frac{2}{3}\\\\\\frac{1}{3} & \\frac{1}{5} & - \\frac{4}{3} & - \\frac{10}{3}\\end{matrix}\\right], \\quad \\left[\\begin{matrix}\\frac{1}{3} & - \\frac{1}{10} & - \\frac{1}{3} & - \\frac{1}{3}\\\\0 & \\frac{3}{10} & 0 & 0\\\\0 & 0 & 1 & 0\\\\0 & 0 & 0 & 1\\end{matrix}\\right]\\right )$$"
      ],
      "text/plain": [
       "⎛⎡ 1     0    0      0  ⎤  ⎡1/3  -1/10  -1/3  -1/3⎤⎞\n",
       "⎜⎢                      ⎥  ⎢                      ⎥⎟\n",
       "⎜⎢-1/3   1   -2/3   4/3 ⎥  ⎢ 0   3/10    0     0  ⎥⎟\n",
       "⎜⎢                      ⎥, ⎢                      ⎥⎟\n",
       "⎜⎢-1/3  2/5  10/3  -2/3 ⎥  ⎢ 0     0     1     0  ⎥⎟\n",
       "⎜⎢                      ⎥  ⎢                      ⎥⎟\n",
       "⎝⎣1/3   1/5  -4/3  -10/3⎦  ⎣ 0     0     0     1  ⎦⎠"
      ]
     },
     "execution_count": 177,
     "metadata": {},
     "output_type": "execute_result"
    }
   ],
   "source": [
    "imf5.compute(smp.S(3)/10, adr1=2, adr2=2, mode='c')\n",
    "imf5.M, imf5.E"
   ]
  },
  {
   "cell_type": "code",
   "execution_count": 178,
   "metadata": {},
   "outputs": [
    {
     "data": {
      "text/latex": [
       "$$\\left ( \\left[\\begin{matrix}1 & 0 & 0 & 0\\\\0 & 1 & - \\frac{2}{3} & \\frac{4}{3}\\\\- \\frac{1}{5} & \\frac{2}{5} & \\frac{10}{3} & - \\frac{2}{3}\\\\\\frac{2}{5} & \\frac{1}{5} & - \\frac{4}{3} & - \\frac{10}{3}\\end{matrix}\\right], \\quad \\left[\\begin{matrix}\\frac{3}{10} & - \\frac{1}{10} & - \\frac{1}{3} & - \\frac{1}{3}\\\\\\frac{1}{10} & \\frac{3}{10} & 0 & 0\\\\0 & 0 & 1 & 0\\\\0 & 0 & 0 & 1\\end{matrix}\\right]\\right )$$"
      ],
      "text/plain": [
       "⎛⎡ 1     0    0      0  ⎤  ⎡3/10  -1/10  -1/3  -1/3⎤⎞\n",
       "⎜⎢                      ⎥  ⎢                       ⎥⎟\n",
       "⎜⎢ 0     1   -2/3   4/3 ⎥  ⎢1/10  3/10    0     0  ⎥⎟\n",
       "⎜⎢                      ⎥, ⎢                       ⎥⎟\n",
       "⎜⎢-1/5  2/5  10/3  -2/3 ⎥  ⎢ 0      0     1     0  ⎥⎟\n",
       "⎜⎢                      ⎥  ⎢                       ⎥⎟\n",
       "⎝⎣2/5   1/5  -4/3  -10/3⎦  ⎣ 0      0     0     1  ⎦⎠"
      ]
     },
     "execution_count": 178,
     "metadata": {},
     "output_type": "execute_result"
    }
   ],
   "source": [
    "imf5.compute(smp.S(1)/3, adr1=1, adr2=2, mode='c')\n",
    "imf5.M, imf5.E"
   ]
  },
  {
   "cell_type": "code",
   "execution_count": 179,
   "metadata": {},
   "outputs": [
    {
     "data": {
      "text/latex": [
       "$$\\left ( \\left[\\begin{matrix}1 & 0 & 0 & 0\\\\0 & 1 & 0 & \\frac{4}{3}\\\\- \\frac{1}{5} & \\frac{2}{5} & \\frac{18}{5} & - \\frac{2}{3}\\\\\\frac{2}{5} & \\frac{1}{5} & - \\frac{6}{5} & - \\frac{10}{3}\\end{matrix}\\right], \\quad \\left[\\begin{matrix}\\frac{3}{10} & - \\frac{1}{10} & - \\frac{2}{5} & - \\frac{1}{3}\\\\\\frac{1}{10} & \\frac{3}{10} & \\frac{1}{5} & 0\\\\0 & 0 & 1 & 0\\\\0 & 0 & 0 & 1\\end{matrix}\\right]\\right )$$"
      ],
      "text/plain": [
       "⎛⎡ 1     0    0      0  ⎤  ⎡3/10  -1/10  -2/5  -1/3⎤⎞\n",
       "⎜⎢                      ⎥  ⎢                       ⎥⎟\n",
       "⎜⎢ 0     1    0     4/3 ⎥  ⎢1/10  3/10   1/5    0  ⎥⎟\n",
       "⎜⎢                      ⎥, ⎢                       ⎥⎟\n",
       "⎜⎢-1/5  2/5  18/5  -2/3 ⎥  ⎢ 0      0     1     0  ⎥⎟\n",
       "⎜⎢                      ⎥  ⎢                       ⎥⎟\n",
       "⎝⎣2/5   1/5  -6/5  -10/3⎦  ⎣ 0      0     0     1  ⎦⎠"
      ]
     },
     "execution_count": 179,
     "metadata": {},
     "output_type": "execute_result"
    }
   ],
   "source": [
    "imf5.compute(smp.S(2)/3, adr1=3, adr2=2, mode='c')\n",
    "imf5.M, imf5.E"
   ]
  },
  {
   "cell_type": "code",
   "execution_count": 180,
   "metadata": {},
   "outputs": [
    {
     "data": {
      "text/latex": [
       "$$\\left ( \\left[\\begin{matrix}1 & 0 & 0 & 0\\\\0 & 1 & 0 & 0\\\\- \\frac{1}{5} & \\frac{2}{5} & \\frac{18}{5} & - \\frac{6}{5}\\\\\\frac{2}{5} & \\frac{1}{5} & - \\frac{6}{5} & - \\frac{18}{5}\\end{matrix}\\right], \\quad \\left[\\begin{matrix}\\frac{3}{10} & - \\frac{1}{10} & - \\frac{2}{5} & - \\frac{1}{5}\\\\\\frac{1}{10} & \\frac{3}{10} & \\frac{1}{5} & - \\frac{2}{5}\\\\0 & 0 & 1 & 0\\\\0 & 0 & 0 & 1\\end{matrix}\\right]\\right )$$"
      ],
      "text/plain": [
       "⎛⎡ 1     0    0      0  ⎤  ⎡3/10  -1/10  -2/5  -1/5⎤⎞\n",
       "⎜⎢                      ⎥  ⎢                       ⎥⎟\n",
       "⎜⎢ 0     1    0      0  ⎥  ⎢1/10  3/10   1/5   -2/5⎥⎟\n",
       "⎜⎢                      ⎥, ⎢                       ⎥⎟\n",
       "⎜⎢-1/5  2/5  18/5  -6/5 ⎥  ⎢ 0      0     1     0  ⎥⎟\n",
       "⎜⎢                      ⎥  ⎢                       ⎥⎟\n",
       "⎝⎣2/5   1/5  -6/5  -18/5⎦  ⎣ 0      0     0     1  ⎦⎠"
      ]
     },
     "execution_count": 180,
     "metadata": {},
     "output_type": "execute_result"
    }
   ],
   "source": [
    "imf5.compute(smp.S(4)/-3, adr1=4, adr2=2, mode='c')\n",
    "imf5.M, imf5.E"
   ]
  },
  {
   "cell_type": "code",
   "execution_count": 181,
   "metadata": {},
   "outputs": [
    {
     "data": {
      "text/latex": [
       "$$\\left ( \\left[\\begin{matrix}1 & 0 & 0 & 0\\\\0 & 1 & 0 & 0\\\\- \\frac{1}{5} & \\frac{2}{5} & 1 & - \\frac{6}{5}\\\\\\frac{2}{5} & \\frac{1}{5} & - \\frac{1}{3} & - \\frac{18}{5}\\end{matrix}\\right], \\quad \\left[\\begin{matrix}\\frac{3}{10} & - \\frac{1}{10} & - \\frac{1}{9} & - \\frac{1}{5}\\\\\\frac{1}{10} & \\frac{3}{10} & \\frac{1}{18} & - \\frac{2}{5}\\\\0 & 0 & \\frac{5}{18} & 0\\\\0 & 0 & 0 & 1\\end{matrix}\\right]\\right )$$"
      ],
      "text/plain": [
       "⎛⎡ 1     0    0      0  ⎤  ⎡3/10  -1/10  -1/9  -1/5⎤⎞\n",
       "⎜⎢                      ⎥  ⎢                       ⎥⎟\n",
       "⎜⎢ 0     1    0      0  ⎥  ⎢1/10  3/10   1/18  -2/5⎥⎟\n",
       "⎜⎢                      ⎥, ⎢                       ⎥⎟\n",
       "⎜⎢-1/5  2/5   1    -6/5 ⎥  ⎢ 0      0    5/18   0  ⎥⎟\n",
       "⎜⎢                      ⎥  ⎢                       ⎥⎟\n",
       "⎝⎣2/5   1/5  -1/3  -18/5⎦  ⎣ 0      0     0     1  ⎦⎠"
      ]
     },
     "execution_count": 181,
     "metadata": {},
     "output_type": "execute_result"
    }
   ],
   "source": [
    "imf5.compute(smp.S(5)/18, adr1=3, adr2=3, mode='c')\n",
    "imf5.M, imf5.E"
   ]
  },
  {
   "cell_type": "code",
   "execution_count": 182,
   "metadata": {},
   "outputs": [
    {
     "data": {
      "text/latex": [
       "$$\\left ( \\left[\\begin{matrix}1 & 0 & 0 & 0\\\\0 & 1 & 0 & 0\\\\0 & \\frac{2}{5} & 1 & - \\frac{6}{5}\\\\\\frac{1}{3} & \\frac{1}{5} & - \\frac{1}{3} & - \\frac{18}{5}\\end{matrix}\\right], \\quad \\left[\\begin{matrix}\\frac{5}{18} & - \\frac{1}{10} & - \\frac{1}{9} & - \\frac{1}{5}\\\\\\frac{1}{9} & \\frac{3}{10} & \\frac{1}{18} & - \\frac{2}{5}\\\\\\frac{1}{18} & 0 & \\frac{5}{18} & 0\\\\0 & 0 & 0 & 1\\end{matrix}\\right]\\right )$$"
      ],
      "text/plain": [
       "⎛⎡ 1    0    0      0  ⎤  ⎡5/18  -1/10  -1/9  -1/5⎤⎞\n",
       "⎜⎢                     ⎥  ⎢                       ⎥⎟\n",
       "⎜⎢ 0    1    0      0  ⎥  ⎢1/9   3/10   1/18  -2/5⎥⎟\n",
       "⎜⎢                     ⎥, ⎢                       ⎥⎟\n",
       "⎜⎢ 0   2/5   1    -6/5 ⎥  ⎢1/18    0    5/18   0  ⎥⎟\n",
       "⎜⎢                     ⎥  ⎢                       ⎥⎟\n",
       "⎝⎣1/3  1/5  -1/3  -18/5⎦  ⎣ 0      0     0     1  ⎦⎠"
      ]
     },
     "execution_count": 182,
     "metadata": {},
     "output_type": "execute_result"
    }
   ],
   "source": [
    "imf5.compute(smp.S(1)/5, adr1=1, adr2=3, mode='c')\n",
    "imf5.M, imf5.E"
   ]
  },
  {
   "cell_type": "code",
   "execution_count": 183,
   "metadata": {},
   "outputs": [
    {
     "data": {
      "text/latex": [
       "$$\\left ( \\left[\\begin{matrix}1 & 0 & 0 & 0\\\\0 & 1 & 0 & 0\\\\0 & 0 & 1 & - \\frac{6}{5}\\\\\\frac{1}{3} & \\frac{1}{3} & - \\frac{1}{3} & - \\frac{18}{5}\\end{matrix}\\right], \\quad \\left[\\begin{matrix}\\frac{5}{18} & - \\frac{1}{18} & - \\frac{1}{9} & - \\frac{1}{5}\\\\\\frac{1}{9} & \\frac{5}{18} & \\frac{1}{18} & - \\frac{2}{5}\\\\\\frac{1}{18} & - \\frac{1}{9} & \\frac{5}{18} & 0\\\\0 & 0 & 0 & 1\\end{matrix}\\right]\\right )$$"
      ],
      "text/plain": [
       "⎛⎡ 1    0    0      0  ⎤  ⎡5/18  -1/18  -1/9  -1/5⎤⎞\n",
       "⎜⎢                     ⎥  ⎢                       ⎥⎟\n",
       "⎜⎢ 0    1    0      0  ⎥  ⎢1/9   5/18   1/18  -2/5⎥⎟\n",
       "⎜⎢                     ⎥, ⎢                       ⎥⎟\n",
       "⎜⎢ 0    0    1    -6/5 ⎥  ⎢1/18  -1/9   5/18   0  ⎥⎟\n",
       "⎜⎢                     ⎥  ⎢                       ⎥⎟\n",
       "⎝⎣1/3  1/3  -1/3  -18/5⎦  ⎣ 0      0     0     1  ⎦⎠"
      ]
     },
     "execution_count": 183,
     "metadata": {},
     "output_type": "execute_result"
    }
   ],
   "source": [
    "imf5.compute(smp.S(2)/-5, adr1=2, adr2=3, mode='c')\n",
    "imf5.M, imf5.E"
   ]
  },
  {
   "cell_type": "code",
   "execution_count": 184,
   "metadata": {},
   "outputs": [
    {
     "data": {
      "text/latex": [
       "$$\\left ( \\left[\\begin{matrix}1 & 0 & 0 & 0\\\\0 & 1 & 0 & 0\\\\0 & 0 & 1 & 0\\\\\\frac{1}{3} & \\frac{1}{3} & - \\frac{1}{3} & -4\\end{matrix}\\right], \\quad \\left[\\begin{matrix}\\frac{5}{18} & - \\frac{1}{18} & - \\frac{1}{9} & - \\frac{1}{3}\\\\\\frac{1}{9} & \\frac{5}{18} & \\frac{1}{18} & - \\frac{1}{3}\\\\\\frac{1}{18} & - \\frac{1}{9} & \\frac{5}{18} & \\frac{1}{3}\\\\0 & 0 & 0 & 1\\end{matrix}\\right]\\right )$$"
      ],
      "text/plain": [
       "⎛⎡ 1    0    0    0 ⎤  ⎡5/18  -1/18  -1/9  -1/3⎤⎞\n",
       "⎜⎢                  ⎥  ⎢                       ⎥⎟\n",
       "⎜⎢ 0    1    0    0 ⎥  ⎢1/9   5/18   1/18  -1/3⎥⎟\n",
       "⎜⎢                  ⎥, ⎢                       ⎥⎟\n",
       "⎜⎢ 0    0    1    0 ⎥  ⎢1/18  -1/9   5/18  1/3 ⎥⎟\n",
       "⎜⎢                  ⎥  ⎢                       ⎥⎟\n",
       "⎝⎣1/3  1/3  -1/3  -4⎦  ⎣ 0      0     0     1  ⎦⎠"
      ]
     },
     "execution_count": 184,
     "metadata": {},
     "output_type": "execute_result"
    }
   ],
   "source": [
    "imf5.compute(smp.S(6)/5, adr1=4, adr2=3, mode='c')\n",
    "imf5.M, imf5.E"
   ]
  },
  {
   "cell_type": "code",
   "execution_count": 185,
   "metadata": {},
   "outputs": [
    {
     "data": {
      "text/latex": [
       "$$\\left ( \\left[\\begin{matrix}1 & 0 & 0 & 0\\\\0 & 1 & 0 & 0\\\\0 & 0 & 1 & 0\\\\\\frac{1}{3} & \\frac{1}{3} & - \\frac{1}{3} & 1\\end{matrix}\\right], \\quad \\left[\\begin{matrix}\\frac{5}{18} & - \\frac{1}{18} & - \\frac{1}{9} & \\frac{1}{12}\\\\\\frac{1}{9} & \\frac{5}{18} & \\frac{1}{18} & \\frac{1}{12}\\\\\\frac{1}{18} & - \\frac{1}{9} & \\frac{5}{18} & - \\frac{1}{12}\\\\0 & 0 & 0 & - \\frac{1}{4}\\end{matrix}\\right]\\right )$$"
      ],
      "text/plain": [
       "⎛⎡ 1    0    0    0⎤  ⎡5/18  -1/18  -1/9  1/12 ⎤⎞\n",
       "⎜⎢                 ⎥  ⎢                        ⎥⎟\n",
       "⎜⎢ 0    1    0    0⎥  ⎢1/9   5/18   1/18  1/12 ⎥⎟\n",
       "⎜⎢                 ⎥, ⎢                        ⎥⎟\n",
       "⎜⎢ 0    0    1    0⎥  ⎢1/18  -1/9   5/18  -1/12⎥⎟\n",
       "⎜⎢                 ⎥  ⎢                        ⎥⎟\n",
       "⎝⎣1/3  1/3  -1/3  1⎦  ⎣ 0      0     0    -1/4 ⎦⎠"
      ]
     },
     "execution_count": 185,
     "metadata": {},
     "output_type": "execute_result"
    }
   ],
   "source": [
    "imf5.compute(smp.S(1)/-4, adr1=4, adr2=4, mode='c')\n",
    "imf5.M, imf5.E"
   ]
  },
  {
   "cell_type": "code",
   "execution_count": 186,
   "metadata": {},
   "outputs": [
    {
     "data": {
      "text/latex": [
       "$$\\left ( \\left[\\begin{matrix}1 & 0 & 0 & 0\\\\0 & 1 & 0 & 0\\\\0 & 0 & 1 & 0\\\\0 & \\frac{1}{3} & - \\frac{1}{3} & 1\\end{matrix}\\right], \\quad \\left[\\begin{matrix}\\frac{1}{4} & - \\frac{1}{18} & - \\frac{1}{9} & \\frac{1}{12}\\\\\\frac{1}{12} & \\frac{5}{18} & \\frac{1}{18} & \\frac{1}{12}\\\\\\frac{1}{12} & - \\frac{1}{9} & \\frac{5}{18} & - \\frac{1}{12}\\\\\\frac{1}{12} & 0 & 0 & - \\frac{1}{4}\\end{matrix}\\right]\\right )$$"
      ],
      "text/plain": [
       "⎛⎡1   0    0    0⎤  ⎡1/4   -1/18  -1/9  1/12 ⎤⎞\n",
       "⎜⎢               ⎥  ⎢                        ⎥⎟\n",
       "⎜⎢0   1    0    0⎥  ⎢1/12  5/18   1/18  1/12 ⎥⎟\n",
       "⎜⎢               ⎥, ⎢                        ⎥⎟\n",
       "⎜⎢0   0    1    0⎥  ⎢1/12  -1/9   5/18  -1/12⎥⎟\n",
       "⎜⎢               ⎥  ⎢                        ⎥⎟\n",
       "⎝⎣0  1/3  -1/3  1⎦  ⎣1/12    0     0    -1/4 ⎦⎠"
      ]
     },
     "execution_count": 186,
     "metadata": {},
     "output_type": "execute_result"
    }
   ],
   "source": [
    "imf5.compute(smp.S(1)/-3, adr1=1, adr2=4, mode='c')\n",
    "imf5.M, imf5.E"
   ]
  },
  {
   "cell_type": "code",
   "execution_count": 187,
   "metadata": {},
   "outputs": [
    {
     "data": {
      "text/latex": [
       "$$\\left ( \\left[\\begin{matrix}1 & 0 & 0 & 0\\\\0 & 1 & 0 & 0\\\\0 & 0 & 1 & 0\\\\0 & 0 & - \\frac{1}{3} & 1\\end{matrix}\\right], \\quad \\left[\\begin{matrix}\\frac{1}{4} & - \\frac{1}{12} & - \\frac{1}{9} & \\frac{1}{12}\\\\\\frac{1}{12} & \\frac{1}{4} & \\frac{1}{18} & \\frac{1}{12}\\\\\\frac{1}{12} & - \\frac{1}{12} & \\frac{5}{18} & - \\frac{1}{12}\\\\\\frac{1}{12} & \\frac{1}{12} & 0 & - \\frac{1}{4}\\end{matrix}\\right]\\right )$$"
      ],
      "text/plain": [
       "⎛⎡1  0   0    0⎤  ⎡1/4   -1/12  -1/9  1/12 ⎤⎞\n",
       "⎜⎢             ⎥  ⎢                        ⎥⎟\n",
       "⎜⎢0  1   0    0⎥  ⎢1/12   1/4   1/18  1/12 ⎥⎟\n",
       "⎜⎢             ⎥, ⎢                        ⎥⎟\n",
       "⎜⎢0  0   1    0⎥  ⎢1/12  -1/12  5/18  -1/12⎥⎟\n",
       "⎜⎢             ⎥  ⎢                        ⎥⎟\n",
       "⎝⎣0  0  -1/3  1⎦  ⎣1/12  1/12    0    -1/4 ⎦⎠"
      ]
     },
     "execution_count": 187,
     "metadata": {},
     "output_type": "execute_result"
    }
   ],
   "source": [
    "imf5.compute(smp.S(1)/-3, adr1=2, adr2=4, mode='c')\n",
    "imf5.M, imf5.E"
   ]
  },
  {
   "cell_type": "code",
   "execution_count": 188,
   "metadata": {},
   "outputs": [
    {
     "data": {
      "text/latex": [
       "$$\\left ( \\left[\\begin{matrix}1 & 0 & 0 & 0\\\\0 & 1 & 0 & 0\\\\0 & 0 & 1 & 0\\\\0 & 0 & 0 & 1\\end{matrix}\\right], \\quad \\left[\\begin{matrix}\\frac{1}{4} & - \\frac{1}{12} & - \\frac{1}{12} & \\frac{1}{12}\\\\\\frac{1}{12} & \\frac{1}{4} & \\frac{1}{12} & \\frac{1}{12}\\\\\\frac{1}{12} & - \\frac{1}{12} & \\frac{1}{4} & - \\frac{1}{12}\\\\\\frac{1}{12} & \\frac{1}{12} & - \\frac{1}{12} & - \\frac{1}{4}\\end{matrix}\\right]\\right )$$"
      ],
      "text/plain": [
       "⎛⎡1  0  0  0⎤  ⎡1/4   -1/12  -1/12  1/12 ⎤⎞\n",
       "⎜⎢          ⎥  ⎢                         ⎥⎟\n",
       "⎜⎢0  1  0  0⎥  ⎢1/12   1/4   1/12   1/12 ⎥⎟\n",
       "⎜⎢          ⎥, ⎢                         ⎥⎟\n",
       "⎜⎢0  0  1  0⎥  ⎢1/12  -1/12   1/4   -1/12⎥⎟\n",
       "⎜⎢          ⎥  ⎢                         ⎥⎟\n",
       "⎝⎣0  0  0  1⎦  ⎣1/12  1/12   -1/12  -1/4 ⎦⎠"
      ]
     },
     "execution_count": 188,
     "metadata": {},
     "output_type": "execute_result"
    }
   ],
   "source": [
    "imf5.compute(smp.S(1)/3, adr1=3, adr2=4, mode='c')\n",
    "imf5.M, imf5.E"
   ]
  },
  {
   "cell_type": "markdown",
   "metadata": {},
   "source": [
    "# Конец расчета 5"
   ]
  },
  {
   "cell_type": "code",
   "execution_count": 118,
   "metadata": {},
   "outputs": [
    {
     "data": {
      "text/latex": [
       "$$\\left ( \\left[\\begin{matrix}3 & 1 & 1 & 1\\\\-1 & 3 & -1 & 1\\\\-1 & 1 & 3 & -1\\\\1 & 1 & -1 & -3\\end{matrix}\\right], \\quad \\left[\\begin{matrix}\\frac{1}{3} & - \\frac{1}{9} & - \\frac{2}{15} & - \\frac{1}{9}\\\\\\frac{1}{10} & \\frac{4}{15} & \\frac{1}{50} & - \\frac{2}{15}\\\\\\frac{1}{18} & - \\frac{7}{54} & \\frac{7}{30} & \\frac{1}{9}\\\\\\frac{1}{12} & \\frac{1}{18} & - \\frac{1}{10} & - \\frac{1}{3}\\end{matrix}\\right], \\quad \\left[\\begin{matrix}1 & 0 & 1 & -3\\\\1 & \\frac{1}{2} & 2 & -4\\\\- \\frac{1}{3} & - \\frac{1}{8} & - \\frac{1}{2} & \\frac{3}{2}\\\\\\frac{1}{12} & \\frac{1}{24} & \\frac{1}{6} & - \\frac{1}{2}\\end{matrix}\\right], \\quad \\left[\\begin{matrix}1 & 0 & 0 & 0\\\\0 & 1 & 0 & 0\\\\0 & 0 & 1 & 0\\\\0 & 0 & 0 & 1\\end{matrix}\\right]\\right )$$"
      ],
      "text/plain": [
       "⎛⎡3   1  1   1 ⎤  ⎡1/3   -1/9   -2/15  -1/9 ⎤  ⎡ 1     0     1     -3 ⎤  ⎡1  0\n",
       "⎜⎢             ⎥  ⎢                         ⎥  ⎢                      ⎥  ⎢    \n",
       "⎜⎢-1  3  -1  1 ⎥  ⎢1/10  4/15   1/50   -2/15⎥  ⎢ 1    1/2    2     -4 ⎥  ⎢0  1\n",
       "⎜⎢             ⎥, ⎢                         ⎥, ⎢                      ⎥, ⎢    \n",
       "⎜⎢-1  1  3   -1⎥  ⎢1/18  -7/54  7/30    1/9 ⎥  ⎢-1/3  -1/8  -1/2  3/2 ⎥  ⎢0  0\n",
       "⎜⎢             ⎥  ⎢                         ⎥  ⎢                      ⎥  ⎢    \n",
       "⎝⎣1   1  -1  -3⎦  ⎣1/12  1/18   -1/10  -1/3 ⎦  ⎣1/12  1/24  1/6   -1/2⎦  ⎣0  0\n",
       "\n",
       "  0  0⎤⎞\n",
       "      ⎥⎟\n",
       "  0  0⎥⎟\n",
       "      ⎥⎟\n",
       "  1  0⎥⎟\n",
       "      ⎥⎟\n",
       "  0  1⎦⎠"
      ]
     },
     "execution_count": 118,
     "metadata": {},
     "output_type": "execute_result"
    }
   ],
   "source": [
    "Cm, imf.E, imf2.E, imf.M"
   ]
  },
  {
   "cell_type": "code",
   "execution_count": 208,
   "metadata": {},
   "outputs": [
    {
     "data": {
      "text/latex": [
       "$$\\left ( \\left[\\begin{matrix}\\frac{1}{4} & - \\frac{1}{12} & - \\frac{1}{12} & \\frac{1}{12}\\\\\\frac{1}{12} & \\frac{1}{4} & \\frac{1}{12} & \\frac{1}{12}\\\\\\frac{1}{12} & - \\frac{1}{12} & \\frac{1}{4} & - \\frac{1}{12}\\\\\\frac{1}{12} & \\frac{1}{12} & - \\frac{1}{12} & - \\frac{1}{4}\\end{matrix}\\right], \\quad \\left[\\begin{matrix}\\frac{1}{4} & - \\frac{1}{12} & - \\frac{1}{12} & \\frac{1}{12}\\\\\\frac{1}{12} & \\frac{1}{4} & \\frac{1}{12} & \\frac{1}{12}\\\\\\frac{1}{12} & - \\frac{1}{12} & \\frac{1}{4} & - \\frac{1}{12}\\\\\\frac{1}{12} & \\frac{1}{12} & - \\frac{1}{12} & - \\frac{1}{4}\\end{matrix}\\right], \\quad \\left[\\begin{matrix}\\frac{1}{4} & - \\frac{1}{12} & - \\frac{1}{12} & \\frac{1}{12}\\\\\\frac{1}{12} & \\frac{1}{4} & \\frac{1}{12} & \\frac{1}{12}\\\\\\frac{1}{12} & - \\frac{1}{12} & \\frac{1}{4} & - \\frac{1}{12}\\\\\\frac{1}{12} & \\frac{1}{12} & - \\frac{1}{12} & - \\frac{1}{4}\\end{matrix}\\right]\\right )$$"
      ],
      "text/plain": [
       "⎛⎡1/4   -1/12  -1/12  1/12 ⎤  ⎡1/4   -1/12  -1/12  1/12 ⎤  ⎡1/4   -1/12  -1/12\n",
       "⎜⎢                         ⎥  ⎢                         ⎥  ⎢                  \n",
       "⎜⎢1/12   1/4   1/12   1/12 ⎥  ⎢1/12   1/4   1/12   1/12 ⎥  ⎢1/12   1/4   1/12 \n",
       "⎜⎢                         ⎥, ⎢                         ⎥, ⎢                  \n",
       "⎜⎢1/12  -1/12   1/4   -1/12⎥  ⎢1/12  -1/12   1/4   -1/12⎥  ⎢1/12  -1/12   1/4 \n",
       "⎜⎢                         ⎥  ⎢                         ⎥  ⎢                  \n",
       "⎝⎣1/12  1/12   -1/12  -1/4 ⎦  ⎣1/12  1/12   -1/12  -1/4 ⎦  ⎣1/12  1/12   -1/12\n",
       "\n",
       "  1/12 ⎤⎞\n",
       "       ⎥⎟\n",
       "  1/12 ⎥⎟\n",
       "       ⎥⎟\n",
       "  -1/12⎥⎟\n",
       "       ⎥⎟\n",
       "  -1/4 ⎦⎠"
      ]
     },
     "execution_count": 208,
     "metadata": {},
     "output_type": "execute_result"
    }
   ],
   "source": [
    "Cm**-1, imf4.E, imf5.E"
   ]
  },
  {
   "cell_type": "code",
   "execution_count": 209,
   "metadata": {},
   "outputs": [
    {
     "data": {
      "text/plain": [
       "True"
      ]
     },
     "execution_count": 209,
     "metadata": {},
     "output_type": "execute_result"
    }
   ],
   "source": [
    "Cm**-1==imf4.E==imf5.E"
   ]
  },
  {
   "cell_type": "code",
   "execution_count": 67,
   "metadata": {},
   "outputs": [
    {
     "data": {
      "text/latex": [
       "$$\\left[\\begin{matrix}\\frac{17}{15} & - \\frac{11}{45} & \\frac{7}{45} & \\frac{31}{45}\\\\- \\frac{3}{25} & \\frac{59}{75} & \\frac{2}{75} & \\frac{56}{75}\\\\\\frac{47}{270} & \\frac{1}{90} & \\frac{209}{270} & - \\frac{173}{270}\\\\- \\frac{7}{180} & - \\frac{11}{60} & \\frac{11}{180} & \\frac{223}{180}\\end{matrix}\\right]$$"
      ],
      "text/plain": [
       "⎡  17    -11          31  ⎤\n",
       "⎢  ──    ────  7/45   ──  ⎥\n",
       "⎢  15     45          45  ⎥\n",
       "⎢                         ⎥\n",
       "⎢         59          56  ⎥\n",
       "⎢-3/25    ──   2/75   ──  ⎥\n",
       "⎢         75          75  ⎥\n",
       "⎢                         ⎥\n",
       "⎢  47          209   -173 ⎥\n",
       "⎢ ───    1/90  ───   ─────⎥\n",
       "⎢ 270          270    270 ⎥\n",
       "⎢                         ⎥\n",
       "⎢        -11    11    223 ⎥\n",
       "⎢-7/180  ────  ───    ─── ⎥\n",
       "⎣         60   180    180 ⎦"
      ]
     },
     "execution_count": 67,
     "metadata": {},
     "output_type": "execute_result"
    }
   ],
   "source": [
    "imf.E*Cm"
   ]
  },
  {
   "cell_type": "code",
   "execution_count": 56,
   "metadata": {},
   "outputs": [
    {
     "data": {
      "text/latex": [
       "$$\\left[\\begin{matrix}\\frac{1}{4} & - \\frac{1}{12} & - \\frac{1}{12} & \\frac{1}{12}\\\\\\frac{1}{12} & \\frac{1}{4} & \\frac{1}{12} & \\frac{1}{12}\\\\\\frac{1}{12} & - \\frac{1}{12} & \\frac{1}{4} & - \\frac{1}{12}\\\\\\frac{1}{12} & \\frac{1}{12} & - \\frac{1}{12} & - \\frac{1}{4}\\end{matrix}\\right]$$"
      ],
      "text/plain": [
       "⎡1/4   -1/12  -1/12  1/12 ⎤\n",
       "⎢                         ⎥\n",
       "⎢1/12   1/4   1/12   1/12 ⎥\n",
       "⎢                         ⎥\n",
       "⎢1/12  -1/12   1/4   -1/12⎥\n",
       "⎢                         ⎥\n",
       "⎣1/12  1/12   -1/12  -1/4 ⎦"
      ]
     },
     "execution_count": 56,
     "metadata": {},
     "output_type": "execute_result"
    }
   ],
   "source": [
    "Cm2"
   ]
  },
  {
   "cell_type": "code",
   "execution_count": 66,
   "metadata": {},
   "outputs": [
    {
     "data": {
      "text/latex": [
       "$$\\left[\\begin{matrix}-3 & 3 & 9 & -3\\end{matrix}\\right]$$"
      ],
      "text/plain": [
       "[-3  3  9  -3]"
      ]
     },
     "execution_count": 66,
     "metadata": {},
     "output_type": "execute_result"
    }
   ],
   "source": [
    "Cm[2,:]*smp.S(3)"
   ]
  },
  {
   "cell_type": "code",
   "execution_count": 67,
   "metadata": {},
   "outputs": [
    {
     "name": "stdout",
     "output_type": "stream",
     "text": [
      "[[ 2.]\n",
      " [-2.]\n",
      " [ 6.]\n",
      " [-2.]]\n",
      "[[-2.  2.  6. -2.]]\n",
      "[[ 3.  1.  1.  1.]\n",
      " [-1.  3. -1.  1.]\n",
      " [-1.  1.  3. -1.]\n",
      " [ 1.  1. -1. -3.]]\n",
      "[[1. 0. 0. 0.]\n",
      " [0. 1. 0. 0.]\n",
      " [0. 0. 1. 0.]\n",
      " [0. 0. 0. 1.]]\n"
     ]
    }
   ],
   "source": [
    "E = np.eye(4)\n",
    "E\n",
    "print(C[:,2]*2)\n",
    "print(C[2,:]*2)\n",
    "print(C, E, sep='\\n')"
   ]
  },
  {
   "cell_type": "code",
   "execution_count": 74,
   "metadata": {},
   "outputs": [
    {
     "name": "stdout",
     "output_type": "stream",
     "text": [
      "[[ 3.  1.  2.  1.]\n",
      " [-1.  3. -2.  1.]\n",
      " [-1.  1.  6. -1.]\n",
      " [ 1.  1. -2. -3.]]\n",
      "(4, 4)\n"
     ]
    }
   ],
   "source": [
    "C2 = np.copy(C)\n",
    "C2[:,2] = C2[:,2]*2\n",
    "print(C2)\n",
    "print(C.shape)"
   ]
  },
  {
   "cell_type": "code",
   "execution_count": 17,
   "metadata": {},
   "outputs": [
    {
     "data": {
      "text/plain": [
       "sympy.core.numbers.One"
      ]
     },
     "execution_count": 17,
     "metadata": {},
     "output_type": "execute_result"
    }
   ],
   "source": [
    "type(smp.S(1))"
   ]
  }
 ],
 "metadata": {
  "kernelspec": {
   "display_name": "Python 3",
   "language": "python",
   "name": "python3"
  },
  "language_info": {
   "codemirror_mode": {
    "name": "ipython",
    "version": 3
   },
   "file_extension": ".py",
   "mimetype": "text/x-python",
   "name": "python",
   "nbconvert_exporter": "python",
   "pygments_lexer": "ipython3",
   "version": "3.6.6"
  }
 },
 "nbformat": 4,
 "nbformat_minor": 2
}
