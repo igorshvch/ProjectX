{
 "cells": [
  {
   "cell_type": "code",
   "execution_count": 1,
   "metadata": {},
   "outputs": [
    {
     "name": "stderr",
     "output_type": "stream",
     "text": [
      "2019-11-28 17:16:16,040 : INFO : Loading dictionaries from C:\\Users\\EA-ShevchenkoIS\\AppData\\Local\\Continuum\\anaconda3\\lib\\site-packages\\pymorphy2_dicts\\data\n",
      "2019-11-28 17:16:16,318 : INFO : format: 2.4, revision: 393442, updated: 2015-01-17T16:03:56.586168\n",
      "2019-11-28 17:16:16,558 : INFO : Loading dictionaries from C:\\Users\\EA-ShevchenkoIS\\AppData\\Local\\Continuum\\anaconda3\\lib\\site-packages\\pymorphy2_dicts\\data\n",
      "2019-11-28 17:16:16,631 : INFO : format: 2.4, revision: 393442, updated: 2015-01-17T16:03:56.586168\n"
     ]
    }
   ],
   "source": [
    "import logging\n",
    "logging.basicConfig(format='%(asctime)s : %(levelname)s : %(message)s', level=logging.INFO)\n",
    "import re\n",
    "from collections import Counter\n",
    "\n",
    "import gensim as gsm\n",
    "import pymorphy2 as pmr\n",
    "\n",
    "from guidialogs import ffp, fdp\n",
    "from textproc import rwtools\n",
    "from tempscripts import codeutils as cdu\n",
    "from tempscripts import corpproc as crp\n",
    "from tempscripts import iopickler as iop\n",
    "from tempscripts import reader_for_csv as rfc"
   ]
  },
  {
   "cell_type": "code",
   "execution_count": null,
   "metadata": {},
   "outputs": [],
   "source": []
  }
 ],
 "metadata": {
  "kernelspec": {
   "display_name": "Python 3",
   "language": "python",
   "name": "python3"
  },
  "language_info": {
   "codemirror_mode": {
    "name": "ipython",
    "version": 3
   },
   "file_extension": ".py",
   "mimetype": "text/x-python",
   "name": "python",
   "nbconvert_exporter": "python",
   "pygments_lexer": "ipython3",
   "version": "3.6.6"
  }
 },
 "nbformat": 4,
 "nbformat_minor": 2
}
